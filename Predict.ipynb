{
  "nbformat": 4,
  "nbformat_minor": 0,
  "metadata": {
    "colab": {
      "provenance": [],
      "authorship_tag": "ABX9TyNnlVX4OmeCzcGAcEYoLx8h",
      "include_colab_link": true
    },
    "kernelspec": {
      "name": "python3",
      "display_name": "Python 3"
    },
    "language_info": {
      "name": "python"
    },
    "widgets": {
      "application/vnd.jupyter.widget-state+json": {
        "c74b1309c94f4054b546bfce80625034": {
          "model_module": "@jupyter-widgets/controls",
          "model_name": "HBoxModel",
          "model_module_version": "1.5.0",
          "state": {
            "_dom_classes": [],
            "_model_module": "@jupyter-widgets/controls",
            "_model_module_version": "1.5.0",
            "_model_name": "HBoxModel",
            "_view_count": null,
            "_view_module": "@jupyter-widgets/controls",
            "_view_module_version": "1.5.0",
            "_view_name": "HBoxView",
            "box_style": "",
            "children": [
              "IPY_MODEL_3dfe8907ee1645c593e7e03ef2586a08",
              "IPY_MODEL_36d6b46d139a4b9183ba880ee6351165",
              "IPY_MODEL_75e668c9195247be938473cafe7901bd"
            ],
            "layout": "IPY_MODEL_cb9f8c9b22f141568ac7627c31007a65"
          }
        },
        "3dfe8907ee1645c593e7e03ef2586a08": {
          "model_module": "@jupyter-widgets/controls",
          "model_name": "HTMLModel",
          "model_module_version": "1.5.0",
          "state": {
            "_dom_classes": [],
            "_model_module": "@jupyter-widgets/controls",
            "_model_module_version": "1.5.0",
            "_model_name": "HTMLModel",
            "_view_count": null,
            "_view_module": "@jupyter-widgets/controls",
            "_view_module_version": "1.5.0",
            "_view_name": "HTMLView",
            "description": "",
            "description_tooltip": null,
            "layout": "IPY_MODEL_ef8feaafb08c4db6ae1271fd6fc4bb5f",
            "placeholder": "​",
            "style": "IPY_MODEL_a67cd2ce03cf4caea985e83724886077",
            "value": " 37%"
          }
        },
        "36d6b46d139a4b9183ba880ee6351165": {
          "model_module": "@jupyter-widgets/controls",
          "model_name": "FloatProgressModel",
          "model_module_version": "1.5.0",
          "state": {
            "_dom_classes": [],
            "_model_module": "@jupyter-widgets/controls",
            "_model_module_version": "1.5.0",
            "_model_name": "FloatProgressModel",
            "_view_count": null,
            "_view_module": "@jupyter-widgets/controls",
            "_view_module_version": "1.5.0",
            "_view_name": "ProgressView",
            "bar_style": "danger",
            "description": "",
            "description_tooltip": null,
            "layout": "IPY_MODEL_9b6eb1431fe849ab860a1cd69a82542c",
            "max": 355,
            "min": 0,
            "orientation": "horizontal",
            "style": "IPY_MODEL_1c26856242cd4d8694aef6e04768f22c",
            "value": 130
          }
        },
        "75e668c9195247be938473cafe7901bd": {
          "model_module": "@jupyter-widgets/controls",
          "model_name": "HTMLModel",
          "model_module_version": "1.5.0",
          "state": {
            "_dom_classes": [],
            "_model_module": "@jupyter-widgets/controls",
            "_model_module_version": "1.5.0",
            "_model_name": "HTMLModel",
            "_view_count": null,
            "_view_module": "@jupyter-widgets/controls",
            "_view_module_version": "1.5.0",
            "_view_name": "HTMLView",
            "description": "",
            "description_tooltip": null,
            "layout": "IPY_MODEL_d3616a53db5941dfbca65966866ff1bf",
            "placeholder": "​",
            "style": "IPY_MODEL_acb031bb99dd4f62907c109890fb20c2",
            "value": " 130/355 [00:38&lt;01:17,  2.92it/s]"
          }
        },
        "cb9f8c9b22f141568ac7627c31007a65": {
          "model_module": "@jupyter-widgets/base",
          "model_name": "LayoutModel",
          "model_module_version": "1.2.0",
          "state": {
            "_model_module": "@jupyter-widgets/base",
            "_model_module_version": "1.2.0",
            "_model_name": "LayoutModel",
            "_view_count": null,
            "_view_module": "@jupyter-widgets/base",
            "_view_module_version": "1.2.0",
            "_view_name": "LayoutView",
            "align_content": null,
            "align_items": null,
            "align_self": null,
            "border": null,
            "bottom": null,
            "display": null,
            "flex": null,
            "flex_flow": null,
            "grid_area": null,
            "grid_auto_columns": null,
            "grid_auto_flow": null,
            "grid_auto_rows": null,
            "grid_column": null,
            "grid_gap": null,
            "grid_row": null,
            "grid_template_areas": null,
            "grid_template_columns": null,
            "grid_template_rows": null,
            "height": null,
            "justify_content": null,
            "justify_items": null,
            "left": null,
            "margin": null,
            "max_height": null,
            "max_width": null,
            "min_height": null,
            "min_width": null,
            "object_fit": null,
            "object_position": null,
            "order": null,
            "overflow": null,
            "overflow_x": null,
            "overflow_y": null,
            "padding": null,
            "right": null,
            "top": null,
            "visibility": null,
            "width": null
          }
        },
        "ef8feaafb08c4db6ae1271fd6fc4bb5f": {
          "model_module": "@jupyter-widgets/base",
          "model_name": "LayoutModel",
          "model_module_version": "1.2.0",
          "state": {
            "_model_module": "@jupyter-widgets/base",
            "_model_module_version": "1.2.0",
            "_model_name": "LayoutModel",
            "_view_count": null,
            "_view_module": "@jupyter-widgets/base",
            "_view_module_version": "1.2.0",
            "_view_name": "LayoutView",
            "align_content": null,
            "align_items": null,
            "align_self": null,
            "border": null,
            "bottom": null,
            "display": null,
            "flex": null,
            "flex_flow": null,
            "grid_area": null,
            "grid_auto_columns": null,
            "grid_auto_flow": null,
            "grid_auto_rows": null,
            "grid_column": null,
            "grid_gap": null,
            "grid_row": null,
            "grid_template_areas": null,
            "grid_template_columns": null,
            "grid_template_rows": null,
            "height": null,
            "justify_content": null,
            "justify_items": null,
            "left": null,
            "margin": null,
            "max_height": null,
            "max_width": null,
            "min_height": null,
            "min_width": null,
            "object_fit": null,
            "object_position": null,
            "order": null,
            "overflow": null,
            "overflow_x": null,
            "overflow_y": null,
            "padding": null,
            "right": null,
            "top": null,
            "visibility": null,
            "width": null
          }
        },
        "a67cd2ce03cf4caea985e83724886077": {
          "model_module": "@jupyter-widgets/controls",
          "model_name": "DescriptionStyleModel",
          "model_module_version": "1.5.0",
          "state": {
            "_model_module": "@jupyter-widgets/controls",
            "_model_module_version": "1.5.0",
            "_model_name": "DescriptionStyleModel",
            "_view_count": null,
            "_view_module": "@jupyter-widgets/base",
            "_view_module_version": "1.2.0",
            "_view_name": "StyleView",
            "description_width": ""
          }
        },
        "9b6eb1431fe849ab860a1cd69a82542c": {
          "model_module": "@jupyter-widgets/base",
          "model_name": "LayoutModel",
          "model_module_version": "1.2.0",
          "state": {
            "_model_module": "@jupyter-widgets/base",
            "_model_module_version": "1.2.0",
            "_model_name": "LayoutModel",
            "_view_count": null,
            "_view_module": "@jupyter-widgets/base",
            "_view_module_version": "1.2.0",
            "_view_name": "LayoutView",
            "align_content": null,
            "align_items": null,
            "align_self": null,
            "border": null,
            "bottom": null,
            "display": null,
            "flex": null,
            "flex_flow": null,
            "grid_area": null,
            "grid_auto_columns": null,
            "grid_auto_flow": null,
            "grid_auto_rows": null,
            "grid_column": null,
            "grid_gap": null,
            "grid_row": null,
            "grid_template_areas": null,
            "grid_template_columns": null,
            "grid_template_rows": null,
            "height": null,
            "justify_content": null,
            "justify_items": null,
            "left": null,
            "margin": null,
            "max_height": null,
            "max_width": null,
            "min_height": null,
            "min_width": null,
            "object_fit": null,
            "object_position": null,
            "order": null,
            "overflow": null,
            "overflow_x": null,
            "overflow_y": null,
            "padding": null,
            "right": null,
            "top": null,
            "visibility": null,
            "width": null
          }
        },
        "1c26856242cd4d8694aef6e04768f22c": {
          "model_module": "@jupyter-widgets/controls",
          "model_name": "ProgressStyleModel",
          "model_module_version": "1.5.0",
          "state": {
            "_model_module": "@jupyter-widgets/controls",
            "_model_module_version": "1.5.0",
            "_model_name": "ProgressStyleModel",
            "_view_count": null,
            "_view_module": "@jupyter-widgets/base",
            "_view_module_version": "1.2.0",
            "_view_name": "StyleView",
            "bar_color": null,
            "description_width": ""
          }
        },
        "d3616a53db5941dfbca65966866ff1bf": {
          "model_module": "@jupyter-widgets/base",
          "model_name": "LayoutModel",
          "model_module_version": "1.2.0",
          "state": {
            "_model_module": "@jupyter-widgets/base",
            "_model_module_version": "1.2.0",
            "_model_name": "LayoutModel",
            "_view_count": null,
            "_view_module": "@jupyter-widgets/base",
            "_view_module_version": "1.2.0",
            "_view_name": "LayoutView",
            "align_content": null,
            "align_items": null,
            "align_self": null,
            "border": null,
            "bottom": null,
            "display": null,
            "flex": null,
            "flex_flow": null,
            "grid_area": null,
            "grid_auto_columns": null,
            "grid_auto_flow": null,
            "grid_auto_rows": null,
            "grid_column": null,
            "grid_gap": null,
            "grid_row": null,
            "grid_template_areas": null,
            "grid_template_columns": null,
            "grid_template_rows": null,
            "height": null,
            "justify_content": null,
            "justify_items": null,
            "left": null,
            "margin": null,
            "max_height": null,
            "max_width": null,
            "min_height": null,
            "min_width": null,
            "object_fit": null,
            "object_position": null,
            "order": null,
            "overflow": null,
            "overflow_x": null,
            "overflow_y": null,
            "padding": null,
            "right": null,
            "top": null,
            "visibility": null,
            "width": null
          }
        },
        "acb031bb99dd4f62907c109890fb20c2": {
          "model_module": "@jupyter-widgets/controls",
          "model_name": "DescriptionStyleModel",
          "model_module_version": "1.5.0",
          "state": {
            "_model_module": "@jupyter-widgets/controls",
            "_model_module_version": "1.5.0",
            "_model_name": "DescriptionStyleModel",
            "_view_count": null,
            "_view_module": "@jupyter-widgets/base",
            "_view_module_version": "1.2.0",
            "_view_name": "StyleView",
            "description_width": ""
          }
        }
      }
    },
    "accelerator": "GPU",
    "gpuClass": "standard"
  },
  "cells": [
    {
      "cell_type": "markdown",
      "metadata": {
        "id": "view-in-github",
        "colab_type": "text"
      },
      "source": [
        "<a href=\"https://colab.research.google.com/github/Rachna0604/Object-Lane_Detection/blob/main/Predict.ipynb\" target=\"_parent\"><img src=\"https://colab.research.google.com/assets/colab-badge.svg\" alt=\"Open In Colab\"/></a>"
      ]
    },
    {
      "cell_type": "markdown",
      "source": [
        "## Downloading Packages"
      ],
      "metadata": {
        "id": "OZoINd01J0Rg"
      }
    },
    {
      "cell_type": "code",
      "execution_count": null,
      "metadata": {
        "colab": {
          "base_uri": "https://localhost:8080/"
        },
        "id": "3OCvqQ1bJxQz",
        "outputId": "6031bb08-2bb6-4ccb-fd6c-09802efb0359"
      },
      "outputs": [
        {
          "output_type": "stream",
          "name": "stdout",
          "text": [
            "Looking in indexes: https://pypi.org/simple, https://us-python.pkg.dev/colab-wheels/public/simple/\n",
            "Requirement already satisfied: numpy in /usr/local/lib/python3.8/dist-packages (1.21.6)\n",
            "Looking in indexes: https://pypi.org/simple, https://us-python.pkg.dev/colab-wheels/public/simple/\n",
            "Requirement already satisfied: torch in /usr/local/lib/python3.8/dist-packages (1.12.1+cu113)\n",
            "Requirement already satisfied: typing-extensions in /usr/local/lib/python3.8/dist-packages (from torch) (4.1.1)\n",
            "Looking in indexes: https://pypi.org/simple, https://us-python.pkg.dev/colab-wheels/public/simple/\n",
            "Requirement already satisfied: scipy in /usr/local/lib/python3.8/dist-packages (1.7.3)\n",
            "Requirement already satisfied: numpy<1.23.0,>=1.16.5 in /usr/local/lib/python3.8/dist-packages (from scipy) (1.21.6)\n",
            "Looking in indexes: https://pypi.org/simple, https://us-python.pkg.dev/colab-wheels/public/simple/\n",
            "Collecting imageio==2.4.1\n",
            "  Downloading imageio-2.4.1.tar.gz (3.3 MB)\n",
            "\u001b[K     |████████████████████████████████| 3.3 MB 4.8 MB/s \n",
            "\u001b[?25hRequirement already satisfied: numpy in /usr/local/lib/python3.8/dist-packages (from imageio==2.4.1) (1.21.6)\n",
            "Requirement already satisfied: pillow in /usr/local/lib/python3.8/dist-packages (from imageio==2.4.1) (7.1.2)\n",
            "Building wheels for collected packages: imageio\n",
            "  Building wheel for imageio (setup.py) ... \u001b[?25l\u001b[?25hdone\n",
            "  Created wheel for imageio: filename=imageio-2.4.1-py3-none-any.whl size=3303886 sha256=316c6f522baa9646758f081fa999f2a5b4244f3a3561de8964e741fe7f95988a\n",
            "  Stored in directory: /root/.cache/pip/wheels/be/7b/04/4d8d56f1d503e5c404f0de6018c0cfa592c71588a39b49e002\n",
            "Successfully built imageio\n",
            "Installing collected packages: imageio\n",
            "  Attempting uninstall: imageio\n",
            "    Found existing installation: imageio 2.9.0\n",
            "    Uninstalling imageio-2.9.0:\n",
            "      Successfully uninstalled imageio-2.9.0\n",
            "Successfully installed imageio-2.4.1\n",
            "Looking in indexes: https://pypi.org/simple, https://us-python.pkg.dev/colab-wheels/public/simple/\n",
            "Collecting imageio-ffmpeg\n",
            "  Downloading imageio_ffmpeg-0.4.7-py3-none-manylinux2010_x86_64.whl (26.9 MB)\n",
            "\u001b[K     |████████████████████████████████| 26.9 MB 112.9 MB/s \n",
            "\u001b[?25hInstalling collected packages: imageio-ffmpeg\n",
            "Successfully installed imageio-ffmpeg-0.4.7\n",
            "Looking in indexes: https://pypi.org/simple, https://us-python.pkg.dev/colab-wheels/public/simple/\n",
            "Collecting pyngrok\n",
            "  Downloading pyngrok-5.2.1.tar.gz (761 kB)\n",
            "\u001b[K     |████████████████████████████████| 761 kB 4.6 MB/s \n",
            "\u001b[?25hRequirement already satisfied: PyYAML in /usr/local/lib/python3.8/dist-packages (from pyngrok) (6.0)\n",
            "Building wheels for collected packages: pyngrok\n",
            "  Building wheel for pyngrok (setup.py) ... \u001b[?25l\u001b[?25hdone\n",
            "  Created wheel for pyngrok: filename=pyngrok-5.2.1-py3-none-any.whl size=19792 sha256=84189f3bd0e49645ea4b65e0814e734b87198f9797c501b406e869568154b37c\n",
            "  Stored in directory: /root/.cache/pip/wheels/5d/f2/70/526da675d32f17577ec47ac4c663084efe39d47c826b6c3bb1\n",
            "Successfully built pyngrok\n",
            "Installing collected packages: pyngrok\n",
            "Successfully installed pyngrok-5.2.1\n",
            "Selecting previously unselected package python3-cffi-backend.\n",
            "(Reading database ... 124015 files and directories currently installed.)\n",
            "Preparing to unpack .../0-python3-cffi-backend_1.11.5-1_amd64.deb ...\n",
            "Unpacking python3-cffi-backend (1.11.5-1) ...\n",
            "Selecting previously unselected package python3-ply.\n",
            "Preparing to unpack .../1-python3-ply_3.11-1_all.deb ...\n",
            "Unpacking python3-ply (3.11-1) ...\n",
            "Selecting previously unselected package python3-pycparser.\n",
            "Preparing to unpack .../2-python3-pycparser_2.18-2_all.deb ...\n",
            "Unpacking python3-pycparser (2.18-2) ...\n",
            "Selecting previously unselected package python3-cffi.\n",
            "Preparing to unpack .../3-python3-cffi_1.11.5-1_all.deb ...\n",
            "Unpacking python3-cffi (1.11.5-1) ...\n",
            "Selecting previously unselected package python3-pkg-resources.\n",
            "Preparing to unpack .../4-python3-pkg-resources_39.0.1-2_all.deb ...\n",
            "Unpacking python3-pkg-resources (39.0.1-2) ...\n",
            "Selecting previously unselected package python3-xattr.\n",
            "Preparing to unpack .../5-python3-xattr_0.9.2-0ubuntu1_amd64.deb ...\n",
            "Unpacking python3-xattr (0.9.2-0ubuntu1) ...\n",
            "Selecting previously unselected package xattr.\n",
            "Preparing to unpack .../6-xattr_0.9.2-0ubuntu1_amd64.deb ...\n",
            "Unpacking xattr (0.9.2-0ubuntu1) ...\n",
            "Setting up python3-cffi-backend (1.11.5-1) ...\n",
            "Setting up python3-pkg-resources (39.0.1-2) ...\n",
            "/usr/lib/python3.8/subprocess.py:842: RuntimeWarning: line buffering (buffering=1) isn't supported in binary mode, the default buffer size will be used\n",
            "  self.stdin = io.open(p2cwrite, 'wb', bufsize)\n",
            "Setting up python3-ply (3.11-1) ...\n",
            "/usr/lib/python3.8/subprocess.py:842: RuntimeWarning: line buffering (buffering=1) isn't supported in binary mode, the default buffer size will be used\n",
            "  self.stdin = io.open(p2cwrite, 'wb', bufsize)\n",
            "Setting up python3-pycparser (2.18-2) ...\n",
            "/usr/lib/python3.8/subprocess.py:842: RuntimeWarning: line buffering (buffering=1) isn't supported in binary mode, the default buffer size will be used\n",
            "  self.stdin = io.open(p2cwrite, 'wb', bufsize)\n",
            "Setting up python3-cffi (1.11.5-1) ...\n",
            "/usr/lib/python3.8/subprocess.py:842: RuntimeWarning: line buffering (buffering=1) isn't supported in binary mode, the default buffer size will be used\n",
            "  self.stdin = io.open(p2cwrite, 'wb', bufsize)\n",
            "Setting up python3-xattr (0.9.2-0ubuntu1) ...\n",
            "/usr/lib/python3.8/subprocess.py:842: RuntimeWarning: line buffering (buffering=1) isn't supported in binary mode, the default buffer size will be used\n",
            "  self.stdin = io.open(p2cwrite, 'wb', bufsize)\n",
            "Setting up xattr (0.9.2-0ubuntu1) ...\n",
            "Processing triggers for man-db (2.8.3-2ubuntu0.1) ...\n"
          ]
        }
      ],
      "source": [
        "!pip install numpy\n",
        "!pip install torch\n",
        "! pip install scipy\n",
        "! pip install imageio==2.4.1\n",
        "! pip install imageio-ffmpeg\n",
        "!pip install pyngrok\n",
        "!apt-get install -qq xattr"
      ]
    },
    {
      "cell_type": "code",
      "source": [
        "# accessing g drive\n",
        "from google.colab import drive\n",
        "drive.mount('/content/drive', force_remount=True)"
      ],
      "metadata": {
        "colab": {
          "base_uri": "https://localhost:8080/"
        },
        "id": "-EZGboIDLDj3",
        "outputId": "34214a93-61e5-4a35-fd2e-bdcb5f53ceb1"
      },
      "execution_count": null,
      "outputs": [
        {
          "output_type": "stream",
          "name": "stdout",
          "text": [
            "Mounted at /content/drive\n"
          ]
        }
      ]
    },
    {
      "cell_type": "code",
      "source": [
        "# cloning repo\n",
        "!git clone https://github.com/ultralytics/yolov5.git\n",
        "!pip install -U pycocotools\n",
        "!pip install -qr yolov5/requirements.txt  # install dependencies\n",
        "!cp yolov5/requirements.txt ./"
      ],
      "metadata": {
        "colab": {
          "base_uri": "https://localhost:8080/"
        },
        "id": "NAXYevHbLF05",
        "outputId": "5386c9cd-ef13-4602-bd3f-13498042f54a"
      },
      "execution_count": null,
      "outputs": [
        {
          "output_type": "stream",
          "name": "stdout",
          "text": [
            "Cloning into 'yolov5'...\n",
            "remote: Enumerating objects: 14302, done.\u001b[K\n",
            "remote: Counting objects: 100% (60/60), done.\u001b[K\n",
            "remote: Compressing objects: 100% (51/51), done.\u001b[K\n",
            "remote: Total 14302 (delta 26), reused 30 (delta 9), pack-reused 14242\u001b[K\n",
            "Receiving objects: 100% (14302/14302), 13.65 MiB | 29.92 MiB/s, done.\n",
            "Resolving deltas: 100% (9833/9833), done.\n",
            "Looking in indexes: https://pypi.org/simple, https://us-python.pkg.dev/colab-wheels/public/simple/\n",
            "Requirement already satisfied: pycocotools in /usr/local/lib/python3.8/dist-packages (2.0.6)\n",
            "Requirement already satisfied: numpy in /usr/local/lib/python3.8/dist-packages (from pycocotools) (1.21.6)\n",
            "Requirement already satisfied: matplotlib>=2.1.0 in /usr/local/lib/python3.8/dist-packages (from pycocotools) (3.2.2)\n",
            "Requirement already satisfied: python-dateutil>=2.1 in /usr/local/lib/python3.8/dist-packages (from matplotlib>=2.1.0->pycocotools) (2.8.2)\n",
            "Requirement already satisfied: cycler>=0.10 in /usr/local/lib/python3.8/dist-packages (from matplotlib>=2.1.0->pycocotools) (0.11.0)\n",
            "Requirement already satisfied: pyparsing!=2.0.4,!=2.1.2,!=2.1.6,>=2.0.1 in /usr/local/lib/python3.8/dist-packages (from matplotlib>=2.1.0->pycocotools) (3.0.9)\n",
            "Requirement already satisfied: kiwisolver>=1.0.1 in /usr/local/lib/python3.8/dist-packages (from matplotlib>=2.1.0->pycocotools) (1.4.4)\n",
            "Requirement already satisfied: six>=1.5 in /usr/local/lib/python3.8/dist-packages (from python-dateutil>=2.1->matplotlib>=2.1.0->pycocotools) (1.15.0)\n",
            "\u001b[K     |████████████████████████████████| 182 kB 4.5 MB/s \n",
            "\u001b[K     |████████████████████████████████| 62 kB 1.5 MB/s \n",
            "\u001b[K     |████████████████████████████████| 1.6 MB 48.1 MB/s \n",
            "\u001b[?25h"
          ]
        }
      ]
    },
    {
      "cell_type": "markdown",
      "source": [
        "## Importing Modules"
      ],
      "metadata": {
        "id": "YM46KRrIOVnv"
      }
    },
    {
      "cell_type": "code",
      "source": [
        "import os, time, random\n",
        "import numpy as np\n",
        "import matplotlib.image as mpimg\n",
        "import matplotlib.pyplot as plt\n",
        "import pandas as pd\n",
        "import cv2, torch\n",
        "from google.colab.patches import cv2_imshow\n",
        "from tqdm.auto import tqdm #tqdm is a library in Python which is used for creating Progress Meters or Progress Bars\n",
        "import shutil as sh #The shutil module offers a number of high-level operations on files and collection\n",
        "from IPython.display import Image, clear_output\n",
        "%matplotlib inline\n",
        "import matplotlib.pyplot as plt\n",
        "import matplotlib.animation as animation\n",
        "from skimage.transform import resize\n",
        "from IPython.display import HTML\n",
        "from PIL import Image\n",
        "from base64 import b64encode\n",
        "from google.colab import files\n",
        "from moviepy.editor import VideoFileClip\n",
        "from tensorflow import keras\n",
        "from keras.models import model_from_json\n",
        "from flask import Flask, render_template , request \n",
        "from werkzeug.utils import secure_filename\n",
        "from pyngrok import ngrok\n",
        "model = keras.models.load_model('/content/drive/MyDrive/ds3project/model.h5')"
      ],
      "metadata": {
        "colab": {
          "base_uri": "https://localhost:8080/"
        },
        "id": "U_X66nnAOVAf",
        "outputId": "e178c7f2-27b8-4229-d2b9-4e339423f1c7"
      },
      "execution_count": null,
      "outputs": [
        {
          "output_type": "stream",
          "name": "stdout",
          "text": [
            "Imageio: 'ffmpeg-linux64-v3.3.1' was not found on your computer; downloading it now.\n",
            "Try 1. Download from https://github.com/imageio/imageio-binaries/raw/master/ffmpeg/ffmpeg-linux64-v3.3.1 (43.8 MB)\n",
            "Downloading: 8192/45929032 bytes (0.0%)\b\b\b\b\b\b\b\b\b\b\b\b\b\b\b\b\b\b\b\b\b\b\b\b\b\b2940928/45929032 bytes (6.4%)\b\b\b\b\b\b\b\b\b\b\b\b\b\b\b\b\b\b\b\b\b\b\b\b\b\b\b\b\b5775360/45929032 bytes (12.6%)\b\b\b\b\b\b\b\b\b\b\b\b\b\b\b\b\b\b\b\b\b\b\b\b\b\b\b\b\b\b10051584/45929032 bytes (21.9%)\b\b\b\b\b\b\b\b\b\b\b\b\b\b\b\b\b\b\b\b\b\b\b\b\b\b\b\b\b\b\b14295040/45929032 bytes (31.1%)\b\b\b\b\b\b\b\b\b\b\b\b\b\b\b\b\b\b\b\b\b\b\b\b\b\b\b\b\b\b\b18587648/45929032 bytes (40.5%)\b\b\b\b\b\b\b\b\b\b\b\b\b\b\b\b\b\b\b\b\b\b\b\b\b\b\b\b\b\b\b22937600/45929032 bytes (49.9%)\b\b\b\b\b\b\b\b\b\b\b\b\b\b\b\b\b\b\b\b\b\b\b\b\b\b\b\b\b\b\b27320320/45929032 bytes (59.5%)\b\b\b\b\b\b\b\b\b\b\b\b\b\b\b\b\b\b\b\b\b\b\b\b\b\b\b\b\b\b\b31621120/45929032 bytes (68.8%)\b\b\b\b\b\b\b\b\b\b\b\b\b\b\b\b\b\b\b\b\b\b\b\b\b\b\b\b\b\b\b35758080/45929032 bytes (77.9%)\b\b\b\b\b\b\b\b\b\b\b\b\b\b\b\b\b\b\b\b\b\b\b\b\b\b\b\b\b\b\b40165376/45929032 bytes (87.5%)\b\b\b\b\b\b\b\b\b\b\b\b\b\b\b\b\b\b\b\b\b\b\b\b\b\b\b\b\b\b\b44351488/45929032 bytes (96.6%)\b\b\b\b\b\b\b\b\b\b\b\b\b\b\b\b\b\b\b\b\b\b\b\b\b\b\b\b\b\b\b45929032/45929032 bytes (100.0%)\n",
            "  Done\n",
            "File saved as /root/.imageio/ffmpeg/ffmpeg-linux64-v3.3.1.\n"
          ]
        }
      ]
    },
    {
      "cell_type": "markdown",
      "source": [
        "## Data Pre-Processing"
      ],
      "metadata": {
        "id": "uY3vBnoORxTg"
      }
    },
    {
      "cell_type": "code",
      "source": [
        "img_h, img_w, num_channels = (380, 676, 3)\n",
        "df = pd.read_csv('/content/drive/MyDrive/ds3project/data/train_solution_bounding_boxes.csv')\n",
        "df.rename(columns={'image':'image_id'}, inplace=True)\n",
        "df['image_id'] = df['image_id'].apply(lambda x: x.split('.')[0])\n",
        "df['x_center'] = (df['xmin'] + df['xmax'])/2\n",
        "df['y_center'] = (df['ymin'] + df['ymax'])/2\n",
        "df['w'] = df['xmax'] - df['xmin']\n",
        "df['h'] = df['ymax'] - df['ymin']\n",
        "df['classes'] = 0\n",
        "df['x_center'] = df['x_center']/img_w\n",
        "df['w'] = df['w']/img_w\n",
        "df['y_center'] = df['y_center']/img_h\n",
        "df['h'] = df['h']/img_h"
      ],
      "metadata": {
        "id": "mkV9owjJQ9UU"
      },
      "execution_count": null,
      "outputs": []
    },
    {
      "cell_type": "markdown",
      "source": [
        "## Converting Data to YOLO format"
      ],
      "metadata": {
        "id": "f9_VGLp0SDqy"
      }
    },
    {
      "cell_type": "code",
      "source": [
        "index = list(set(df.image_id)) #creates a set object.\n",
        "source = 'training_images'\n",
        "if True:\n",
        "    for fold in [0]:\n",
        "        val_index = index[len(index)*fold//5:len(index)*(fold+1)//5]\n",
        "        for name,mini in tqdm(df.groupby('image_id')):\n",
        "            #print(name,mini)\n",
        "            if name in val_index:\n",
        "                path2save = 'val2017/'\n",
        "            else:\n",
        "                path2save = 'train2017/'\n",
        "            if not os.path.exists('/tmp/convertor/fold{}/labels/'.format(fold)+path2save):\n",
        "                os.makedirs('/tmp/convertor/fold{}/labels/'.format(fold)+path2save)\n",
        "            with open('/tmp/convertor/fold{}/labels/'.format(fold)+path2save+name+\".txt\", 'w+') as f:\n",
        "                row = mini[['classes','x_center','y_center','w','h']].astype(float).values\n",
        "                row = row.astype(str)\n",
        "                for j in range(len(row)):\n",
        "                    text = ' '.join(row[j])\n",
        "                    f.write(text)\n",
        "                    f.write(\"\\n\")\n",
        "            if not os.path.exists('/tmp/convertor/fold{}/images/{}'.format(fold,path2save)):\n",
        "                os.makedirs('/tmp/convertor/fold{}/images/{}'.format(fold,path2save))\n",
        "            sh.copy(\"/content/drive/MyDrive/ds3project/data/{}/{}.jpg\".format(source,name),'/tmp/convertor/fold{}/images/{}/{}.jpg'.format(fold,path2save,name))"
      ],
      "metadata": {
        "colab": {
          "base_uri": "https://localhost:8080/",
          "height": 415,
          "referenced_widgets": [
            "c74b1309c94f4054b546bfce80625034",
            "3dfe8907ee1645c593e7e03ef2586a08",
            "36d6b46d139a4b9183ba880ee6351165",
            "75e668c9195247be938473cafe7901bd",
            "cb9f8c9b22f141568ac7627c31007a65",
            "ef8feaafb08c4db6ae1271fd6fc4bb5f",
            "a67cd2ce03cf4caea985e83724886077",
            "9b6eb1431fe849ab860a1cd69a82542c",
            "1c26856242cd4d8694aef6e04768f22c",
            "d3616a53db5941dfbca65966866ff1bf",
            "acb031bb99dd4f62907c109890fb20c2"
          ]
        },
        "id": "iUZwuvrmR7fS",
        "outputId": "5cf608ae-e60e-4086-e8c6-e1079dd85116"
      },
      "execution_count": null,
      "outputs": [
        {
          "output_type": "display_data",
          "data": {
            "text/plain": [
              "  0%|          | 0/355 [00:00<?, ?it/s]"
            ],
            "application/vnd.jupyter.widget-view+json": {
              "version_major": 2,
              "version_minor": 0,
              "model_id": "c74b1309c94f4054b546bfce80625034"
            }
          },
          "metadata": {}
        },
        {
          "output_type": "error",
          "ename": "KeyboardInterrupt",
          "evalue": "ignored",
          "traceback": [
            "\u001b[0;31m---------------------------------------------------------------------------\u001b[0m",
            "\u001b[0;31mKeyboardInterrupt\u001b[0m                         Traceback (most recent call last)",
            "\u001b[0;32m<ipython-input-7-4581eb2d502b>\u001b[0m in \u001b[0;36m<module>\u001b[0;34m\u001b[0m\n\u001b[1;32m     21\u001b[0m             \u001b[0;32mif\u001b[0m \u001b[0;32mnot\u001b[0m \u001b[0mos\u001b[0m\u001b[0;34m.\u001b[0m\u001b[0mpath\u001b[0m\u001b[0;34m.\u001b[0m\u001b[0mexists\u001b[0m\u001b[0;34m(\u001b[0m\u001b[0;34m'/tmp/convertor/fold{}/images/{}'\u001b[0m\u001b[0;34m.\u001b[0m\u001b[0mformat\u001b[0m\u001b[0;34m(\u001b[0m\u001b[0mfold\u001b[0m\u001b[0;34m,\u001b[0m\u001b[0mpath2save\u001b[0m\u001b[0;34m)\u001b[0m\u001b[0;34m)\u001b[0m\u001b[0;34m:\u001b[0m\u001b[0;34m\u001b[0m\u001b[0;34m\u001b[0m\u001b[0m\n\u001b[1;32m     22\u001b[0m                 \u001b[0mos\u001b[0m\u001b[0;34m.\u001b[0m\u001b[0mmakedirs\u001b[0m\u001b[0;34m(\u001b[0m\u001b[0;34m'/tmp/convertor/fold{}/images/{}'\u001b[0m\u001b[0;34m.\u001b[0m\u001b[0mformat\u001b[0m\u001b[0;34m(\u001b[0m\u001b[0mfold\u001b[0m\u001b[0;34m,\u001b[0m\u001b[0mpath2save\u001b[0m\u001b[0;34m)\u001b[0m\u001b[0;34m)\u001b[0m\u001b[0;34m\u001b[0m\u001b[0;34m\u001b[0m\u001b[0m\n\u001b[0;32m---> 23\u001b[0;31m             \u001b[0msh\u001b[0m\u001b[0;34m.\u001b[0m\u001b[0mcopy\u001b[0m\u001b[0;34m(\u001b[0m\u001b[0;34m\"/content/drive/MyDrive/ds3project/data/{}/{}.jpg\"\u001b[0m\u001b[0;34m.\u001b[0m\u001b[0mformat\u001b[0m\u001b[0;34m(\u001b[0m\u001b[0msource\u001b[0m\u001b[0;34m,\u001b[0m\u001b[0mname\u001b[0m\u001b[0;34m)\u001b[0m\u001b[0;34m,\u001b[0m\u001b[0;34m'/tmp/convertor/fold{}/images/{}/{}.jpg'\u001b[0m\u001b[0;34m.\u001b[0m\u001b[0mformat\u001b[0m\u001b[0;34m(\u001b[0m\u001b[0mfold\u001b[0m\u001b[0;34m,\u001b[0m\u001b[0mpath2save\u001b[0m\u001b[0;34m,\u001b[0m\u001b[0mname\u001b[0m\u001b[0;34m)\u001b[0m\u001b[0;34m)\u001b[0m\u001b[0;34m\u001b[0m\u001b[0;34m\u001b[0m\u001b[0m\n\u001b[0m",
            "\u001b[0;32m/usr/lib/python3.8/shutil.py\u001b[0m in \u001b[0;36mcopy\u001b[0;34m(src, dst, follow_symlinks)\u001b[0m\n\u001b[1;32m    416\u001b[0m     \u001b[0;32mif\u001b[0m \u001b[0mos\u001b[0m\u001b[0;34m.\u001b[0m\u001b[0mpath\u001b[0m\u001b[0;34m.\u001b[0m\u001b[0misdir\u001b[0m\u001b[0;34m(\u001b[0m\u001b[0mdst\u001b[0m\u001b[0;34m)\u001b[0m\u001b[0;34m:\u001b[0m\u001b[0;34m\u001b[0m\u001b[0;34m\u001b[0m\u001b[0m\n\u001b[1;32m    417\u001b[0m         \u001b[0mdst\u001b[0m \u001b[0;34m=\u001b[0m \u001b[0mos\u001b[0m\u001b[0;34m.\u001b[0m\u001b[0mpath\u001b[0m\u001b[0;34m.\u001b[0m\u001b[0mjoin\u001b[0m\u001b[0;34m(\u001b[0m\u001b[0mdst\u001b[0m\u001b[0;34m,\u001b[0m \u001b[0mos\u001b[0m\u001b[0;34m.\u001b[0m\u001b[0mpath\u001b[0m\u001b[0;34m.\u001b[0m\u001b[0mbasename\u001b[0m\u001b[0;34m(\u001b[0m\u001b[0msrc\u001b[0m\u001b[0;34m)\u001b[0m\u001b[0;34m)\u001b[0m\u001b[0;34m\u001b[0m\u001b[0;34m\u001b[0m\u001b[0m\n\u001b[0;32m--> 418\u001b[0;31m     \u001b[0mcopyfile\u001b[0m\u001b[0;34m(\u001b[0m\u001b[0msrc\u001b[0m\u001b[0;34m,\u001b[0m \u001b[0mdst\u001b[0m\u001b[0;34m,\u001b[0m \u001b[0mfollow_symlinks\u001b[0m\u001b[0;34m=\u001b[0m\u001b[0mfollow_symlinks\u001b[0m\u001b[0;34m)\u001b[0m\u001b[0;34m\u001b[0m\u001b[0;34m\u001b[0m\u001b[0m\n\u001b[0m\u001b[1;32m    419\u001b[0m     \u001b[0mcopymode\u001b[0m\u001b[0;34m(\u001b[0m\u001b[0msrc\u001b[0m\u001b[0;34m,\u001b[0m \u001b[0mdst\u001b[0m\u001b[0;34m,\u001b[0m \u001b[0mfollow_symlinks\u001b[0m\u001b[0;34m=\u001b[0m\u001b[0mfollow_symlinks\u001b[0m\u001b[0;34m)\u001b[0m\u001b[0;34m\u001b[0m\u001b[0;34m\u001b[0m\u001b[0m\n\u001b[1;32m    420\u001b[0m     \u001b[0;32mreturn\u001b[0m \u001b[0mdst\u001b[0m\u001b[0;34m\u001b[0m\u001b[0;34m\u001b[0m\u001b[0m\n",
            "\u001b[0;32m/usr/lib/python3.8/shutil.py\u001b[0m in \u001b[0;36mcopyfile\u001b[0;34m(src, dst, follow_symlinks)\u001b[0m\n\u001b[1;32m    273\u001b[0m             \u001b[0;32melif\u001b[0m \u001b[0m_USE_CP_SENDFILE\u001b[0m\u001b[0;34m:\u001b[0m\u001b[0;34m\u001b[0m\u001b[0;34m\u001b[0m\u001b[0m\n\u001b[1;32m    274\u001b[0m                 \u001b[0;32mtry\u001b[0m\u001b[0;34m:\u001b[0m\u001b[0;34m\u001b[0m\u001b[0;34m\u001b[0m\u001b[0m\n\u001b[0;32m--> 275\u001b[0;31m                     \u001b[0m_fastcopy_sendfile\u001b[0m\u001b[0;34m(\u001b[0m\u001b[0mfsrc\u001b[0m\u001b[0;34m,\u001b[0m \u001b[0mfdst\u001b[0m\u001b[0;34m)\u001b[0m\u001b[0;34m\u001b[0m\u001b[0;34m\u001b[0m\u001b[0m\n\u001b[0m\u001b[1;32m    276\u001b[0m                     \u001b[0;32mreturn\u001b[0m \u001b[0mdst\u001b[0m\u001b[0;34m\u001b[0m\u001b[0;34m\u001b[0m\u001b[0m\n\u001b[1;32m    277\u001b[0m                 \u001b[0;32mexcept\u001b[0m \u001b[0m_GiveupOnFastCopy\u001b[0m\u001b[0;34m:\u001b[0m\u001b[0;34m\u001b[0m\u001b[0;34m\u001b[0m\u001b[0m\n",
            "\u001b[0;32m/usr/lib/python3.8/shutil.py\u001b[0m in \u001b[0;36m_fastcopy_sendfile\u001b[0;34m(fsrc, fdst)\u001b[0m\n\u001b[1;32m    150\u001b[0m     \u001b[0;32mwhile\u001b[0m \u001b[0;32mTrue\u001b[0m\u001b[0;34m:\u001b[0m\u001b[0;34m\u001b[0m\u001b[0;34m\u001b[0m\u001b[0m\n\u001b[1;32m    151\u001b[0m         \u001b[0;32mtry\u001b[0m\u001b[0;34m:\u001b[0m\u001b[0;34m\u001b[0m\u001b[0;34m\u001b[0m\u001b[0m\n\u001b[0;32m--> 152\u001b[0;31m             \u001b[0msent\u001b[0m \u001b[0;34m=\u001b[0m \u001b[0mos\u001b[0m\u001b[0;34m.\u001b[0m\u001b[0msendfile\u001b[0m\u001b[0;34m(\u001b[0m\u001b[0moutfd\u001b[0m\u001b[0;34m,\u001b[0m \u001b[0minfd\u001b[0m\u001b[0;34m,\u001b[0m \u001b[0moffset\u001b[0m\u001b[0;34m,\u001b[0m \u001b[0mblocksize\u001b[0m\u001b[0;34m)\u001b[0m\u001b[0;34m\u001b[0m\u001b[0;34m\u001b[0m\u001b[0m\n\u001b[0m\u001b[1;32m    153\u001b[0m         \u001b[0;32mexcept\u001b[0m \u001b[0mOSError\u001b[0m \u001b[0;32mas\u001b[0m \u001b[0merr\u001b[0m\u001b[0;34m:\u001b[0m\u001b[0;34m\u001b[0m\u001b[0;34m\u001b[0m\u001b[0m\n\u001b[1;32m    154\u001b[0m             \u001b[0;31m# ...in oder to have a more informative exception.\u001b[0m\u001b[0;34m\u001b[0m\u001b[0;34m\u001b[0m\u001b[0;34m\u001b[0m\u001b[0m\n",
            "\u001b[0;31mKeyboardInterrupt\u001b[0m: "
          ]
        }
      ]
    },
    {
      "cell_type": "markdown",
      "source": [
        "## Lane Detection Algorithm"
      ],
      "metadata": {
        "id": "DKda25W-V-uO"
      }
    },
    {
      "cell_type": "code",
      "source": [
        "class Lanes():\n",
        "  def __init__(self):\n",
        "    self.recent_fit = []\n",
        "    self.avg_fit = []\n",
        "lanes = Lanes()\n",
        "def road_lines(image):\n",
        "  im = Image.fromarray(image)\n",
        "  size = tuple((np.array(im.size)).astype(np.uint8))\n",
        "  small_image  = np.array(im.resize((160,80), Image.BICUBIC))\n",
        "  small_image = small_image[None,:,:,:]  \n",
        "  prediction = model.predict(small_image)[0] * 255  # As prediction is between 0 and 1, we multiply by 255 so that it can be used as an image\n",
        "  lanes.recent_fit.append(prediction)\n",
        "\n",
        "  if len(lanes.recent_fit) > 5:\n",
        "    lanes.recent_fit = lanes.recent_fit[1:]\n",
        "  \n",
        "  lanes.avg_fit = np.mean(np.array([i for i in lanes.recent_fit]), axis = 0)\n",
        "  blanks = np.zeros_like(lanes.avg_fit).astype(np.uint8)\n",
        "  lane_drawn = np.dstack((blanks, lanes.avg_fit, blanks))\n",
        "  lane_image = resize(lane_drawn, image.shape).astype(np.uint8)\n",
        "  result = cv2.addWeighted(image, 1, lane_image, 1, 0) \n",
        "  \n",
        "  return result"
      ],
      "metadata": {
        "id": "vIdspKsrSNQ8"
      },
      "execution_count": null,
      "outputs": []
    },
    {
      "cell_type": "markdown",
      "source": [
        "## Object Detection Function"
      ],
      "metadata": {
        "id": "GzGUwklwWe9w"
      }
    },
    {
      "cell_type": "code",
      "source": [
        "def detect(file):\n",
        "  !python yolov5/detect.py --weights yolov5/yolov5s.pt --img 704 --conf 0.4 --source /content/drive/MyDrive/ds3project/test_videos/{file} --exist-ok\n",
        "  path = 'yolov5/runs/detect/exp/{}'.format(file)\n",
        "  vidin = VideoFileClip(path)\n",
        "  lanes = Lanes()\n",
        "  vid_clip = vidin.fl_image(road_lines)\n",
        "  vid_clip.write_videofile('/content/drive/MyDrive/ds3project/static/video/{}'.format(file))"
      ],
      "metadata": {
        "id": "mVhFYA-MWdb0"
      },
      "execution_count": null,
      "outputs": []
    },
    {
      "cell_type": "markdown",
      "source": [
        "## Server Initiation to run the Website"
      ],
      "metadata": {
        "id": "eLxAm8YNXI0i"
      }
    },
    {
      "cell_type": "code",
      "source": [
        "port_no = 5000\n",
        "app = Flask(__name__,template_folder='/content/drive/MyDrive/ds3project/templates', static_folder='/content/drive/MyDrive/ds3project/static')\n",
        "ngrok.set_auth_token(\"2I6L3d8tO03XZKJUm8aRjcHGyvA_72U4BEyCJgiMT1Y98BKsM\")\n",
        "public_url =  ngrok.connect(port_no).public_url\n",
        "\n",
        "@app.route(\"/\")  \n",
        "@app.route('/reg')\n",
        "def reg():\n",
        "    return render_template(\"home.html\")\n",
        "\n",
        "@app.route('/submit', methods = ['POST'])\n",
        "def submit():\n",
        "    f = request.files['video']\n",
        "    detect(secure_filename(f.filename))\n",
        "    #reading the saved output file and presenting it throught the server\n",
        "    video_n = \"/content/drive/MyDrive/ds3project/static/video/{}\".format(f.filename)\n",
        "    id = !xattr -p 'user.drive.id' {video_n}\n",
        "    id = \"https://drive.google.com/file/d/{}/preview\".format(id[0])\n",
        "    return render_template(\"view.html\", data = input, video = id)\n",
        "\n",
        "print(f\"To acces the Global link please click {public_url}\")\n",
        "\n",
        "app.run(port=port_no)"
      ],
      "metadata": {
        "colab": {
          "base_uri": "https://localhost:8080/"
        },
        "id": "wlrkbMWjWvcR",
        "outputId": "f03a76aa-785c-4908-f6e2-7b0e703d3b52"
      },
      "execution_count": null,
      "outputs": [
        {
          "output_type": "stream",
          "name": "stdout",
          "text": [
            "To acces the Global link please click http://c074-34-68-109-67.ngrok.io\n",
            " * Serving Flask app \"__main__\" (lazy loading)\n",
            " * Environment: production\n",
            "\u001b[31m   WARNING: This is a development server. Do not use it in a production deployment.\u001b[0m\n",
            "\u001b[2m   Use a production WSGI server instead.\u001b[0m\n",
            " * Debug mode: off\n"
          ]
        },
        {
          "output_type": "stream",
          "name": "stderr",
          "text": [
            "INFO:werkzeug: * Running on http://127.0.0.1:5000/ (Press CTRL+C to quit)\n",
            "INFO:werkzeug:127.0.0.1 - - [05/Dec/2022 07:25:22] \"\u001b[37mGET / HTTP/1.1\u001b[0m\" 200 -\n",
            "INFO:werkzeug:127.0.0.1 - - [05/Dec/2022 07:25:25] \"\u001b[33mGET /favicon.ico HTTP/1.1\u001b[0m\" 404 -\n",
            "INFO:werkzeug:127.0.0.1 - - [05/Dec/2022 07:25:28] \"\u001b[37mGET / HTTP/1.1\u001b[0m\" 200 -\n",
            "INFO:werkzeug:127.0.0.1 - - [05/Dec/2022 07:25:29] \"\u001b[37mGET /static/css/home.css HTTP/1.1\u001b[0m\" 200 -\n"
          ]
        },
        {
          "output_type": "stream",
          "name": "stdout",
          "text": [
            "\u001b[34m\u001b[1mdetect: \u001b[0mweights=['yolov5/yolov5s.pt'], source=/content/drive/MyDrive/ds3project/test_videos/stock1.mp4, data=yolov5/data/coco128.yaml, imgsz=[704, 704], conf_thres=0.4, iou_thres=0.45, max_det=1000, device=, view_img=False, save_txt=False, save_conf=False, save_crop=False, nosave=False, classes=None, agnostic_nms=False, augment=False, visualize=False, update=False, project=yolov5/runs/detect, name=exp, exist_ok=True, line_thickness=3, hide_labels=False, hide_conf=False, half=False, dnn=False, vid_stride=1\n",
            "YOLOv5 🚀 v7.0-23-g5dc1ce4 Python-3.8.15 torch-1.12.1+cu113 CUDA:0 (Tesla T4, 15110MiB)\n",
            "\n",
            "Downloading https://github.com/ultralytics/yolov5/releases/download/v7.0/yolov5s.pt to yolov5/yolov5s.pt...\n",
            "100% 14.1M/14.1M [00:00<00:00, 126MB/s]\n",
            "\n",
            "Fusing layers... \n",
            "YOLOv5s summary: 213 layers, 7225885 parameters, 0 gradients\n",
            "video 1/1 (1/393) /content/drive/MyDrive/ds3project/test_videos/stock1.mp4: 416x704 3 persons, 11 cars, 1 truck, 4 traffic lights, 12.9ms\n",
            "video 1/1 (2/393) /content/drive/MyDrive/ds3project/test_videos/stock1.mp4: 416x704 4 persons, 12 cars, 1 truck, 4 traffic lights, 10.9ms\n",
            "video 1/1 (3/393) /content/drive/MyDrive/ds3project/test_videos/stock1.mp4: 416x704 3 persons, 8 cars, 1 truck, 3 traffic lights, 10.9ms\n",
            "video 1/1 (4/393) /content/drive/MyDrive/ds3project/test_videos/stock1.mp4: 416x704 4 persons, 11 cars, 1 truck, 2 traffic lights, 10.8ms\n",
            "video 1/1 (5/393) /content/drive/MyDrive/ds3project/test_videos/stock1.mp4: 416x704 6 persons, 11 cars, 1 truck, 2 traffic lights, 10.9ms\n",
            "video 1/1 (6/393) /content/drive/MyDrive/ds3project/test_videos/stock1.mp4: 416x704 5 persons, 11 cars, 1 truck, 2 traffic lights, 10.9ms\n",
            "video 1/1 (7/393) /content/drive/MyDrive/ds3project/test_videos/stock1.mp4: 416x704 5 persons, 9 cars, 1 truck, 2 traffic lights, 10.8ms\n",
            "video 1/1 (8/393) /content/drive/MyDrive/ds3project/test_videos/stock1.mp4: 416x704 5 persons, 10 cars, 1 truck, 2 traffic lights, 10.9ms\n",
            "video 1/1 (9/393) /content/drive/MyDrive/ds3project/test_videos/stock1.mp4: 416x704 5 persons, 11 cars, 1 truck, 3 traffic lights, 1 handbag, 10.9ms\n",
            "video 1/1 (10/393) /content/drive/MyDrive/ds3project/test_videos/stock1.mp4: 416x704 6 persons, 10 cars, 1 truck, 3 traffic lights, 1 handbag, 10.9ms\n",
            "video 1/1 (11/393) /content/drive/MyDrive/ds3project/test_videos/stock1.mp4: 416x704 5 persons, 11 cars, 2 trucks, 2 traffic lights, 10.9ms\n",
            "video 1/1 (12/393) /content/drive/MyDrive/ds3project/test_videos/stock1.mp4: 416x704 4 persons, 9 cars, 2 traffic lights, 1 handbag, 10.9ms\n",
            "video 1/1 (13/393) /content/drive/MyDrive/ds3project/test_videos/stock1.mp4: 416x704 5 persons, 10 cars, 3 traffic lights, 1 handbag, 10.9ms\n",
            "video 1/1 (14/393) /content/drive/MyDrive/ds3project/test_videos/stock1.mp4: 416x704 6 persons, 10 cars, 3 traffic lights, 1 handbag, 11.0ms\n",
            "video 1/1 (15/393) /content/drive/MyDrive/ds3project/test_videos/stock1.mp4: 416x704 7 persons, 14 cars, 3 traffic lights, 1 handbag, 10.9ms\n",
            "video 1/1 (16/393) /content/drive/MyDrive/ds3project/test_videos/stock1.mp4: 416x704 7 persons, 13 cars, 3 traffic lights, 1 handbag, 10.9ms\n",
            "video 1/1 (17/393) /content/drive/MyDrive/ds3project/test_videos/stock1.mp4: 416x704 7 persons, 13 cars, 3 traffic lights, 1 handbag, 10.9ms\n",
            "video 1/1 (18/393) /content/drive/MyDrive/ds3project/test_videos/stock1.mp4: 416x704 8 persons, 11 cars, 2 traffic lights, 1 handbag, 10.9ms\n",
            "video 1/1 (19/393) /content/drive/MyDrive/ds3project/test_videos/stock1.mp4: 416x704 8 persons, 10 cars, 3 traffic lights, 11.0ms\n",
            "video 1/1 (20/393) /content/drive/MyDrive/ds3project/test_videos/stock1.mp4: 416x704 7 persons, 10 cars, 2 traffic lights, 1 handbag, 10.9ms\n",
            "video 1/1 (21/393) /content/drive/MyDrive/ds3project/test_videos/stock1.mp4: 416x704 7 persons, 11 cars, 2 traffic lights, 1 handbag, 10.9ms\n",
            "video 1/1 (22/393) /content/drive/MyDrive/ds3project/test_videos/stock1.mp4: 416x704 7 persons, 10 cars, 1 truck, 2 traffic lights, 1 handbag, 11.1ms\n",
            "video 1/1 (23/393) /content/drive/MyDrive/ds3project/test_videos/stock1.mp4: 416x704 6 persons, 12 cars, 1 bus, 2 traffic lights, 10.9ms\n",
            "video 1/1 (24/393) /content/drive/MyDrive/ds3project/test_videos/stock1.mp4: 416x704 8 persons, 11 cars, 1 bus, 2 traffic lights, 10.9ms\n",
            "video 1/1 (25/393) /content/drive/MyDrive/ds3project/test_videos/stock1.mp4: 416x704 9 persons, 11 cars, 1 bus, 3 traffic lights, 10.9ms\n",
            "video 1/1 (26/393) /content/drive/MyDrive/ds3project/test_videos/stock1.mp4: 416x704 9 persons, 10 cars, 3 traffic lights, 10.9ms\n",
            "video 1/1 (27/393) /content/drive/MyDrive/ds3project/test_videos/stock1.mp4: 416x704 8 persons, 9 cars, 3 traffic lights, 10.9ms\n",
            "video 1/1 (28/393) /content/drive/MyDrive/ds3project/test_videos/stock1.mp4: 416x704 7 persons, 8 cars, 3 traffic lights, 11.0ms\n",
            "video 1/1 (29/393) /content/drive/MyDrive/ds3project/test_videos/stock1.mp4: 416x704 7 persons, 7 cars, 2 traffic lights, 10.9ms\n",
            "video 1/1 (30/393) /content/drive/MyDrive/ds3project/test_videos/stock1.mp4: 416x704 8 persons, 10 cars, 3 traffic lights, 10.9ms\n",
            "video 1/1 (31/393) /content/drive/MyDrive/ds3project/test_videos/stock1.mp4: 416x704 7 persons, 10 cars, 4 traffic lights, 10.9ms\n",
            "video 1/1 (32/393) /content/drive/MyDrive/ds3project/test_videos/stock1.mp4: 416x704 8 persons, 10 cars, 4 traffic lights, 11.0ms\n",
            "video 1/1 (33/393) /content/drive/MyDrive/ds3project/test_videos/stock1.mp4: 416x704 7 persons, 8 cars, 1 truck, 4 traffic lights, 11.0ms\n",
            "video 1/1 (34/393) /content/drive/MyDrive/ds3project/test_videos/stock1.mp4: 416x704 7 persons, 13 cars, 1 truck, 4 traffic lights, 10.9ms\n",
            "video 1/1 (35/393) /content/drive/MyDrive/ds3project/test_videos/stock1.mp4: 416x704 7 persons, 9 cars, 1 truck, 4 traffic lights, 10.9ms\n",
            "video 1/1 (36/393) /content/drive/MyDrive/ds3project/test_videos/stock1.mp4: 416x704 9 persons, 9 cars, 1 truck, 4 traffic lights, 10.9ms\n",
            "video 1/1 (37/393) /content/drive/MyDrive/ds3project/test_videos/stock1.mp4: 416x704 9 persons, 9 cars, 1 truck, 3 traffic lights, 10.9ms\n",
            "video 1/1 (38/393) /content/drive/MyDrive/ds3project/test_videos/stock1.mp4: 416x704 10 persons, 13 cars, 1 bus, 2 traffic lights, 11.0ms\n",
            "video 1/1 (39/393) /content/drive/MyDrive/ds3project/test_videos/stock1.mp4: 416x704 10 persons, 12 cars, 1 bus, 2 traffic lights, 10.9ms\n",
            "video 1/1 (40/393) /content/drive/MyDrive/ds3project/test_videos/stock1.mp4: 416x704 9 persons, 12 cars, 1 bus, 3 traffic lights, 12.8ms\n",
            "video 1/1 (41/393) /content/drive/MyDrive/ds3project/test_videos/stock1.mp4: 416x704 9 persons, 10 cars, 1 truck, 3 traffic lights, 11.0ms\n",
            "video 1/1 (42/393) /content/drive/MyDrive/ds3project/test_videos/stock1.mp4: 416x704 8 persons, 11 cars, 1 truck, 2 traffic lights, 11.0ms\n",
            "video 1/1 (43/393) /content/drive/MyDrive/ds3project/test_videos/stock1.mp4: 416x704 8 persons, 13 cars, 3 traffic lights, 11.0ms\n",
            "video 1/1 (44/393) /content/drive/MyDrive/ds3project/test_videos/stock1.mp4: 416x704 8 persons, 10 cars, 1 truck, 3 traffic lights, 11.1ms\n",
            "video 1/1 (45/393) /content/drive/MyDrive/ds3project/test_videos/stock1.mp4: 416x704 8 persons, 10 cars, 3 traffic lights, 10.9ms\n",
            "video 1/1 (46/393) /content/drive/MyDrive/ds3project/test_videos/stock1.mp4: 416x704 9 persons, 9 cars, 2 traffic lights, 10.9ms\n",
            "video 1/1 (47/393) /content/drive/MyDrive/ds3project/test_videos/stock1.mp4: 416x704 8 persons, 11 cars, 2 traffic lights, 10.9ms\n",
            "video 1/1 (48/393) /content/drive/MyDrive/ds3project/test_videos/stock1.mp4: 416x704 9 persons, 10 cars, 1 truck, 3 traffic lights, 11.2ms\n",
            "video 1/1 (49/393) /content/drive/MyDrive/ds3project/test_videos/stock1.mp4: 416x704 8 persons, 13 cars, 2 traffic lights, 10.9ms\n",
            "video 1/1 (50/393) /content/drive/MyDrive/ds3project/test_videos/stock1.mp4: 416x704 9 persons, 12 cars, 3 traffic lights, 10.9ms\n",
            "video 1/1 (51/393) /content/drive/MyDrive/ds3project/test_videos/stock1.mp4: 416x704 10 persons, 10 cars, 2 traffic lights, 10.9ms\n",
            "video 1/1 (52/393) /content/drive/MyDrive/ds3project/test_videos/stock1.mp4: 416x704 7 persons, 9 cars, 2 trucks, 4 traffic lights, 10.9ms\n",
            "video 1/1 (53/393) /content/drive/MyDrive/ds3project/test_videos/stock1.mp4: 416x704 8 persons, 10 cars, 3 traffic lights, 10.9ms\n",
            "video 1/1 (54/393) /content/drive/MyDrive/ds3project/test_videos/stock1.mp4: 416x704 8 persons, 12 cars, 1 truck, 2 traffic lights, 10.9ms\n",
            "video 1/1 (55/393) /content/drive/MyDrive/ds3project/test_videos/stock1.mp4: 416x704 8 persons, 9 cars, 1 truck, 2 traffic lights, 10.9ms\n",
            "video 1/1 (56/393) /content/drive/MyDrive/ds3project/test_videos/stock1.mp4: 416x704 7 persons, 9 cars, 1 truck, 2 traffic lights, 10.9ms\n",
            "video 1/1 (57/393) /content/drive/MyDrive/ds3project/test_videos/stock1.mp4: 416x704 7 persons, 10 cars, 2 traffic lights, 11.4ms\n",
            "video 1/1 (58/393) /content/drive/MyDrive/ds3project/test_videos/stock1.mp4: 416x704 5 persons, 11 cars, 1 truck, 2 traffic lights, 1 handbag, 13.0ms\n",
            "video 1/1 (59/393) /content/drive/MyDrive/ds3project/test_videos/stock1.mp4: 416x704 7 persons, 12 cars, 1 truck, 2 traffic lights, 14.8ms\n",
            "video 1/1 (60/393) /content/drive/MyDrive/ds3project/test_videos/stock1.mp4: 416x704 6 persons, 13 cars, 1 truck, 2 traffic lights, 11.1ms\n",
            "video 1/1 (61/393) /content/drive/MyDrive/ds3project/test_videos/stock1.mp4: 416x704 6 persons, 9 cars, 1 truck, 2 traffic lights, 11.4ms\n",
            "video 1/1 (62/393) /content/drive/MyDrive/ds3project/test_videos/stock1.mp4: 416x704 5 persons, 12 cars, 1 truck, 2 traffic lights, 10.9ms\n",
            "video 1/1 (63/393) /content/drive/MyDrive/ds3project/test_videos/stock1.mp4: 416x704 8 persons, 12 cars, 1 truck, 2 traffic lights, 10.9ms\n",
            "video 1/1 (64/393) /content/drive/MyDrive/ds3project/test_videos/stock1.mp4: 416x704 7 persons, 11 cars, 1 truck, 2 traffic lights, 11.1ms\n",
            "video 1/1 (65/393) /content/drive/MyDrive/ds3project/test_videos/stock1.mp4: 416x704 7 persons, 12 cars, 1 truck, 3 traffic lights, 10.9ms\n",
            "video 1/1 (66/393) /content/drive/MyDrive/ds3project/test_videos/stock1.mp4: 416x704 8 persons, 11 cars, 1 truck, 3 traffic lights, 10.9ms\n",
            "video 1/1 (67/393) /content/drive/MyDrive/ds3project/test_videos/stock1.mp4: 416x704 7 persons, 12 cars, 1 truck, 4 traffic lights, 1 handbag, 10.9ms\n",
            "video 1/1 (68/393) /content/drive/MyDrive/ds3project/test_videos/stock1.mp4: 416x704 8 persons, 13 cars, 1 truck, 2 traffic lights, 1 handbag, 10.9ms\n",
            "video 1/1 (69/393) /content/drive/MyDrive/ds3project/test_videos/stock1.mp4: 416x704 7 persons, 10 cars, 1 truck, 3 traffic lights, 1 handbag, 11.9ms\n",
            "video 1/1 (70/393) /content/drive/MyDrive/ds3project/test_videos/stock1.mp4: 416x704 9 persons, 11 cars, 1 truck, 2 traffic lights, 1 handbag, 10.9ms\n",
            "video 1/1 (71/393) /content/drive/MyDrive/ds3project/test_videos/stock1.mp4: 416x704 8 persons, 11 cars, 1 bus, 2 traffic lights, 10.9ms\n",
            "video 1/1 (72/393) /content/drive/MyDrive/ds3project/test_videos/stock1.mp4: 416x704 10 persons, 12 cars, 3 traffic lights, 10.9ms\n",
            "video 1/1 (73/393) /content/drive/MyDrive/ds3project/test_videos/stock1.mp4: 416x704 7 persons, 10 cars, 1 truck, 2 traffic lights, 10.9ms\n",
            "video 1/1 (74/393) /content/drive/MyDrive/ds3project/test_videos/stock1.mp4: 416x704 8 persons, 10 cars, 2 trucks, 3 traffic lights, 11.0ms\n",
            "video 1/1 (75/393) /content/drive/MyDrive/ds3project/test_videos/stock1.mp4: 416x704 7 persons, 10 cars, 1 truck, 2 traffic lights, 10.9ms\n",
            "video 1/1 (76/393) /content/drive/MyDrive/ds3project/test_videos/stock1.mp4: 416x704 8 persons, 9 cars, 3 traffic lights, 10.9ms\n",
            "video 1/1 (77/393) /content/drive/MyDrive/ds3project/test_videos/stock1.mp4: 416x704 8 persons, 10 cars, 3 trucks, 2 traffic lights, 10.9ms\n",
            "video 1/1 (78/393) /content/drive/MyDrive/ds3project/test_videos/stock1.mp4: 416x704 7 persons, 10 cars, 3 trucks, 2 traffic lights, 10.9ms\n",
            "video 1/1 (79/393) /content/drive/MyDrive/ds3project/test_videos/stock1.mp4: 416x704 6 persons, 9 cars, 4 trucks, 3 traffic lights, 10.9ms\n",
            "video 1/1 (80/393) /content/drive/MyDrive/ds3project/test_videos/stock1.mp4: 416x704 7 persons, 8 cars, 4 trucks, 2 traffic lights, 10.9ms\n",
            "video 1/1 (81/393) /content/drive/MyDrive/ds3project/test_videos/stock1.mp4: 416x704 8 persons, 7 cars, 3 trucks, 3 traffic lights, 10.9ms\n",
            "video 1/1 (82/393) /content/drive/MyDrive/ds3project/test_videos/stock1.mp4: 416x704 8 persons, 9 cars, 3 trucks, 4 traffic lights, 10.9ms\n",
            "video 1/1 (83/393) /content/drive/MyDrive/ds3project/test_videos/stock1.mp4: 416x704 9 persons, 9 cars, 1 bus, 3 trucks, 3 traffic lights, 11.0ms\n",
            "video 1/1 (84/393) /content/drive/MyDrive/ds3project/test_videos/stock1.mp4: 416x704 9 persons, 9 cars, 1 motorcycle, 3 trucks, 2 traffic lights, 10.9ms\n",
            "video 1/1 (85/393) /content/drive/MyDrive/ds3project/test_videos/stock1.mp4: 416x704 7 persons, 5 cars, 1 motorcycle, 3 trucks, 3 traffic lights, 10.9ms\n",
            "video 1/1 (86/393) /content/drive/MyDrive/ds3project/test_videos/stock1.mp4: 416x704 7 persons, 8 cars, 1 bus, 1 truck, 4 traffic lights, 11.1ms\n",
            "video 1/1 (87/393) /content/drive/MyDrive/ds3project/test_videos/stock1.mp4: 416x704 4 persons, 6 cars, 1 bus, 3 trucks, 3 traffic lights, 17.2ms\n",
            "video 1/1 (88/393) /content/drive/MyDrive/ds3project/test_videos/stock1.mp4: 416x704 6 persons, 8 cars, 3 trucks, 3 traffic lights, 11.1ms\n",
            "video 1/1 (89/393) /content/drive/MyDrive/ds3project/test_videos/stock1.mp4: 416x704 8 persons, 7 cars, 1 bus, 3 trucks, 3 traffic lights, 10.8ms\n",
            "video 1/1 (90/393) /content/drive/MyDrive/ds3project/test_videos/stock1.mp4: 416x704 7 persons, 5 cars, 1 bus, 2 trucks, 2 traffic lights, 10.9ms\n",
            "video 1/1 (91/393) /content/drive/MyDrive/ds3project/test_videos/stock1.mp4: 416x704 7 persons, 6 cars, 5 trucks, 2 traffic lights, 10.9ms\n",
            "video 1/1 (92/393) /content/drive/MyDrive/ds3project/test_videos/stock1.mp4: 416x704 11 persons, 8 cars, 1 bus, 4 trucks, 2 traffic lights, 10.9ms\n",
            "video 1/1 (93/393) /content/drive/MyDrive/ds3project/test_videos/stock1.mp4: 416x704 11 persons, 10 cars, 1 bus, 4 trucks, 2 traffic lights, 10.9ms\n",
            "video 1/1 (94/393) /content/drive/MyDrive/ds3project/test_videos/stock1.mp4: 416x704 12 persons, 11 cars, 1 bus, 3 trucks, 4 traffic lights, 10.9ms\n",
            "video 1/1 (95/393) /content/drive/MyDrive/ds3project/test_videos/stock1.mp4: 416x704 11 persons, 12 cars, 4 trucks, 3 traffic lights, 10.9ms\n",
            "video 1/1 (96/393) /content/drive/MyDrive/ds3project/test_videos/stock1.mp4: 416x704 9 persons, 10 cars, 4 trucks, 3 traffic lights, 11.9ms\n",
            "video 1/1 (97/393) /content/drive/MyDrive/ds3project/test_videos/stock1.mp4: 416x704 9 persons, 11 cars, 3 trucks, 2 traffic lights, 10.9ms\n",
            "video 1/1 (98/393) /content/drive/MyDrive/ds3project/test_videos/stock1.mp4: 416x704 7 persons, 10 cars, 5 trucks, 3 traffic lights, 10.9ms\n",
            "video 1/1 (99/393) /content/drive/MyDrive/ds3project/test_videos/stock1.mp4: 416x704 8 persons, 10 cars, 3 trucks, 2 traffic lights, 1 handbag, 11.5ms\n",
            "video 1/1 (100/393) /content/drive/MyDrive/ds3project/test_videos/stock1.mp4: 416x704 9 persons, 12 cars, 4 trucks, 2 traffic lights, 10.9ms\n",
            "video 1/1 (101/393) /content/drive/MyDrive/ds3project/test_videos/stock1.mp4: 416x704 10 persons, 9 cars, 1 bus, 1 truck, 2 traffic lights, 10.9ms\n",
            "video 1/1 (102/393) /content/drive/MyDrive/ds3project/test_videos/stock1.mp4: 416x704 8 persons, 10 cars, 2 buss, 2 trucks, 2 traffic lights, 10.9ms\n",
            "video 1/1 (103/393) /content/drive/MyDrive/ds3project/test_videos/stock1.mp4: 416x704 11 persons, 10 cars, 2 buss, 2 trucks, 2 traffic lights, 1 handbag, 11.2ms\n",
            "video 1/1 (104/393) /content/drive/MyDrive/ds3project/test_videos/stock1.mp4: 416x704 8 persons, 11 cars, 3 trucks, 2 traffic lights, 11.1ms\n",
            "video 1/1 (105/393) /content/drive/MyDrive/ds3project/test_videos/stock1.mp4: 416x704 12 persons, 11 cars, 4 trucks, 3 traffic lights, 10.9ms\n",
            "video 1/1 (106/393) /content/drive/MyDrive/ds3project/test_videos/stock1.mp4: 416x704 12 persons, 11 cars, 1 truck, 2 traffic lights, 10.9ms\n",
            "video 1/1 (107/393) /content/drive/MyDrive/ds3project/test_videos/stock1.mp4: 416x704 10 persons, 12 cars, 1 truck, 3 traffic lights, 1 handbag, 11.4ms\n",
            "video 1/1 (108/393) /content/drive/MyDrive/ds3project/test_videos/stock1.mp4: 416x704 10 persons, 13 cars, 1 bus, 2 trucks, 2 traffic lights, 1 handbag, 11.1ms\n",
            "video 1/1 (109/393) /content/drive/MyDrive/ds3project/test_videos/stock1.mp4: 416x704 10 persons, 13 cars, 2 trucks, 2 traffic lights, 1 handbag, 10.9ms\n",
            "video 1/1 (110/393) /content/drive/MyDrive/ds3project/test_videos/stock1.mp4: 416x704 8 persons, 13 cars, 1 bus, 1 truck, 2 traffic lights, 10.9ms\n",
            "video 1/1 (111/393) /content/drive/MyDrive/ds3project/test_videos/stock1.mp4: 416x704 10 persons, 12 cars, 1 bus, 1 truck, 3 traffic lights, 10.9ms\n",
            "video 1/1 (112/393) /content/drive/MyDrive/ds3project/test_videos/stock1.mp4: 416x704 11 persons, 13 cars, 1 bus, 1 truck, 2 traffic lights, 10.9ms\n",
            "video 1/1 (113/393) /content/drive/MyDrive/ds3project/test_videos/stock1.mp4: 416x704 10 persons, 11 cars, 1 truck, 2 traffic lights, 1 handbag, 10.9ms\n",
            "video 1/1 (114/393) /content/drive/MyDrive/ds3project/test_videos/stock1.mp4: 416x704 10 persons, 13 cars, 1 truck, 2 traffic lights, 11.6ms\n",
            "video 1/1 (115/393) /content/drive/MyDrive/ds3project/test_videos/stock1.mp4: 416x704 8 persons, 14 cars, 1 motorcycle, 1 truck, 2 traffic lights, 1 handbag, 10.9ms\n",
            "video 1/1 (116/393) /content/drive/MyDrive/ds3project/test_videos/stock1.mp4: 416x704 9 persons, 14 cars, 1 motorcycle, 3 traffic lights, 1 handbag, 10.9ms\n",
            "video 1/1 (117/393) /content/drive/MyDrive/ds3project/test_videos/stock1.mp4: 416x704 9 persons, 11 cars, 1 motorcycle, 2 traffic lights, 1 handbag, 10.9ms\n",
            "video 1/1 (118/393) /content/drive/MyDrive/ds3project/test_videos/stock1.mp4: 416x704 9 persons, 10 cars, 1 motorcycle, 2 traffic lights, 1 handbag, 10.9ms\n",
            "video 1/1 (119/393) /content/drive/MyDrive/ds3project/test_videos/stock1.mp4: 416x704 8 persons, 11 cars, 1 motorcycle, 3 traffic lights, 1 handbag, 10.9ms\n",
            "video 1/1 (120/393) /content/drive/MyDrive/ds3project/test_videos/stock1.mp4: 416x704 8 persons, 9 cars, 1 motorcycle, 2 traffic lights, 1 handbag, 10.9ms\n",
            "video 1/1 (121/393) /content/drive/MyDrive/ds3project/test_videos/stock1.mp4: 416x704 9 persons, 9 cars, 1 truck, 2 traffic lights, 1 handbag, 10.9ms\n",
            "video 1/1 (122/393) /content/drive/MyDrive/ds3project/test_videos/stock1.mp4: 416x704 8 persons, 8 cars, 3 traffic lights, 1 handbag, 10.9ms\n",
            "video 1/1 (123/393) /content/drive/MyDrive/ds3project/test_videos/stock1.mp4: 416x704 10 persons, 8 cars, 3 traffic lights, 1 handbag, 10.9ms\n",
            "video 1/1 (124/393) /content/drive/MyDrive/ds3project/test_videos/stock1.mp4: 416x704 9 persons, 10 cars, 3 traffic lights, 1 handbag, 11.0ms\n",
            "video 1/1 (125/393) /content/drive/MyDrive/ds3project/test_videos/stock1.mp4: 416x704 9 persons, 11 cars, 2 traffic lights, 2 handbags, 11.0ms\n",
            "video 1/1 (126/393) /content/drive/MyDrive/ds3project/test_videos/stock1.mp4: 416x704 8 persons, 10 cars, 1 truck, 2 traffic lights, 1 handbag, 10.9ms\n",
            "video 1/1 (127/393) /content/drive/MyDrive/ds3project/test_videos/stock1.mp4: 416x704 8 persons, 10 cars, 1 truck, 2 traffic lights, 1 umbrella, 1 handbag, 10.9ms\n",
            "video 1/1 (128/393) /content/drive/MyDrive/ds3project/test_videos/stock1.mp4: 416x704 8 persons, 12 cars, 1 truck, 3 traffic lights, 1 umbrella, 10.9ms\n",
            "video 1/1 (129/393) /content/drive/MyDrive/ds3project/test_videos/stock1.mp4: 416x704 12 persons, 8 cars, 1 truck, 3 traffic lights, 10.9ms\n",
            "video 1/1 (130/393) /content/drive/MyDrive/ds3project/test_videos/stock1.mp4: 416x704 11 persons, 11 cars, 2 trucks, 3 traffic lights, 10.9ms\n",
            "video 1/1 (131/393) /content/drive/MyDrive/ds3project/test_videos/stock1.mp4: 416x704 8 persons, 10 cars, 2 trucks, 3 traffic lights, 11.0ms\n",
            "video 1/1 (132/393) /content/drive/MyDrive/ds3project/test_videos/stock1.mp4: 416x704 8 persons, 9 cars, 2 trucks, 2 traffic lights, 10.9ms\n",
            "video 1/1 (133/393) /content/drive/MyDrive/ds3project/test_videos/stock1.mp4: 416x704 8 persons, 7 cars, 2 trucks, 3 traffic lights, 10.9ms\n",
            "video 1/1 (134/393) /content/drive/MyDrive/ds3project/test_videos/stock1.mp4: 416x704 8 persons, 7 cars, 1 bus, 2 trucks, 3 traffic lights, 11.0ms\n",
            "video 1/1 (135/393) /content/drive/MyDrive/ds3project/test_videos/stock1.mp4: 416x704 8 persons, 7 cars, 1 bus, 4 trucks, 3 traffic lights, 10.9ms\n",
            "video 1/1 (136/393) /content/drive/MyDrive/ds3project/test_videos/stock1.mp4: 416x704 7 persons, 6 cars, 4 trucks, 2 traffic lights, 1 handbag, 10.9ms\n",
            "video 1/1 (137/393) /content/drive/MyDrive/ds3project/test_videos/stock1.mp4: 416x704 7 persons, 4 cars, 4 trucks, 3 traffic lights, 10.9ms\n",
            "video 1/1 (138/393) /content/drive/MyDrive/ds3project/test_videos/stock1.mp4: 416x704 7 persons, 5 cars, 4 trucks, 3 traffic lights, 10.9ms\n",
            "video 1/1 (139/393) /content/drive/MyDrive/ds3project/test_videos/stock1.mp4: 416x704 9 persons, 7 cars, 4 trucks, 3 traffic lights, 1 handbag, 10.9ms\n",
            "video 1/1 (140/393) /content/drive/MyDrive/ds3project/test_videos/stock1.mp4: 416x704 7 persons, 7 cars, 4 trucks, 3 traffic lights, 10.9ms\n",
            "video 1/1 (141/393) /content/drive/MyDrive/ds3project/test_videos/stock1.mp4: 416x704 7 persons, 6 cars, 3 trucks, 4 traffic lights, 10.9ms\n",
            "video 1/1 (142/393) /content/drive/MyDrive/ds3project/test_videos/stock1.mp4: 416x704 8 persons, 9 cars, 3 trucks, 4 traffic lights, 1 handbag, 17.5ms\n",
            "video 1/1 (143/393) /content/drive/MyDrive/ds3project/test_videos/stock1.mp4: 416x704 9 persons, 8 cars, 3 trucks, 3 traffic lights, 11.0ms\n",
            "video 1/1 (144/393) /content/drive/MyDrive/ds3project/test_videos/stock1.mp4: 416x704 9 persons, 9 cars, 3 trucks, 3 traffic lights, 1 handbag, 10.9ms\n",
            "video 1/1 (145/393) /content/drive/MyDrive/ds3project/test_videos/stock1.mp4: 416x704 11 persons, 7 cars, 3 trucks, 3 traffic lights, 10.9ms\n",
            "video 1/1 (146/393) /content/drive/MyDrive/ds3project/test_videos/stock1.mp4: 416x704 9 persons, 6 cars, 4 trucks, 3 traffic lights, 1 handbag, 10.9ms\n",
            "video 1/1 (147/393) /content/drive/MyDrive/ds3project/test_videos/stock1.mp4: 416x704 9 persons, 7 cars, 3 trucks, 4 traffic lights, 10.9ms\n",
            "video 1/1 (148/393) /content/drive/MyDrive/ds3project/test_videos/stock1.mp4: 416x704 10 persons, 7 cars, 4 trucks, 3 traffic lights, 1 handbag, 11.0ms\n",
            "video 1/1 (149/393) /content/drive/MyDrive/ds3project/test_videos/stock1.mp4: 416x704 10 persons, 8 cars, 3 trucks, 3 traffic lights, 1 handbag, 10.9ms\n",
            "video 1/1 (150/393) /content/drive/MyDrive/ds3project/test_videos/stock1.mp4: 416x704 9 persons, 8 cars, 1 bus, 3 trucks, 3 traffic lights, 10.9ms\n",
            "video 1/1 (151/393) /content/drive/MyDrive/ds3project/test_videos/stock1.mp4: 416x704 8 persons, 7 cars, 4 trucks, 3 traffic lights, 10.9ms\n",
            "video 1/1 (152/393) /content/drive/MyDrive/ds3project/test_videos/stock1.mp4: 416x704 8 persons, 6 cars, 4 trucks, 4 traffic lights, 11.0ms\n",
            "video 1/1 (153/393) /content/drive/MyDrive/ds3project/test_videos/stock1.mp4: 416x704 7 persons, 8 cars, 4 trucks, 4 traffic lights, 10.9ms\n",
            "video 1/1 (154/393) /content/drive/MyDrive/ds3project/test_videos/stock1.mp4: 416x704 7 persons, 8 cars, 2 trucks, 3 traffic lights, 10.9ms\n",
            "video 1/1 (155/393) /content/drive/MyDrive/ds3project/test_videos/stock1.mp4: 416x704 9 persons, 7 cars, 2 trucks, 4 traffic lights, 10.9ms\n",
            "video 1/1 (156/393) /content/drive/MyDrive/ds3project/test_videos/stock1.mp4: 416x704 8 persons, 5 cars, 3 trucks, 4 traffic lights, 10.9ms\n",
            "video 1/1 (157/393) /content/drive/MyDrive/ds3project/test_videos/stock1.mp4: 416x704 9 persons, 6 cars, 3 trucks, 4 traffic lights, 10.9ms\n",
            "video 1/1 (158/393) /content/drive/MyDrive/ds3project/test_videos/stock1.mp4: 416x704 7 persons, 5 cars, 4 trucks, 4 traffic lights, 12.3ms\n",
            "video 1/1 (159/393) /content/drive/MyDrive/ds3project/test_videos/stock1.mp4: 416x704 9 persons, 6 cars, 4 trucks, 4 traffic lights, 10.8ms\n",
            "video 1/1 (160/393) /content/drive/MyDrive/ds3project/test_videos/stock1.mp4: 416x704 7 persons, 7 cars, 3 trucks, 4 traffic lights, 10.9ms\n",
            "video 1/1 (161/393) /content/drive/MyDrive/ds3project/test_videos/stock1.mp4: 416x704 8 persons, 7 cars, 4 trucks, 3 traffic lights, 11.0ms\n",
            "video 1/1 (162/393) /content/drive/MyDrive/ds3project/test_videos/stock1.mp4: 416x704 8 persons, 8 cars, 4 trucks, 3 traffic lights, 11.0ms\n",
            "video 1/1 (163/393) /content/drive/MyDrive/ds3project/test_videos/stock1.mp4: 416x704 6 persons, 7 cars, 5 trucks, 2 traffic lights, 10.9ms\n",
            "video 1/1 (164/393) /content/drive/MyDrive/ds3project/test_videos/stock1.mp4: 416x704 6 persons, 10 cars, 5 trucks, 3 traffic lights, 11.3ms\n",
            "video 1/1 (165/393) /content/drive/MyDrive/ds3project/test_videos/stock1.mp4: 416x704 7 persons, 8 cars, 5 trucks, 2 traffic lights, 11.2ms\n",
            "video 1/1 (166/393) /content/drive/MyDrive/ds3project/test_videos/stock1.mp4: 416x704 8 persons, 10 cars, 4 trucks, 3 traffic lights, 10.9ms\n",
            "video 1/1 (167/393) /content/drive/MyDrive/ds3project/test_videos/stock1.mp4: 416x704 8 persons, 7 cars, 4 trucks, 5 traffic lights, 10.9ms\n",
            "video 1/1 (168/393) /content/drive/MyDrive/ds3project/test_videos/stock1.mp4: 416x704 7 persons, 6 cars, 4 trucks, 5 traffic lights, 11.0ms\n",
            "video 1/1 (169/393) /content/drive/MyDrive/ds3project/test_videos/stock1.mp4: 416x704 5 persons, 8 cars, 3 trucks, 2 traffic lights, 13.9ms\n",
            "video 1/1 (170/393) /content/drive/MyDrive/ds3project/test_videos/stock1.mp4: 416x704 7 persons, 5 cars, 4 trucks, 2 traffic lights, 11.0ms\n",
            "video 1/1 (171/393) /content/drive/MyDrive/ds3project/test_videos/stock1.mp4: 416x704 7 persons, 9 cars, 4 trucks, 3 traffic lights, 10.9ms\n",
            "video 1/1 (172/393) /content/drive/MyDrive/ds3project/test_videos/stock1.mp4: 416x704 6 persons, 9 cars, 4 trucks, 2 traffic lights, 11.0ms\n",
            "video 1/1 (173/393) /content/drive/MyDrive/ds3project/test_videos/stock1.mp4: 416x704 8 persons, 8 cars, 3 trucks, 3 traffic lights, 10.9ms\n",
            "video 1/1 (174/393) /content/drive/MyDrive/ds3project/test_videos/stock1.mp4: 416x704 7 persons, 9 cars, 3 trucks, 3 traffic lights, 11.2ms\n",
            "video 1/1 (175/393) /content/drive/MyDrive/ds3project/test_videos/stock1.mp4: 416x704 7 persons, 11 cars, 3 trucks, 2 traffic lights, 11.1ms\n",
            "video 1/1 (176/393) /content/drive/MyDrive/ds3project/test_videos/stock1.mp4: 416x704 5 persons, 10 cars, 3 trucks, 2 traffic lights, 11.4ms\n",
            "video 1/1 (177/393) /content/drive/MyDrive/ds3project/test_videos/stock1.mp4: 416x704 4 persons, 9 cars, 4 trucks, 2 traffic lights, 10.9ms\n",
            "video 1/1 (178/393) /content/drive/MyDrive/ds3project/test_videos/stock1.mp4: 416x704 5 persons, 11 cars, 4 trucks, 3 traffic lights, 10.9ms\n",
            "video 1/1 (179/393) /content/drive/MyDrive/ds3project/test_videos/stock1.mp4: 416x704 5 persons, 10 cars, 3 trucks, 2 traffic lights, 11.0ms\n",
            "video 1/1 (180/393) /content/drive/MyDrive/ds3project/test_videos/stock1.mp4: 416x704 6 persons, 11 cars, 3 trucks, 3 traffic lights, 11.2ms\n",
            "video 1/1 (181/393) /content/drive/MyDrive/ds3project/test_videos/stock1.mp4: 416x704 5 persons, 10 cars, 3 trucks, 4 traffic lights, 10.9ms\n",
            "video 1/1 (182/393) /content/drive/MyDrive/ds3project/test_videos/stock1.mp4: 416x704 5 persons, 12 cars, 3 trucks, 3 traffic lights, 11.0ms\n",
            "video 1/1 (183/393) /content/drive/MyDrive/ds3project/test_videos/stock1.mp4: 416x704 4 persons, 13 cars, 3 trucks, 3 traffic lights, 10.9ms\n",
            "video 1/1 (184/393) /content/drive/MyDrive/ds3project/test_videos/stock1.mp4: 416x704 5 persons, 10 cars, 3 trucks, 3 traffic lights, 10.9ms\n",
            "video 1/1 (185/393) /content/drive/MyDrive/ds3project/test_videos/stock1.mp4: 416x704 3 persons, 10 cars, 3 trucks, 4 traffic lights, 11.6ms\n",
            "video 1/1 (186/393) /content/drive/MyDrive/ds3project/test_videos/stock1.mp4: 416x704 6 persons, 8 cars, 3 trucks, 2 traffic lights, 1 handbag, 10.9ms\n",
            "video 1/1 (187/393) /content/drive/MyDrive/ds3project/test_videos/stock1.mp4: 416x704 5 persons, 9 cars, 3 trucks, 5 traffic lights, 10.9ms\n",
            "video 1/1 (188/393) /content/drive/MyDrive/ds3project/test_videos/stock1.mp4: 416x704 4 persons, 7 cars, 3 trucks, 4 traffic lights, 11.1ms\n",
            "video 1/1 (189/393) /content/drive/MyDrive/ds3project/test_videos/stock1.mp4: 416x704 8 persons, 6 cars, 3 trucks, 5 traffic lights, 11.0ms\n",
            "video 1/1 (190/393) /content/drive/MyDrive/ds3project/test_videos/stock1.mp4: 416x704 7 persons, 8 cars, 4 trucks, 6 traffic lights, 10.9ms\n",
            "video 1/1 (191/393) /content/drive/MyDrive/ds3project/test_videos/stock1.mp4: 416x704 5 persons, 7 cars, 3 trucks, 5 traffic lights, 10.9ms\n",
            "video 1/1 (192/393) /content/drive/MyDrive/ds3project/test_videos/stock1.mp4: 416x704 6 persons, 6 cars, 4 trucks, 5 traffic lights, 1 handbag, 10.9ms\n",
            "video 1/1 (193/393) /content/drive/MyDrive/ds3project/test_videos/stock1.mp4: 416x704 5 persons, 5 cars, 3 trucks, 3 traffic lights, 10.9ms\n",
            "video 1/1 (194/393) /content/drive/MyDrive/ds3project/test_videos/stock1.mp4: 416x704 6 persons, 6 cars, 3 trucks, 4 traffic lights, 11.1ms\n",
            "video 1/1 (195/393) /content/drive/MyDrive/ds3project/test_videos/stock1.mp4: 416x704 5 persons, 6 cars, 3 trucks, 4 traffic lights, 11.3ms\n",
            "video 1/1 (196/393) /content/drive/MyDrive/ds3project/test_videos/stock1.mp4: 416x704 5 persons, 6 cars, 3 trucks, 2 traffic lights, 12.3ms\n",
            "video 1/1 (197/393) /content/drive/MyDrive/ds3project/test_videos/stock1.mp4: 416x704 3 persons, 6 cars, 2 buss, 2 trucks, 2 traffic lights, 11.0ms\n",
            "video 1/1 (198/393) /content/drive/MyDrive/ds3project/test_videos/stock1.mp4: 416x704 5 persons, 10 cars, 1 bus, 2 trucks, 2 traffic lights, 10.9ms\n",
            "video 1/1 (199/393) /content/drive/MyDrive/ds3project/test_videos/stock1.mp4: 416x704 5 persons, 6 cars, 3 trucks, 2 traffic lights, 10.9ms\n",
            "video 1/1 (200/393) /content/drive/MyDrive/ds3project/test_videos/stock1.mp4: 416x704 4 persons, 6 cars, 2 trucks, 1 traffic light, 11.4ms\n",
            "video 1/1 (201/393) /content/drive/MyDrive/ds3project/test_videos/stock1.mp4: 416x704 3 persons, 7 cars, 1 bus, 2 trucks, 3 traffic lights, 12.9ms\n",
            "video 1/1 (202/393) /content/drive/MyDrive/ds3project/test_videos/stock1.mp4: 416x704 4 persons, 9 cars, 2 buss, 2 trucks, 3 traffic lights, 10.9ms\n",
            "video 1/1 (203/393) /content/drive/MyDrive/ds3project/test_videos/stock1.mp4: 416x704 6 persons, 11 cars, 1 bus, 1 truck, 4 traffic lights, 11.9ms\n",
            "video 1/1 (204/393) /content/drive/MyDrive/ds3project/test_videos/stock1.mp4: 416x704 5 persons, 7 cars, 3 trucks, 3 traffic lights, 11.4ms\n",
            "video 1/1 (205/393) /content/drive/MyDrive/ds3project/test_videos/stock1.mp4: 416x704 3 persons, 4 cars, 1 bus, 3 trucks, 1 traffic light, 11.0ms\n",
            "video 1/1 (206/393) /content/drive/MyDrive/ds3project/test_videos/stock1.mp4: 416x704 6 persons, 4 cars, 5 trucks, 1 traffic light, 10.9ms\n",
            "video 1/1 (207/393) /content/drive/MyDrive/ds3project/test_videos/stock1.mp4: 416x704 6 persons, 6 cars, 5 trucks, 2 traffic lights, 10.9ms\n",
            "video 1/1 (208/393) /content/drive/MyDrive/ds3project/test_videos/stock1.mp4: 416x704 8 persons, 6 cars, 4 trucks, 4 traffic lights, 10.8ms\n",
            "video 1/1 (209/393) /content/drive/MyDrive/ds3project/test_videos/stock1.mp4: 416x704 9 persons, 8 cars, 3 trucks, 2 traffic lights, 10.9ms\n",
            "video 1/1 (210/393) /content/drive/MyDrive/ds3project/test_videos/stock1.mp4: 416x704 8 persons, 6 cars, 3 trucks, 3 traffic lights, 10.9ms\n",
            "video 1/1 (211/393) /content/drive/MyDrive/ds3project/test_videos/stock1.mp4: 416x704 5 persons, 8 cars, 3 trucks, 3 traffic lights, 1 handbag, 10.8ms\n",
            "video 1/1 (212/393) /content/drive/MyDrive/ds3project/test_videos/stock1.mp4: 416x704 6 persons, 8 cars, 2 trucks, 2 traffic lights, 1 handbag, 10.9ms\n",
            "video 1/1 (213/393) /content/drive/MyDrive/ds3project/test_videos/stock1.mp4: 416x704 5 persons, 9 cars, 2 trucks, 2 traffic lights, 1 handbag, 10.9ms\n",
            "video 1/1 (214/393) /content/drive/MyDrive/ds3project/test_videos/stock1.mp4: 416x704 7 persons, 10 cars, 3 trucks, 3 traffic lights, 1 handbag, 10.9ms\n",
            "video 1/1 (215/393) /content/drive/MyDrive/ds3project/test_videos/stock1.mp4: 416x704 5 persons, 5 cars, 3 trucks, 2 traffic lights, 10.9ms\n",
            "video 1/1 (216/393) /content/drive/MyDrive/ds3project/test_videos/stock1.mp4: 416x704 7 persons, 4 cars, 3 trucks, 2 traffic lights, 1 handbag, 10.8ms\n",
            "video 1/1 (217/393) /content/drive/MyDrive/ds3project/test_videos/stock1.mp4: 416x704 9 persons, 7 cars, 3 trucks, 2 traffic lights, 1 handbag, 11.0ms\n",
            "video 1/1 (218/393) /content/drive/MyDrive/ds3project/test_videos/stock1.mp4: 416x704 8 persons, 7 cars, 3 trucks, 2 traffic lights, 10.9ms\n",
            "video 1/1 (219/393) /content/drive/MyDrive/ds3project/test_videos/stock1.mp4: 416x704 6 persons, 8 cars, 3 trucks, 1 traffic light, 10.8ms\n",
            "video 1/1 (220/393) /content/drive/MyDrive/ds3project/test_videos/stock1.mp4: 416x704 6 persons, 7 cars, 3 trucks, 3 traffic lights, 10.9ms\n",
            "video 1/1 (221/393) /content/drive/MyDrive/ds3project/test_videos/stock1.mp4: 416x704 10 persons, 7 cars, 3 trucks, 1 traffic light, 10.9ms\n",
            "video 1/1 (222/393) /content/drive/MyDrive/ds3project/test_videos/stock1.mp4: 416x704 8 persons, 6 cars, 3 trucks, 1 traffic light, 10.9ms\n",
            "video 1/1 (223/393) /content/drive/MyDrive/ds3project/test_videos/stock1.mp4: 416x704 7 persons, 7 cars, 3 trucks, 1 traffic light, 10.9ms\n",
            "video 1/1 (224/393) /content/drive/MyDrive/ds3project/test_videos/stock1.mp4: 416x704 8 persons, 8 cars, 3 trucks, 1 traffic light, 10.9ms\n",
            "video 1/1 (225/393) /content/drive/MyDrive/ds3project/test_videos/stock1.mp4: 416x704 8 persons, 7 cars, 3 trucks, 2 traffic lights, 11.7ms\n",
            "video 1/1 (226/393) /content/drive/MyDrive/ds3project/test_videos/stock1.mp4: 416x704 8 persons, 7 cars, 3 trucks, 3 traffic lights, 10.9ms\n",
            "video 1/1 (227/393) /content/drive/MyDrive/ds3project/test_videos/stock1.mp4: 416x704 7 persons, 6 cars, 1 bus, 3 trucks, 2 traffic lights, 11.1ms\n",
            "video 1/1 (228/393) /content/drive/MyDrive/ds3project/test_videos/stock1.mp4: 416x704 10 persons, 6 cars, 1 bus, 2 trucks, 2 traffic lights, 10.9ms\n",
            "video 1/1 (229/393) /content/drive/MyDrive/ds3project/test_videos/stock1.mp4: 416x704 9 persons, 9 cars, 3 trucks, 2 traffic lights, 10.9ms\n",
            "video 1/1 (230/393) /content/drive/MyDrive/ds3project/test_videos/stock1.mp4: 416x704 12 persons, 8 cars, 3 trucks, 2 traffic lights, 11.1ms\n",
            "video 1/1 (231/393) /content/drive/MyDrive/ds3project/test_videos/stock1.mp4: 416x704 11 persons, 8 cars, 3 trucks, 2 traffic lights, 10.9ms\n",
            "video 1/1 (232/393) /content/drive/MyDrive/ds3project/test_videos/stock1.mp4: 416x704 9 persons, 7 cars, 1 bus, 3 trucks, 3 traffic lights, 11.0ms\n",
            "video 1/1 (233/393) /content/drive/MyDrive/ds3project/test_videos/stock1.mp4: 416x704 9 persons, 10 cars, 5 trucks, 5 traffic lights, 10.9ms\n",
            "video 1/1 (234/393) /content/drive/MyDrive/ds3project/test_videos/stock1.mp4: 416x704 8 persons, 8 cars, 5 trucks, 6 traffic lights, 10.9ms\n",
            "video 1/1 (235/393) /content/drive/MyDrive/ds3project/test_videos/stock1.mp4: 416x704 6 persons, 6 cars, 5 trucks, 4 traffic lights, 1 handbag, 11.2ms\n",
            "video 1/1 (236/393) /content/drive/MyDrive/ds3project/test_videos/stock1.mp4: 416x704 8 persons, 6 cars, 4 trucks, 5 traffic lights, 11.1ms\n",
            "video 1/1 (237/393) /content/drive/MyDrive/ds3project/test_videos/stock1.mp4: 416x704 7 persons, 7 cars, 1 bus, 4 trucks, 3 traffic lights, 1 handbag, 10.9ms\n",
            "video 1/1 (238/393) /content/drive/MyDrive/ds3project/test_videos/stock1.mp4: 416x704 7 persons, 5 cars, 4 trucks, 4 traffic lights, 1 handbag, 10.9ms\n",
            "video 1/1 (239/393) /content/drive/MyDrive/ds3project/test_videos/stock1.mp4: 416x704 8 persons, 8 cars, 4 trucks, 4 traffic lights, 1 handbag, 10.9ms\n",
            "video 1/1 (240/393) /content/drive/MyDrive/ds3project/test_videos/stock1.mp4: 416x704 6 persons, 11 cars, 3 trucks, 2 traffic lights, 1 handbag, 11.2ms\n",
            "video 1/1 (241/393) /content/drive/MyDrive/ds3project/test_videos/stock1.mp4: 416x704 7 persons, 12 cars, 4 trucks, 1 traffic light, 1 handbag, 10.9ms\n",
            "video 1/1 (242/393) /content/drive/MyDrive/ds3project/test_videos/stock1.mp4: 416x704 8 persons, 11 cars, 3 trucks, 3 traffic lights, 11.1ms\n",
            "video 1/1 (243/393) /content/drive/MyDrive/ds3project/test_videos/stock1.mp4: 416x704 10 persons, 10 cars, 2 trucks, 4 traffic lights, 11.2ms\n",
            "video 1/1 (244/393) /content/drive/MyDrive/ds3project/test_videos/stock1.mp4: 416x704 7 persons, 8 cars, 2 trucks, 3 traffic lights, 10.9ms\n",
            "video 1/1 (245/393) /content/drive/MyDrive/ds3project/test_videos/stock1.mp4: 416x704 4 persons, 7 cars, 3 trucks, 4 traffic lights, 10.9ms\n",
            "video 1/1 (246/393) /content/drive/MyDrive/ds3project/test_videos/stock1.mp4: 416x704 6 persons, 9 cars, 3 trucks, 4 traffic lights, 10.9ms\n",
            "video 1/1 (247/393) /content/drive/MyDrive/ds3project/test_videos/stock1.mp4: 416x704 7 persons, 8 cars, 3 trucks, 3 traffic lights, 11.1ms\n",
            "video 1/1 (248/393) /content/drive/MyDrive/ds3project/test_videos/stock1.mp4: 416x704 4 persons, 12 cars, 3 trucks, 2 traffic lights, 11.1ms\n",
            "video 1/1 (249/393) /content/drive/MyDrive/ds3project/test_videos/stock1.mp4: 416x704 6 persons, 9 cars, 3 trucks, 2 traffic lights, 10.9ms\n",
            "video 1/1 (250/393) /content/drive/MyDrive/ds3project/test_videos/stock1.mp4: 416x704 6 persons, 8 cars, 3 trucks, 1 traffic light, 11.1ms\n",
            "video 1/1 (251/393) /content/drive/MyDrive/ds3project/test_videos/stock1.mp4: 416x704 6 persons, 9 cars, 3 trucks, 2 traffic lights, 10.9ms\n",
            "video 1/1 (252/393) /content/drive/MyDrive/ds3project/test_videos/stock1.mp4: 416x704 7 persons, 11 cars, 3 trucks, 1 traffic light, 10.9ms\n",
            "video 1/1 (253/393) /content/drive/MyDrive/ds3project/test_videos/stock1.mp4: 416x704 9 persons, 11 cars, 3 trucks, 1 traffic light, 12.9ms\n",
            "video 1/1 (254/393) /content/drive/MyDrive/ds3project/test_videos/stock1.mp4: 416x704 10 persons, 11 cars, 2 trucks, 1 traffic light, 10.9ms\n",
            "video 1/1 (255/393) /content/drive/MyDrive/ds3project/test_videos/stock1.mp4: 416x704 8 persons, 9 cars, 4 trucks, 10.9ms\n",
            "video 1/1 (256/393) /content/drive/MyDrive/ds3project/test_videos/stock1.mp4: 416x704 4 persons, 11 cars, 5 trucks, 1 cow, 10.9ms\n",
            "video 1/1 (257/393) /content/drive/MyDrive/ds3project/test_videos/stock1.mp4: 416x704 4 persons, 11 cars, 3 buss, 5 trucks, 10.9ms\n",
            "video 1/1 (258/393) /content/drive/MyDrive/ds3project/test_videos/stock1.mp4: 416x704 7 persons, 11 cars, 3 trucks, 10.9ms\n",
            "video 1/1 (259/393) /content/drive/MyDrive/ds3project/test_videos/stock1.mp4: 416x704 7 persons, 12 cars, 1 bus, 4 trucks, 11.2ms\n",
            "video 1/1 (260/393) /content/drive/MyDrive/ds3project/test_videos/stock1.mp4: 416x704 7 persons, 12 cars, 1 bus, 3 trucks, 11.0ms\n",
            "video 1/1 (261/393) /content/drive/MyDrive/ds3project/test_videos/stock1.mp4: 416x704 6 persons, 12 cars, 3 trucks, 1 tv, 10.9ms\n",
            "video 1/1 (262/393) /content/drive/MyDrive/ds3project/test_videos/stock1.mp4: 416x704 8 persons, 12 cars, 4 trucks, 1 tv, 10.9ms\n",
            "video 1/1 (263/393) /content/drive/MyDrive/ds3project/test_videos/stock1.mp4: 416x704 6 persons, 14 cars, 4 trucks, 1 tv, 11.2ms\n",
            "video 1/1 (264/393) /content/drive/MyDrive/ds3project/test_videos/stock1.mp4: 416x704 7 persons, 12 cars, 1 truck, 2 tvs, 11.1ms\n",
            "video 1/1 (265/393) /content/drive/MyDrive/ds3project/test_videos/stock1.mp4: 416x704 9 persons, 9 cars, 4 trucks, 1 tv, 10.9ms\n",
            "video 1/1 (266/393) /content/drive/MyDrive/ds3project/test_videos/stock1.mp4: 416x704 10 persons, 10 cars, 3 trucks, 1 tv, 11.2ms\n",
            "video 1/1 (267/393) /content/drive/MyDrive/ds3project/test_videos/stock1.mp4: 416x704 9 persons, 9 cars, 3 trucks, 1 handbag, 1 tv, 10.9ms\n",
            "video 1/1 (268/393) /content/drive/MyDrive/ds3project/test_videos/stock1.mp4: 416x704 10 persons, 8 cars, 2 trucks, 10.9ms\n",
            "video 1/1 (269/393) /content/drive/MyDrive/ds3project/test_videos/stock1.mp4: 416x704 10 persons, 6 cars, 3 trucks, 11.0ms\n",
            "video 1/1 (270/393) /content/drive/MyDrive/ds3project/test_videos/stock1.mp4: 416x704 8 persons, 7 cars, 1 truck, 1 backpack, 11.2ms\n",
            "video 1/1 (271/393) /content/drive/MyDrive/ds3project/test_videos/stock1.mp4: 416x704 8 persons, 5 cars, 2 trucks, 10.9ms\n",
            "video 1/1 (272/393) /content/drive/MyDrive/ds3project/test_videos/stock1.mp4: 416x704 8 persons, 5 cars, 1 truck, 10.9ms\n",
            "video 1/1 (273/393) /content/drive/MyDrive/ds3project/test_videos/stock1.mp4: 416x704 9 persons, 5 cars, 2 trucks, 10.9ms\n",
            "video 1/1 (274/393) /content/drive/MyDrive/ds3project/test_videos/stock1.mp4: 416x704 7 persons, 7 cars, 1 truck, 10.9ms\n",
            "video 1/1 (275/393) /content/drive/MyDrive/ds3project/test_videos/stock1.mp4: 416x704 9 persons, 6 cars, 1 handbag, 10.9ms\n",
            "video 1/1 (276/393) /content/drive/MyDrive/ds3project/test_videos/stock1.mp4: 416x704 6 persons, 5 cars, 2 buss, 10.9ms\n",
            "video 1/1 (277/393) /content/drive/MyDrive/ds3project/test_videos/stock1.mp4: 416x704 5 persons, 8 cars, 1 bus, 1 truck, 1 traffic light, 10.9ms\n",
            "video 1/1 (278/393) /content/drive/MyDrive/ds3project/test_videos/stock1.mp4: 416x704 5 persons, 5 cars, 3 buss, 1 truck, 1 traffic light, 10.9ms\n",
            "video 1/1 (279/393) /content/drive/MyDrive/ds3project/test_videos/stock1.mp4: 416x704 5 persons, 7 cars, 3 trucks, 1 traffic light, 12.3ms\n",
            "video 1/1 (280/393) /content/drive/MyDrive/ds3project/test_videos/stock1.mp4: 416x704 3 persons, 5 cars, 3 trucks, 10.9ms\n",
            "video 1/1 (281/393) /content/drive/MyDrive/ds3project/test_videos/stock1.mp4: 416x704 3 persons, 6 cars, 3 trucks, 10.9ms\n",
            "video 1/1 (282/393) /content/drive/MyDrive/ds3project/test_videos/stock1.mp4: 416x704 5 persons, 5 cars, 3 trucks, 10.9ms\n",
            "video 1/1 (283/393) /content/drive/MyDrive/ds3project/test_videos/stock1.mp4: 416x704 6 persons, 7 cars, 3 trucks, 10.9ms\n",
            "video 1/1 (284/393) /content/drive/MyDrive/ds3project/test_videos/stock1.mp4: 416x704 6 persons, 6 cars, 4 trucks, 10.9ms\n",
            "video 1/1 (285/393) /content/drive/MyDrive/ds3project/test_videos/stock1.mp4: 416x704 6 persons, 8 cars, 4 trucks, 10.9ms\n",
            "video 1/1 (286/393) /content/drive/MyDrive/ds3project/test_videos/stock1.mp4: 416x704 7 persons, 8 cars, 3 trucks, 11.1ms\n",
            "video 1/1 (287/393) /content/drive/MyDrive/ds3project/test_videos/stock1.mp4: 416x704 7 persons, 5 cars, 1 bus, 3 trucks, 10.9ms\n",
            "video 1/1 (288/393) /content/drive/MyDrive/ds3project/test_videos/stock1.mp4: 416x704 4 persons, 9 cars, 3 trucks, 1 handbag, 10.9ms\n",
            "video 1/1 (289/393) /content/drive/MyDrive/ds3project/test_videos/stock1.mp4: 416x704 4 persons, 6 cars, 3 trucks, 10.9ms\n",
            "video 1/1 (290/393) /content/drive/MyDrive/ds3project/test_videos/stock1.mp4: 416x704 2 persons, 7 cars, 4 trucks, 10.9ms\n",
            "video 1/1 (291/393) /content/drive/MyDrive/ds3project/test_videos/stock1.mp4: 416x704 1 person, 7 cars, 2 trucks, 11.4ms\n",
            "video 1/1 (292/393) /content/drive/MyDrive/ds3project/test_videos/stock1.mp4: 416x704 7 cars, 4 trucks, 12.3ms\n",
            "video 1/1 (293/393) /content/drive/MyDrive/ds3project/test_videos/stock1.mp4: 416x704 6 cars, 4 trucks, 10.9ms\n",
            "video 1/1 (294/393) /content/drive/MyDrive/ds3project/test_videos/stock1.mp4: 416x704 7 cars, 5 trucks, 10.9ms\n",
            "video 1/1 (295/393) /content/drive/MyDrive/ds3project/test_videos/stock1.mp4: 416x704 6 cars, 5 trucks, 11.1ms\n",
            "video 1/1 (296/393) /content/drive/MyDrive/ds3project/test_videos/stock1.mp4: 416x704 6 cars, 5 trucks, 10.9ms\n",
            "video 1/1 (297/393) /content/drive/MyDrive/ds3project/test_videos/stock1.mp4: 416x704 5 cars, 5 trucks, 11.0ms\n",
            "video 1/1 (298/393) /content/drive/MyDrive/ds3project/test_videos/stock1.mp4: 416x704 8 cars, 5 trucks, 11.0ms\n",
            "video 1/1 (299/393) /content/drive/MyDrive/ds3project/test_videos/stock1.mp4: 416x704 5 cars, 5 trucks, 10.9ms\n",
            "video 1/1 (300/393) /content/drive/MyDrive/ds3project/test_videos/stock1.mp4: 416x704 5 cars, 4 trucks, 11.0ms\n",
            "video 1/1 (301/393) /content/drive/MyDrive/ds3project/test_videos/stock1.mp4: 416x704 5 cars, 4 trucks, 12.6ms\n",
            "video 1/1 (302/393) /content/drive/MyDrive/ds3project/test_videos/stock1.mp4: 416x704 6 cars, 4 trucks, 10.9ms\n",
            "video 1/1 (303/393) /content/drive/MyDrive/ds3project/test_videos/stock1.mp4: 416x704 5 cars, 4 trucks, 10.9ms\n",
            "video 1/1 (304/393) /content/drive/MyDrive/ds3project/test_videos/stock1.mp4: 416x704 7 cars, 4 trucks, 10.9ms\n",
            "video 1/1 (305/393) /content/drive/MyDrive/ds3project/test_videos/stock1.mp4: 416x704 5 cars, 5 trucks, 10.9ms\n",
            "video 1/1 (306/393) /content/drive/MyDrive/ds3project/test_videos/stock1.mp4: 416x704 4 cars, 5 trucks, 10.9ms\n",
            "video 1/1 (307/393) /content/drive/MyDrive/ds3project/test_videos/stock1.mp4: 416x704 6 cars, 4 trucks, 10.9ms\n",
            "video 1/1 (308/393) /content/drive/MyDrive/ds3project/test_videos/stock1.mp4: 416x704 5 cars, 1 bus, 4 trucks, 10.9ms\n",
            "video 1/1 (309/393) /content/drive/MyDrive/ds3project/test_videos/stock1.mp4: 416x704 6 cars, 3 trucks, 10.9ms\n",
            "video 1/1 (310/393) /content/drive/MyDrive/ds3project/test_videos/stock1.mp4: 416x704 5 cars, 3 trucks, 13.8ms\n",
            "video 1/1 (311/393) /content/drive/MyDrive/ds3project/test_videos/stock1.mp4: 416x704 4 cars, 2 trucks, 10.9ms\n",
            "video 1/1 (312/393) /content/drive/MyDrive/ds3project/test_videos/stock1.mp4: 416x704 4 cars, 3 trucks, 10.9ms\n",
            "video 1/1 (313/393) /content/drive/MyDrive/ds3project/test_videos/stock1.mp4: 416x704 4 cars, 4 trucks, 10.9ms\n",
            "video 1/1 (314/393) /content/drive/MyDrive/ds3project/test_videos/stock1.mp4: 416x704 1 person, 4 cars, 4 trucks, 10.9ms\n",
            "video 1/1 (315/393) /content/drive/MyDrive/ds3project/test_videos/stock1.mp4: 416x704 5 cars, 2 trucks, 10.9ms\n",
            "video 1/1 (316/393) /content/drive/MyDrive/ds3project/test_videos/stock1.mp4: 416x704 1 person, 5 cars, 3 trucks, 10.9ms\n",
            "video 1/1 (317/393) /content/drive/MyDrive/ds3project/test_videos/stock1.mp4: 416x704 1 person, 5 cars, 2 trucks, 1 backpack, 10.9ms\n",
            "video 1/1 (318/393) /content/drive/MyDrive/ds3project/test_videos/stock1.mp4: 416x704 1 person, 5 cars, 4 trucks, 10.9ms\n",
            "video 1/1 (319/393) /content/drive/MyDrive/ds3project/test_videos/stock1.mp4: 416x704 1 person, 5 cars, 3 trucks, 10.9ms\n",
            "video 1/1 (320/393) /content/drive/MyDrive/ds3project/test_videos/stock1.mp4: 416x704 1 person, 3 cars, 3 trucks, 11.0ms\n",
            "video 1/1 (321/393) /content/drive/MyDrive/ds3project/test_videos/stock1.mp4: 416x704 4 cars, 3 trucks, 10.9ms\n",
            "video 1/1 (322/393) /content/drive/MyDrive/ds3project/test_videos/stock1.mp4: 416x704 3 cars, 3 trucks, 10.9ms\n",
            "video 1/1 (323/393) /content/drive/MyDrive/ds3project/test_videos/stock1.mp4: 416x704 4 cars, 3 trucks, 10.9ms\n",
            "video 1/1 (324/393) /content/drive/MyDrive/ds3project/test_videos/stock1.mp4: 416x704 4 cars, 4 trucks, 10.9ms\n",
            "video 1/1 (325/393) /content/drive/MyDrive/ds3project/test_videos/stock1.mp4: 416x704 3 cars, 3 trucks, 10.9ms\n",
            "video 1/1 (326/393) /content/drive/MyDrive/ds3project/test_videos/stock1.mp4: 416x704 3 cars, 2 trucks, 10.8ms\n",
            "video 1/1 (327/393) /content/drive/MyDrive/ds3project/test_videos/stock1.mp4: 416x704 4 cars, 2 trucks, 10.9ms\n",
            "video 1/1 (328/393) /content/drive/MyDrive/ds3project/test_videos/stock1.mp4: 416x704 4 cars, 2 trucks, 10.9ms\n",
            "video 1/1 (329/393) /content/drive/MyDrive/ds3project/test_videos/stock1.mp4: 416x704 4 cars, 1 truck, 12.3ms\n",
            "video 1/1 (330/393) /content/drive/MyDrive/ds3project/test_videos/stock1.mp4: 416x704 4 cars, 1 truck, 11.0ms\n",
            "video 1/1 (331/393) /content/drive/MyDrive/ds3project/test_videos/stock1.mp4: 416x704 5 cars, 1 truck, 10.9ms\n",
            "video 1/1 (332/393) /content/drive/MyDrive/ds3project/test_videos/stock1.mp4: 416x704 4 cars, 1 truck, 10.9ms\n",
            "video 1/1 (333/393) /content/drive/MyDrive/ds3project/test_videos/stock1.mp4: 416x704 4 cars, 1 bus, 10.9ms\n",
            "video 1/1 (334/393) /content/drive/MyDrive/ds3project/test_videos/stock1.mp4: 416x704 3 cars, 2 trucks, 11.1ms\n",
            "video 1/1 (335/393) /content/drive/MyDrive/ds3project/test_videos/stock1.mp4: 416x704 3 cars, 2 trucks, 10.9ms\n",
            "video 1/1 (336/393) /content/drive/MyDrive/ds3project/test_videos/stock1.mp4: 416x704 4 cars, 2 trucks, 12.9ms\n",
            "video 1/1 (337/393) /content/drive/MyDrive/ds3project/test_videos/stock1.mp4: 416x704 4 cars, 2 trucks, 10.9ms\n",
            "video 1/1 (338/393) /content/drive/MyDrive/ds3project/test_videos/stock1.mp4: 416x704 5 cars, 1 truck, 10.8ms\n",
            "video 1/1 (339/393) /content/drive/MyDrive/ds3project/test_videos/stock1.mp4: 416x704 4 cars, 2 trucks, 10.9ms\n",
            "video 1/1 (340/393) /content/drive/MyDrive/ds3project/test_videos/stock1.mp4: 416x704 5 cars, 3 trucks, 1 traffic light, 10.9ms\n",
            "video 1/1 (341/393) /content/drive/MyDrive/ds3project/test_videos/stock1.mp4: 416x704 6 cars, 2 trucks, 11.7ms\n",
            "video 1/1 (342/393) /content/drive/MyDrive/ds3project/test_videos/stock1.mp4: 416x704 3 cars, 4 trucks, 10.9ms\n",
            "video 1/1 (343/393) /content/drive/MyDrive/ds3project/test_videos/stock1.mp4: 416x704 4 cars, 6 trucks, 11.4ms\n",
            "video 1/1 (344/393) /content/drive/MyDrive/ds3project/test_videos/stock1.mp4: 416x704 4 cars, 5 trucks, 10.9ms\n",
            "video 1/1 (345/393) /content/drive/MyDrive/ds3project/test_videos/stock1.mp4: 416x704 6 cars, 5 trucks, 10.9ms\n",
            "video 1/1 (346/393) /content/drive/MyDrive/ds3project/test_videos/stock1.mp4: 416x704 1 person, 5 cars, 6 trucks, 1 traffic light, 11.3ms\n",
            "video 1/1 (347/393) /content/drive/MyDrive/ds3project/test_videos/stock1.mp4: 416x704 1 person, 5 cars, 6 trucks, 1 traffic light, 10.9ms\n",
            "video 1/1 (348/393) /content/drive/MyDrive/ds3project/test_videos/stock1.mp4: 416x704 4 cars, 6 trucks, 1 traffic light, 10.9ms\n",
            "video 1/1 (349/393) /content/drive/MyDrive/ds3project/test_videos/stock1.mp4: 416x704 4 cars, 6 trucks, 10.9ms\n",
            "video 1/1 (350/393) /content/drive/MyDrive/ds3project/test_videos/stock1.mp4: 416x704 4 cars, 6 trucks, 10.9ms\n",
            "video 1/1 (351/393) /content/drive/MyDrive/ds3project/test_videos/stock1.mp4: 416x704 2 persons, 3 cars, 5 trucks, 1 traffic light, 10.9ms\n",
            "video 1/1 (352/393) /content/drive/MyDrive/ds3project/test_videos/stock1.mp4: 416x704 4 persons, 4 cars, 5 trucks, 10.9ms\n",
            "video 1/1 (353/393) /content/drive/MyDrive/ds3project/test_videos/stock1.mp4: 416x704 3 persons, 4 cars, 5 trucks, 18.4ms\n",
            "video 1/1 (354/393) /content/drive/MyDrive/ds3project/test_videos/stock1.mp4: 416x704 1 person, 4 cars, 1 bus, 5 trucks, 10.9ms\n",
            "video 1/1 (355/393) /content/drive/MyDrive/ds3project/test_videos/stock1.mp4: 416x704 2 persons, 4 cars, 4 trucks, 10.9ms\n",
            "video 1/1 (356/393) /content/drive/MyDrive/ds3project/test_videos/stock1.mp4: 416x704 2 persons, 4 cars, 1 bus, 4 trucks, 1 traffic light, 10.9ms\n",
            "video 1/1 (357/393) /content/drive/MyDrive/ds3project/test_videos/stock1.mp4: 416x704 5 persons, 4 cars, 2 buss, 4 trucks, 2 traffic lights, 10.9ms\n",
            "video 1/1 (358/393) /content/drive/MyDrive/ds3project/test_videos/stock1.mp4: 416x704 3 persons, 4 cars, 1 bus, 3 trucks, 2 traffic lights, 10.9ms\n",
            "video 1/1 (359/393) /content/drive/MyDrive/ds3project/test_videos/stock1.mp4: 416x704 1 person, 5 cars, 3 trucks, 2 traffic lights, 10.9ms\n",
            "video 1/1 (360/393) /content/drive/MyDrive/ds3project/test_videos/stock1.mp4: 416x704 4 persons, 4 cars, 3 trucks, 3 traffic lights, 1 bench, 10.9ms\n",
            "video 1/1 (361/393) /content/drive/MyDrive/ds3project/test_videos/stock1.mp4: 416x704 2 persons, 4 cars, 3 trucks, 2 traffic lights, 10.9ms\n",
            "video 1/1 (362/393) /content/drive/MyDrive/ds3project/test_videos/stock1.mp4: 416x704 1 person, 3 cars, 3 trucks, 2 traffic lights, 10.9ms\n",
            "video 1/1 (363/393) /content/drive/MyDrive/ds3project/test_videos/stock1.mp4: 416x704 2 persons, 3 cars, 1 bus, 4 trucks, 2 traffic lights, 1 bench, 11.0ms\n",
            "video 1/1 (364/393) /content/drive/MyDrive/ds3project/test_videos/stock1.mp4: 416x704 1 person, 2 cars, 5 trucks, 2 traffic lights, 10.9ms\n",
            "video 1/1 (365/393) /content/drive/MyDrive/ds3project/test_videos/stock1.mp4: 416x704 3 persons, 3 cars, 3 trucks, 1 traffic light, 10.9ms\n",
            "video 1/1 (366/393) /content/drive/MyDrive/ds3project/test_videos/stock1.mp4: 416x704 4 persons, 4 cars, 4 trucks, 2 traffic lights, 10.9ms\n",
            "video 1/1 (367/393) /content/drive/MyDrive/ds3project/test_videos/stock1.mp4: 416x704 3 persons, 3 cars, 3 trucks, 2 traffic lights, 10.9ms\n",
            "video 1/1 (368/393) /content/drive/MyDrive/ds3project/test_videos/stock1.mp4: 416x704 6 persons, 1 car, 3 trucks, 2 traffic lights, 10.9ms\n",
            "video 1/1 (369/393) /content/drive/MyDrive/ds3project/test_videos/stock1.mp4: 416x704 7 persons, 3 cars, 3 trucks, 2 traffic lights, 10.9ms\n",
            "video 1/1 (370/393) /content/drive/MyDrive/ds3project/test_videos/stock1.mp4: 416x704 6 persons, 4 cars, 3 trucks, 3 traffic lights, 1 parking meter, 10.9ms\n",
            "video 1/1 (371/393) /content/drive/MyDrive/ds3project/test_videos/stock1.mp4: 416x704 6 persons, 4 cars, 3 trucks, 3 traffic lights, 1 parking meter, 11.3ms\n",
            "video 1/1 (372/393) /content/drive/MyDrive/ds3project/test_videos/stock1.mp4: 416x704 5 persons, 1 bicycle, 4 cars, 3 trucks, 3 traffic lights, 10.9ms\n",
            "video 1/1 (373/393) /content/drive/MyDrive/ds3project/test_videos/stock1.mp4: 416x704 4 persons, 5 cars, 3 trucks, 3 traffic lights, 10.9ms\n",
            "video 1/1 (374/393) /content/drive/MyDrive/ds3project/test_videos/stock1.mp4: 416x704 4 persons, 5 cars, 3 trucks, 3 traffic lights, 10.9ms\n",
            "video 1/1 (375/393) /content/drive/MyDrive/ds3project/test_videos/stock1.mp4: 416x704 4 persons, 8 cars, 3 trucks, 4 traffic lights, 10.9ms\n",
            "video 1/1 (376/393) /content/drive/MyDrive/ds3project/test_videos/stock1.mp4: 416x704 4 persons, 6 cars, 3 trucks, 3 traffic lights, 10.9ms\n",
            "video 1/1 (377/393) /content/drive/MyDrive/ds3project/test_videos/stock1.mp4: 416x704 4 persons, 7 cars, 2 trucks, 4 traffic lights, 10.9ms\n",
            "video 1/1 (378/393) /content/drive/MyDrive/ds3project/test_videos/stock1.mp4: 416x704 3 persons, 7 cars, 2 trucks, 4 traffic lights, 13.0ms\n",
            "video 1/1 (379/393) /content/drive/MyDrive/ds3project/test_videos/stock1.mp4: 416x704 4 persons, 6 cars, 4 trucks, 1 traffic light, 11.0ms\n",
            "video 1/1 (380/393) /content/drive/MyDrive/ds3project/test_videos/stock1.mp4: 416x704 4 persons, 6 cars, 1 bus, 3 trucks, 2 traffic lights, 11.0ms\n",
            "video 1/1 (381/393) /content/drive/MyDrive/ds3project/test_videos/stock1.mp4: 416x704 3 persons, 8 cars, 2 buss, 3 trucks, 11.0ms\n",
            "video 1/1 (382/393) /content/drive/MyDrive/ds3project/test_videos/stock1.mp4: 416x704 3 persons, 7 cars, 3 trucks, 10.9ms\n",
            "video 1/1 (383/393) /content/drive/MyDrive/ds3project/test_videos/stock1.mp4: 416x704 4 persons, 9 cars, 1 bus, 1 truck, 10.9ms\n",
            "video 1/1 (384/393) /content/drive/MyDrive/ds3project/test_videos/stock1.mp4: 416x704 6 persons, 7 cars, 1 bus, 2 trucks, 10.9ms\n",
            "video 1/1 (385/393) /content/drive/MyDrive/ds3project/test_videos/stock1.mp4: 416x704 4 persons, 8 cars, 1 bus, 3 trucks, 10.9ms\n",
            "video 1/1 (386/393) /content/drive/MyDrive/ds3project/test_videos/stock1.mp4: 416x704 4 persons, 6 cars, 3 trucks, 11.4ms\n",
            "video 1/1 (387/393) /content/drive/MyDrive/ds3project/test_videos/stock1.mp4: 416x704 3 persons, 7 cars, 4 trucks, 10.9ms\n",
            "video 1/1 (388/393) /content/drive/MyDrive/ds3project/test_videos/stock1.mp4: 416x704 3 persons, 8 cars, 4 trucks, 10.9ms\n",
            "video 1/1 (389/393) /content/drive/MyDrive/ds3project/test_videos/stock1.mp4: 416x704 3 persons, 7 cars, 4 trucks, 10.9ms\n",
            "video 1/1 (390/393) /content/drive/MyDrive/ds3project/test_videos/stock1.mp4: 416x704 4 persons, 5 cars, 4 trucks, 10.9ms\n",
            "video 1/1 (391/393) /content/drive/MyDrive/ds3project/test_videos/stock1.mp4: 416x704 4 persons, 6 cars, 6 trucks, 10.8ms\n",
            "video 1/1 (392/393) /content/drive/MyDrive/ds3project/test_videos/stock1.mp4: 416x704 4 persons, 6 cars, 6 trucks, 10.9ms\n",
            "video 1/1 (393/393) /content/drive/MyDrive/ds3project/test_videos/stock1.mp4: 416x704 4 persons, 9 cars, 1 bus, 3 trucks, 10.8ms\n",
            "Speed: 0.6ms pre-process, 11.1ms inference, 1.1ms NMS per image at shape (1, 3, 704, 704)\n",
            "Results saved to \u001b[1myolov5/runs/detect/exp\u001b[0m\n",
            "1/1 [==============================] - 3s 3s/step\n",
            "[MoviePy] >>>> Building video /content/drive/MyDrive/ds3project/static/video/stock1.mp4\n",
            "[MoviePy] Writing video /content/drive/MyDrive/ds3project/static/video/stock1.mp4\n"
          ]
        },
        {
          "output_type": "stream",
          "name": "stderr",
          "text": [
            "\r  0%|          | 0/393 [00:00<?, ?it/s]"
          ]
        },
        {
          "output_type": "stream",
          "name": "stdout",
          "text": [
            "1/1 [==============================] - 0s 22ms/step\n"
          ]
        },
        {
          "output_type": "stream",
          "name": "stderr",
          "text": [
            "\r  0%|          | 1/393 [00:00<01:14,  5.23it/s]"
          ]
        },
        {
          "output_type": "stream",
          "name": "stdout",
          "text": [
            "1/1 [==============================] - 0s 18ms/step\n"
          ]
        },
        {
          "output_type": "stream",
          "name": "stderr",
          "text": [
            "\r  1%|          | 2/393 [00:01<03:47,  1.72it/s]"
          ]
        },
        {
          "output_type": "stream",
          "name": "stdout",
          "text": [
            "1/1 [==============================] - 0s 17ms/step\n"
          ]
        },
        {
          "output_type": "stream",
          "name": "stderr",
          "text": [
            "\r  1%|          | 3/393 [00:01<02:37,  2.48it/s]"
          ]
        },
        {
          "output_type": "stream",
          "name": "stdout",
          "text": [
            "1/1 [==============================] - 0s 18ms/step\n"
          ]
        },
        {
          "output_type": "stream",
          "name": "stderr",
          "text": [
            "\r  1%|          | 4/393 [00:01<02:05,  3.11it/s]"
          ]
        },
        {
          "output_type": "stream",
          "name": "stdout",
          "text": [
            "1/1 [==============================] - 0s 17ms/step\n"
          ]
        },
        {
          "output_type": "stream",
          "name": "stderr",
          "text": [
            "\r  1%|▏         | 5/393 [00:01<01:47,  3.62it/s]"
          ]
        },
        {
          "output_type": "stream",
          "name": "stdout",
          "text": [
            "1/1 [==============================] - 0s 18ms/step\n"
          ]
        },
        {
          "output_type": "stream",
          "name": "stderr",
          "text": [
            "\r  2%|▏         | 6/393 [00:01<01:36,  4.02it/s]"
          ]
        },
        {
          "output_type": "stream",
          "name": "stdout",
          "text": [
            "1/1 [==============================] - 0s 18ms/step\n"
          ]
        },
        {
          "output_type": "stream",
          "name": "stderr",
          "text": [
            "\r  2%|▏         | 7/393 [00:02<01:28,  4.37it/s]"
          ]
        },
        {
          "output_type": "stream",
          "name": "stdout",
          "text": [
            "1/1 [==============================] - 0s 17ms/step\n"
          ]
        },
        {
          "output_type": "stream",
          "name": "stderr",
          "text": [
            "\r  2%|▏         | 8/393 [00:02<01:23,  4.61it/s]"
          ]
        },
        {
          "output_type": "stream",
          "name": "stdout",
          "text": [
            "1/1 [==============================] - 0s 18ms/step\n"
          ]
        },
        {
          "output_type": "stream",
          "name": "stderr",
          "text": [
            "\r  2%|▏         | 9/393 [00:02<01:19,  4.83it/s]"
          ]
        },
        {
          "output_type": "stream",
          "name": "stdout",
          "text": [
            "1/1 [==============================] - 0s 16ms/step\n"
          ]
        },
        {
          "output_type": "stream",
          "name": "stderr",
          "text": [
            "\r  3%|▎         | 10/393 [00:02<01:18,  4.90it/s]"
          ]
        },
        {
          "output_type": "stream",
          "name": "stdout",
          "text": [
            "1/1 [==============================] - 0s 17ms/step\n"
          ]
        },
        {
          "output_type": "stream",
          "name": "stderr",
          "text": [
            "\r  3%|▎         | 11/393 [00:02<01:15,  5.03it/s]"
          ]
        },
        {
          "output_type": "stream",
          "name": "stdout",
          "text": [
            "1/1 [==============================] - 0s 16ms/step\n"
          ]
        },
        {
          "output_type": "stream",
          "name": "stderr",
          "text": [
            "\r  3%|▎         | 12/393 [00:02<01:14,  5.10it/s]"
          ]
        },
        {
          "output_type": "stream",
          "name": "stdout",
          "text": [
            "1/1 [==============================] - 0s 21ms/step\n"
          ]
        },
        {
          "output_type": "stream",
          "name": "stderr",
          "text": [
            "\r  3%|▎         | 13/393 [00:03<01:15,  5.06it/s]"
          ]
        },
        {
          "output_type": "stream",
          "name": "stdout",
          "text": [
            "1/1 [==============================] - 0s 17ms/step\n"
          ]
        },
        {
          "output_type": "stream",
          "name": "stderr",
          "text": [
            "\r  4%|▎         | 14/393 [00:03<01:13,  5.15it/s]"
          ]
        },
        {
          "output_type": "stream",
          "name": "stdout",
          "text": [
            "1/1 [==============================] - 0s 19ms/step\n"
          ]
        },
        {
          "output_type": "stream",
          "name": "stderr",
          "text": [
            "\r  4%|▍         | 15/393 [00:03<01:13,  5.14it/s]"
          ]
        },
        {
          "output_type": "stream",
          "name": "stdout",
          "text": [
            "1/1 [==============================] - 0s 18ms/step\n"
          ]
        },
        {
          "output_type": "stream",
          "name": "stderr",
          "text": [
            "\r  4%|▍         | 16/393 [00:03<01:12,  5.19it/s]"
          ]
        },
        {
          "output_type": "stream",
          "name": "stdout",
          "text": [
            "1/1 [==============================] - 0s 17ms/step\n"
          ]
        },
        {
          "output_type": "stream",
          "name": "stderr",
          "text": [
            "\r  4%|▍         | 17/393 [00:03<01:15,  4.97it/s]"
          ]
        },
        {
          "output_type": "stream",
          "name": "stdout",
          "text": [
            "1/1 [==============================] - 0s 16ms/step\n"
          ]
        },
        {
          "output_type": "stream",
          "name": "stderr",
          "text": [
            "\r  5%|▍         | 18/393 [00:04<01:13,  5.08it/s]"
          ]
        },
        {
          "output_type": "stream",
          "name": "stdout",
          "text": [
            "1/1 [==============================] - 0s 23ms/step\n"
          ]
        },
        {
          "output_type": "stream",
          "name": "stderr",
          "text": [
            "\r  5%|▍         | 19/393 [00:04<01:12,  5.14it/s]"
          ]
        },
        {
          "output_type": "stream",
          "name": "stdout",
          "text": [
            "1/1 [==============================] - 0s 18ms/step\n"
          ]
        },
        {
          "output_type": "stream",
          "name": "stderr",
          "text": [
            "\r  5%|▌         | 20/393 [00:04<01:12,  5.18it/s]"
          ]
        },
        {
          "output_type": "stream",
          "name": "stdout",
          "text": [
            "1/1 [==============================] - 0s 16ms/step\n"
          ]
        },
        {
          "output_type": "stream",
          "name": "stderr",
          "text": [
            "\r  5%|▌         | 21/393 [00:04<01:12,  5.15it/s]"
          ]
        },
        {
          "output_type": "stream",
          "name": "stdout",
          "text": [
            "1/1 [==============================] - 0s 22ms/step\n"
          ]
        },
        {
          "output_type": "stream",
          "name": "stderr",
          "text": [
            "\r  6%|▌         | 22/393 [00:04<01:11,  5.18it/s]"
          ]
        },
        {
          "output_type": "stream",
          "name": "stdout",
          "text": [
            "1/1 [==============================] - 0s 17ms/step\n"
          ]
        },
        {
          "output_type": "stream",
          "name": "stderr",
          "text": [
            "\r  6%|▌         | 23/393 [00:05<01:11,  5.14it/s]"
          ]
        },
        {
          "output_type": "stream",
          "name": "stdout",
          "text": [
            "1/1 [==============================] - 0s 19ms/step\n"
          ]
        },
        {
          "output_type": "stream",
          "name": "stderr",
          "text": [
            "\r  6%|▌         | 24/393 [00:05<01:10,  5.20it/s]"
          ]
        },
        {
          "output_type": "stream",
          "name": "stdout",
          "text": [
            "1/1 [==============================] - 0s 16ms/step\n"
          ]
        },
        {
          "output_type": "stream",
          "name": "stderr",
          "text": [
            "\r  6%|▋         | 25/393 [00:05<01:09,  5.28it/s]"
          ]
        },
        {
          "output_type": "stream",
          "name": "stdout",
          "text": [
            "1/1 [==============================] - 0s 19ms/step\n"
          ]
        },
        {
          "output_type": "stream",
          "name": "stderr",
          "text": [
            "\r  7%|▋         | 26/393 [00:05<01:08,  5.32it/s]"
          ]
        },
        {
          "output_type": "stream",
          "name": "stdout",
          "text": [
            "1/1 [==============================] - 0s 19ms/step\n"
          ]
        },
        {
          "output_type": "stream",
          "name": "stderr",
          "text": [
            "\r  7%|▋         | 27/393 [00:05<01:09,  5.28it/s]"
          ]
        },
        {
          "output_type": "stream",
          "name": "stdout",
          "text": [
            "1/1 [==============================] - 0s 16ms/step\n"
          ]
        },
        {
          "output_type": "stream",
          "name": "stderr",
          "text": [
            "\r  7%|▋         | 28/393 [00:06<01:08,  5.30it/s]"
          ]
        },
        {
          "output_type": "stream",
          "name": "stdout",
          "text": [
            "1/1 [==============================] - 0s 18ms/step\n"
          ]
        },
        {
          "output_type": "stream",
          "name": "stderr",
          "text": [
            "\r  7%|▋         | 29/393 [00:06<01:07,  5.36it/s]"
          ]
        },
        {
          "output_type": "stream",
          "name": "stdout",
          "text": [
            "1/1 [==============================] - 0s 18ms/step\n"
          ]
        },
        {
          "output_type": "stream",
          "name": "stderr",
          "text": [
            "\r  8%|▊         | 30/393 [00:06<01:09,  5.24it/s]"
          ]
        },
        {
          "output_type": "stream",
          "name": "stdout",
          "text": [
            "1/1 [==============================] - 0s 17ms/step\n"
          ]
        },
        {
          "output_type": "stream",
          "name": "stderr",
          "text": [
            "\r  8%|▊         | 31/393 [00:06<01:09,  5.19it/s]"
          ]
        },
        {
          "output_type": "stream",
          "name": "stdout",
          "text": [
            "1/1 [==============================] - 0s 19ms/step\n"
          ]
        },
        {
          "output_type": "stream",
          "name": "stderr",
          "text": [
            "\r  8%|▊         | 32/393 [00:06<01:10,  5.11it/s]"
          ]
        },
        {
          "output_type": "stream",
          "name": "stdout",
          "text": [
            "1/1 [==============================] - 0s 16ms/step\n"
          ]
        },
        {
          "output_type": "stream",
          "name": "stderr",
          "text": [
            "\r  8%|▊         | 33/393 [00:07<01:09,  5.22it/s]"
          ]
        },
        {
          "output_type": "stream",
          "name": "stdout",
          "text": [
            "1/1 [==============================] - 0s 18ms/step\n"
          ]
        },
        {
          "output_type": "stream",
          "name": "stderr",
          "text": [
            "\r  9%|▊         | 34/393 [00:07<01:08,  5.27it/s]"
          ]
        },
        {
          "output_type": "stream",
          "name": "stdout",
          "text": [
            "1/1 [==============================] - 0s 16ms/step\n"
          ]
        },
        {
          "output_type": "stream",
          "name": "stderr",
          "text": [
            "\r  9%|▉         | 35/393 [00:07<01:07,  5.28it/s]"
          ]
        },
        {
          "output_type": "stream",
          "name": "stdout",
          "text": [
            "1/1 [==============================] - 0s 25ms/step\n"
          ]
        },
        {
          "output_type": "stream",
          "name": "stderr",
          "text": [
            "\r  9%|▉         | 36/393 [00:07<01:09,  5.16it/s]"
          ]
        },
        {
          "output_type": "stream",
          "name": "stdout",
          "text": [
            "1/1 [==============================] - 0s 17ms/step\n"
          ]
        },
        {
          "output_type": "stream",
          "name": "stderr",
          "text": [
            "\r  9%|▉         | 37/393 [00:07<01:09,  5.12it/s]"
          ]
        },
        {
          "output_type": "stream",
          "name": "stdout",
          "text": [
            "1/1 [==============================] - 0s 24ms/step\n"
          ]
        },
        {
          "output_type": "stream",
          "name": "stderr",
          "text": [
            "\r 10%|▉         | 38/393 [00:07<01:09,  5.08it/s]"
          ]
        },
        {
          "output_type": "stream",
          "name": "stdout",
          "text": [
            "1/1 [==============================] - 0s 17ms/step\n"
          ]
        },
        {
          "output_type": "stream",
          "name": "stderr",
          "text": [
            "\r 10%|▉         | 39/393 [00:08<01:10,  5.02it/s]"
          ]
        },
        {
          "output_type": "stream",
          "name": "stdout",
          "text": [
            "1/1 [==============================] - 0s 23ms/step\n"
          ]
        },
        {
          "output_type": "stream",
          "name": "stderr",
          "text": [
            "\r 10%|█         | 40/393 [00:08<01:10,  5.03it/s]"
          ]
        },
        {
          "output_type": "stream",
          "name": "stdout",
          "text": [
            "1/1 [==============================] - 0s 19ms/step\n"
          ]
        },
        {
          "output_type": "stream",
          "name": "stderr",
          "text": [
            "\r 10%|█         | 41/393 [00:08<01:09,  5.05it/s]"
          ]
        },
        {
          "output_type": "stream",
          "name": "stdout",
          "text": [
            "1/1 [==============================] - 0s 16ms/step\n"
          ]
        },
        {
          "output_type": "stream",
          "name": "stderr",
          "text": [
            "\r 11%|█         | 42/393 [00:08<01:09,  5.07it/s]"
          ]
        },
        {
          "output_type": "stream",
          "name": "stdout",
          "text": [
            "1/1 [==============================] - 0s 38ms/step\n"
          ]
        },
        {
          "output_type": "stream",
          "name": "stderr",
          "text": [
            "\r 11%|█         | 43/393 [00:09<01:19,  4.43it/s]"
          ]
        },
        {
          "output_type": "stream",
          "name": "stdout",
          "text": [
            "1/1 [==============================] - 0s 29ms/step\n"
          ]
        },
        {
          "output_type": "stream",
          "name": "stderr",
          "text": [
            "\r 11%|█         | 44/393 [00:09<01:19,  4.36it/s]"
          ]
        },
        {
          "output_type": "stream",
          "name": "stdout",
          "text": [
            "1/1 [==============================] - 0s 18ms/step\n"
          ]
        },
        {
          "output_type": "stream",
          "name": "stderr",
          "text": [
            "\r 11%|█▏        | 45/393 [00:09<01:14,  4.65it/s]"
          ]
        },
        {
          "output_type": "stream",
          "name": "stdout",
          "text": [
            "1/1 [==============================] - 0s 21ms/step\n"
          ]
        },
        {
          "output_type": "stream",
          "name": "stderr",
          "text": [
            "\r 12%|█▏        | 46/393 [00:09<01:12,  4.79it/s]"
          ]
        },
        {
          "output_type": "stream",
          "name": "stdout",
          "text": [
            "1/1 [==============================] - 0s 22ms/step\n"
          ]
        },
        {
          "output_type": "stream",
          "name": "stderr",
          "text": [
            "\r 12%|█▏        | 47/393 [00:09<01:13,  4.68it/s]"
          ]
        },
        {
          "output_type": "stream",
          "name": "stdout",
          "text": [
            "1/1 [==============================] - 0s 30ms/step\n"
          ]
        },
        {
          "output_type": "stream",
          "name": "stderr",
          "text": [
            "\r 12%|█▏        | 48/393 [00:10<01:15,  4.59it/s]"
          ]
        },
        {
          "output_type": "stream",
          "name": "stdout",
          "text": [
            "1/1 [==============================] - 0s 23ms/step\n"
          ]
        },
        {
          "output_type": "stream",
          "name": "stderr",
          "text": [
            "\r 12%|█▏        | 49/393 [00:10<01:15,  4.56it/s]"
          ]
        },
        {
          "output_type": "stream",
          "name": "stdout",
          "text": [
            "1/1 [==============================] - 0s 26ms/step\n"
          ]
        },
        {
          "output_type": "stream",
          "name": "stderr",
          "text": [
            "\r 13%|█▎        | 50/393 [00:10<01:14,  4.59it/s]"
          ]
        },
        {
          "output_type": "stream",
          "name": "stdout",
          "text": [
            "1/1 [==============================] - 0s 26ms/step\n"
          ]
        },
        {
          "output_type": "stream",
          "name": "stderr",
          "text": [
            "\r 13%|█▎        | 51/393 [00:10<01:14,  4.58it/s]"
          ]
        },
        {
          "output_type": "stream",
          "name": "stdout",
          "text": [
            "1/1 [==============================] - 0s 32ms/step\n"
          ]
        },
        {
          "output_type": "stream",
          "name": "stderr",
          "text": [
            "\r 13%|█▎        | 52/393 [00:11<01:22,  4.12it/s]"
          ]
        },
        {
          "output_type": "stream",
          "name": "stdout",
          "text": [
            "1/1 [==============================] - 0s 26ms/step\n"
          ]
        },
        {
          "output_type": "stream",
          "name": "stderr",
          "text": [
            "\r 13%|█▎        | 53/393 [00:11<01:21,  4.19it/s]"
          ]
        },
        {
          "output_type": "stream",
          "name": "stdout",
          "text": [
            "1/1 [==============================] - 0s 27ms/step\n"
          ]
        },
        {
          "output_type": "stream",
          "name": "stderr",
          "text": [
            "\r 14%|█▎        | 54/393 [00:11<01:18,  4.31it/s]"
          ]
        },
        {
          "output_type": "stream",
          "name": "stdout",
          "text": [
            "1/1 [==============================] - 0s 25ms/step\n"
          ]
        },
        {
          "output_type": "stream",
          "name": "stderr",
          "text": [
            "\r 14%|█▍        | 55/393 [00:11<01:17,  4.36it/s]"
          ]
        },
        {
          "output_type": "stream",
          "name": "stdout",
          "text": [
            "1/1 [==============================] - 0s 24ms/step\n"
          ]
        },
        {
          "output_type": "stream",
          "name": "stderr",
          "text": [
            "\r 14%|█▍        | 56/393 [00:11<01:18,  4.31it/s]"
          ]
        },
        {
          "output_type": "stream",
          "name": "stdout",
          "text": [
            "1/1 [==============================] - 0s 33ms/step\n"
          ]
        },
        {
          "output_type": "stream",
          "name": "stderr",
          "text": [
            "\r 15%|█▍        | 57/393 [00:12<01:21,  4.11it/s]"
          ]
        },
        {
          "output_type": "stream",
          "name": "stdout",
          "text": [
            "1/1 [==============================] - 0s 24ms/step\n"
          ]
        },
        {
          "output_type": "stream",
          "name": "stderr",
          "text": [
            "\r 15%|█▍        | 58/393 [00:12<01:18,  4.25it/s]"
          ]
        },
        {
          "output_type": "stream",
          "name": "stdout",
          "text": [
            "1/1 [==============================] - 0s 30ms/step\n"
          ]
        },
        {
          "output_type": "stream",
          "name": "stderr",
          "text": [
            "\r 15%|█▌        | 59/393 [00:12<01:18,  4.24it/s]"
          ]
        },
        {
          "output_type": "stream",
          "name": "stdout",
          "text": [
            "1/1 [==============================] - 0s 27ms/step\n"
          ]
        },
        {
          "output_type": "stream",
          "name": "stderr",
          "text": [
            "\r 15%|█▌        | 60/393 [00:12<01:16,  4.37it/s]"
          ]
        },
        {
          "output_type": "stream",
          "name": "stdout",
          "text": [
            "1/1 [==============================] - 0s 26ms/step\n"
          ]
        },
        {
          "output_type": "stream",
          "name": "stderr",
          "text": [
            "\r 16%|█▌        | 61/393 [00:13<01:16,  4.36it/s]"
          ]
        },
        {
          "output_type": "stream",
          "name": "stdout",
          "text": [
            "1/1 [==============================] - 0s 36ms/step\n"
          ]
        },
        {
          "output_type": "stream",
          "name": "stderr",
          "text": [
            "\r 16%|█▌        | 62/393 [00:13<01:16,  4.30it/s]"
          ]
        },
        {
          "output_type": "stream",
          "name": "stdout",
          "text": [
            "1/1 [==============================] - 0s 29ms/step\n"
          ]
        },
        {
          "output_type": "stream",
          "name": "stderr",
          "text": [
            "\r 16%|█▌        | 63/393 [00:13<01:17,  4.28it/s]"
          ]
        },
        {
          "output_type": "stream",
          "name": "stdout",
          "text": [
            "1/1 [==============================] - 0s 27ms/step\n"
          ]
        },
        {
          "output_type": "stream",
          "name": "stderr",
          "text": [
            "\r 16%|█▋        | 64/393 [00:13<01:17,  4.24it/s]"
          ]
        },
        {
          "output_type": "stream",
          "name": "stdout",
          "text": [
            "1/1 [==============================] - 0s 31ms/step\n"
          ]
        },
        {
          "output_type": "stream",
          "name": "stderr",
          "text": [
            "\r 17%|█▋        | 65/393 [00:14<01:19,  4.14it/s]"
          ]
        },
        {
          "output_type": "stream",
          "name": "stdout",
          "text": [
            "1/1 [==============================] - 0s 28ms/step\n"
          ]
        },
        {
          "output_type": "stream",
          "name": "stderr",
          "text": [
            "\r 17%|█▋        | 66/393 [00:14<01:20,  4.05it/s]"
          ]
        },
        {
          "output_type": "stream",
          "name": "stdout",
          "text": [
            "1/1 [==============================] - 0s 28ms/step\n"
          ]
        },
        {
          "output_type": "stream",
          "name": "stderr",
          "text": [
            "\r 17%|█▋        | 67/393 [00:14<01:22,  3.93it/s]"
          ]
        },
        {
          "output_type": "stream",
          "name": "stdout",
          "text": [
            "1/1 [==============================] - 0s 24ms/step\n"
          ]
        },
        {
          "output_type": "stream",
          "name": "stderr",
          "text": [
            "\r 17%|█▋        | 68/393 [00:14<01:22,  3.95it/s]"
          ]
        },
        {
          "output_type": "stream",
          "name": "stdout",
          "text": [
            "1/1 [==============================] - 0s 29ms/step\n"
          ]
        },
        {
          "output_type": "stream",
          "name": "stderr",
          "text": [
            "\r 18%|█▊        | 69/393 [00:15<01:18,  4.10it/s]"
          ]
        },
        {
          "output_type": "stream",
          "name": "stdout",
          "text": [
            "1/1 [==============================] - 0s 28ms/step\n"
          ]
        },
        {
          "output_type": "stream",
          "name": "stderr",
          "text": [
            "\r 18%|█▊        | 70/393 [00:15<01:16,  4.21it/s]"
          ]
        },
        {
          "output_type": "stream",
          "name": "stdout",
          "text": [
            "1/1 [==============================] - 0s 25ms/step\n"
          ]
        },
        {
          "output_type": "stream",
          "name": "stderr",
          "text": [
            "\r 18%|█▊        | 71/393 [00:15<01:15,  4.26it/s]"
          ]
        },
        {
          "output_type": "stream",
          "name": "stdout",
          "text": [
            "1/1 [==============================] - 0s 31ms/step\n"
          ]
        },
        {
          "output_type": "stream",
          "name": "stderr",
          "text": [
            "\r 18%|█▊        | 72/393 [00:15<01:18,  4.07it/s]"
          ]
        },
        {
          "output_type": "stream",
          "name": "stdout",
          "text": [
            "1/1 [==============================] - 0s 25ms/step\n"
          ]
        },
        {
          "output_type": "stream",
          "name": "stderr",
          "text": [
            "\r 19%|█▊        | 73/393 [00:16<01:18,  4.10it/s]"
          ]
        },
        {
          "output_type": "stream",
          "name": "stdout",
          "text": [
            "1/1 [==============================] - 0s 24ms/step\n"
          ]
        },
        {
          "output_type": "stream",
          "name": "stderr",
          "text": [
            "\r 19%|█▉        | 74/393 [00:16<01:15,  4.20it/s]"
          ]
        },
        {
          "output_type": "stream",
          "name": "stdout",
          "text": [
            "1/1 [==============================] - 0s 24ms/step\n"
          ]
        },
        {
          "output_type": "stream",
          "name": "stderr",
          "text": [
            "\r 19%|█▉        | 75/393 [00:16<01:15,  4.22it/s]"
          ]
        },
        {
          "output_type": "stream",
          "name": "stdout",
          "text": [
            "1/1 [==============================] - 0s 31ms/step\n"
          ]
        },
        {
          "output_type": "stream",
          "name": "stderr",
          "text": [
            "\r 19%|█▉        | 76/393 [00:16<01:18,  4.02it/s]"
          ]
        },
        {
          "output_type": "stream",
          "name": "stdout",
          "text": [
            "1/1 [==============================] - 0s 25ms/step\n"
          ]
        },
        {
          "output_type": "stream",
          "name": "stderr",
          "text": [
            "\r 20%|█▉        | 77/393 [00:17<01:15,  4.19it/s]"
          ]
        },
        {
          "output_type": "stream",
          "name": "stdout",
          "text": [
            "1/1 [==============================] - 0s 25ms/step\n"
          ]
        },
        {
          "output_type": "stream",
          "name": "stderr",
          "text": [
            "\r 20%|█▉        | 78/393 [00:17<01:14,  4.24it/s]"
          ]
        },
        {
          "output_type": "stream",
          "name": "stdout",
          "text": [
            "1/1 [==============================] - 0s 27ms/step\n"
          ]
        },
        {
          "output_type": "stream",
          "name": "stderr",
          "text": [
            "\r 20%|██        | 79/393 [00:17<01:17,  4.05it/s]"
          ]
        },
        {
          "output_type": "stream",
          "name": "stdout",
          "text": [
            "1/1 [==============================] - 0s 27ms/step\n"
          ]
        },
        {
          "output_type": "stream",
          "name": "stderr",
          "text": [
            "\r 20%|██        | 80/393 [00:17<01:14,  4.18it/s]"
          ]
        },
        {
          "output_type": "stream",
          "name": "stdout",
          "text": [
            "1/1 [==============================] - 0s 28ms/step\n"
          ]
        },
        {
          "output_type": "stream",
          "name": "stderr",
          "text": [
            "\r 21%|██        | 81/393 [00:18<01:14,  4.21it/s]"
          ]
        },
        {
          "output_type": "stream",
          "name": "stdout",
          "text": [
            "1/1 [==============================] - 0s 32ms/step\n"
          ]
        },
        {
          "output_type": "stream",
          "name": "stderr",
          "text": [
            "\r 21%|██        | 82/393 [00:18<01:13,  4.23it/s]"
          ]
        },
        {
          "output_type": "stream",
          "name": "stdout",
          "text": [
            "1/1 [==============================] - 0s 29ms/step\n"
          ]
        },
        {
          "output_type": "stream",
          "name": "stderr",
          "text": [
            "\r 21%|██        | 83/393 [00:18<01:17,  4.00it/s]"
          ]
        },
        {
          "output_type": "stream",
          "name": "stdout",
          "text": [
            "1/1 [==============================] - 0s 38ms/step\n"
          ]
        },
        {
          "output_type": "stream",
          "name": "stderr",
          "text": [
            "\r 21%|██▏       | 84/393 [00:18<01:15,  4.08it/s]"
          ]
        },
        {
          "output_type": "stream",
          "name": "stdout",
          "text": [
            "1/1 [==============================] - 0s 29ms/step\n"
          ]
        },
        {
          "output_type": "stream",
          "name": "stderr",
          "text": [
            "\r 22%|██▏       | 85/393 [00:18<01:13,  4.17it/s]"
          ]
        },
        {
          "output_type": "stream",
          "name": "stdout",
          "text": [
            "1/1 [==============================] - 0s 27ms/step\n"
          ]
        },
        {
          "output_type": "stream",
          "name": "stderr",
          "text": [
            "\r 22%|██▏       | 86/393 [00:19<01:13,  4.16it/s]"
          ]
        },
        {
          "output_type": "stream",
          "name": "stdout",
          "text": [
            "1/1 [==============================] - 0s 26ms/step\n"
          ]
        },
        {
          "output_type": "stream",
          "name": "stderr",
          "text": [
            "\r 22%|██▏       | 87/393 [00:19<01:15,  4.04it/s]"
          ]
        },
        {
          "output_type": "stream",
          "name": "stdout",
          "text": [
            "1/1 [==============================] - 0s 24ms/step\n"
          ]
        },
        {
          "output_type": "stream",
          "name": "stderr",
          "text": [
            "\r 22%|██▏       | 88/393 [00:19<01:14,  4.10it/s]"
          ]
        },
        {
          "output_type": "stream",
          "name": "stdout",
          "text": [
            "1/1 [==============================] - 0s 33ms/step\n"
          ]
        },
        {
          "output_type": "stream",
          "name": "stderr",
          "text": [
            "\r 23%|██▎       | 89/393 [00:19<01:12,  4.20it/s]"
          ]
        },
        {
          "output_type": "stream",
          "name": "stdout",
          "text": [
            "1/1 [==============================] - 0s 29ms/step\n"
          ]
        },
        {
          "output_type": "stream",
          "name": "stderr",
          "text": [
            "\r 23%|██▎       | 90/393 [00:20<01:12,  4.19it/s]"
          ]
        },
        {
          "output_type": "stream",
          "name": "stdout",
          "text": [
            "1/1 [==============================] - 0s 29ms/step\n"
          ]
        },
        {
          "output_type": "stream",
          "name": "stderr",
          "text": [
            "\r 23%|██▎       | 91/393 [00:20<01:13,  4.14it/s]"
          ]
        },
        {
          "output_type": "stream",
          "name": "stdout",
          "text": [
            "1/1 [==============================] - 0s 30ms/step\n"
          ]
        },
        {
          "output_type": "stream",
          "name": "stderr",
          "text": [
            "\r 23%|██▎       | 92/393 [00:20<01:14,  4.03it/s]"
          ]
        },
        {
          "output_type": "stream",
          "name": "stdout",
          "text": [
            "1/1 [==============================] - 0s 29ms/step\n"
          ]
        },
        {
          "output_type": "stream",
          "name": "stderr",
          "text": [
            "\r 24%|██▎       | 93/393 [00:20<01:13,  4.11it/s]"
          ]
        },
        {
          "output_type": "stream",
          "name": "stdout",
          "text": [
            "1/1 [==============================] - 0s 28ms/step\n"
          ]
        },
        {
          "output_type": "stream",
          "name": "stderr",
          "text": [
            "\r 24%|██▍       | 94/393 [00:21<01:11,  4.19it/s]"
          ]
        },
        {
          "output_type": "stream",
          "name": "stdout",
          "text": [
            "1/1 [==============================] - 0s 30ms/step\n"
          ]
        },
        {
          "output_type": "stream",
          "name": "stderr",
          "text": [
            "\r 24%|██▍       | 95/393 [00:21<01:13,  4.04it/s]"
          ]
        },
        {
          "output_type": "stream",
          "name": "stdout",
          "text": [
            "1/1 [==============================] - 0s 26ms/step\n"
          ]
        },
        {
          "output_type": "stream",
          "name": "stderr",
          "text": [
            "\r 24%|██▍       | 96/393 [00:21<01:15,  3.91it/s]"
          ]
        },
        {
          "output_type": "stream",
          "name": "stdout",
          "text": [
            "1/1 [==============================] - 0s 27ms/step\n"
          ]
        },
        {
          "output_type": "stream",
          "name": "stderr",
          "text": [
            "\r 25%|██▍       | 97/393 [00:21<01:12,  4.09it/s]"
          ]
        },
        {
          "output_type": "stream",
          "name": "stdout",
          "text": [
            "1/1 [==============================] - 0s 30ms/step\n"
          ]
        },
        {
          "output_type": "stream",
          "name": "stderr",
          "text": [
            "\r 25%|██▍       | 98/393 [00:22<01:09,  4.22it/s]"
          ]
        },
        {
          "output_type": "stream",
          "name": "stdout",
          "text": [
            "1/1 [==============================] - 0s 31ms/step\n"
          ]
        },
        {
          "output_type": "stream",
          "name": "stderr",
          "text": [
            "\r 25%|██▌       | 99/393 [00:22<01:11,  4.11it/s]"
          ]
        },
        {
          "output_type": "stream",
          "name": "stdout",
          "text": [
            "1/1 [==============================] - 0s 25ms/step\n"
          ]
        },
        {
          "output_type": "stream",
          "name": "stderr",
          "text": [
            "\r 25%|██▌       | 100/393 [00:22<01:10,  4.18it/s]"
          ]
        },
        {
          "output_type": "stream",
          "name": "stdout",
          "text": [
            "1/1 [==============================] - 0s 26ms/step\n"
          ]
        },
        {
          "output_type": "stream",
          "name": "stderr",
          "text": [
            "\r 26%|██▌       | 101/393 [00:22<01:10,  4.15it/s]"
          ]
        },
        {
          "output_type": "stream",
          "name": "stdout",
          "text": [
            "1/1 [==============================] - 0s 25ms/step\n"
          ]
        },
        {
          "output_type": "stream",
          "name": "stderr",
          "text": [
            "\r 26%|██▌       | 102/393 [00:23<01:07,  4.29it/s]"
          ]
        },
        {
          "output_type": "stream",
          "name": "stdout",
          "text": [
            "1/1 [==============================] - 0s 25ms/step\n"
          ]
        },
        {
          "output_type": "stream",
          "name": "stderr",
          "text": [
            "\r 26%|██▌       | 103/393 [00:23<01:08,  4.21it/s]"
          ]
        },
        {
          "output_type": "stream",
          "name": "stdout",
          "text": [
            "1/1 [==============================] - 0s 27ms/step\n"
          ]
        },
        {
          "output_type": "stream",
          "name": "stderr",
          "text": [
            "\r 26%|██▋       | 104/393 [00:23<01:08,  4.19it/s]"
          ]
        },
        {
          "output_type": "stream",
          "name": "stdout",
          "text": [
            "1/1 [==============================] - 0s 31ms/step\n"
          ]
        },
        {
          "output_type": "stream",
          "name": "stderr",
          "text": [
            "\r 27%|██▋       | 105/393 [00:23<01:09,  4.17it/s]"
          ]
        },
        {
          "output_type": "stream",
          "name": "stdout",
          "text": [
            "1/1 [==============================] - 0s 24ms/step\n"
          ]
        },
        {
          "output_type": "stream",
          "name": "stderr",
          "text": [
            "\r 27%|██▋       | 106/393 [00:24<01:06,  4.30it/s]"
          ]
        },
        {
          "output_type": "stream",
          "name": "stdout",
          "text": [
            "1/1 [==============================] - 0s 24ms/step\n"
          ]
        },
        {
          "output_type": "stream",
          "name": "stderr",
          "text": [
            "\r 27%|██▋       | 107/393 [00:24<01:04,  4.41it/s]"
          ]
        },
        {
          "output_type": "stream",
          "name": "stdout",
          "text": [
            "1/1 [==============================] - 0s 31ms/step\n"
          ]
        },
        {
          "output_type": "stream",
          "name": "stderr",
          "text": [
            "\r 27%|██▋       | 108/393 [00:24<01:05,  4.32it/s]"
          ]
        },
        {
          "output_type": "stream",
          "name": "stdout",
          "text": [
            "1/1 [==============================] - 0s 29ms/step\n"
          ]
        },
        {
          "output_type": "stream",
          "name": "stderr",
          "text": [
            "\r 28%|██▊       | 109/393 [00:24<01:06,  4.25it/s]"
          ]
        },
        {
          "output_type": "stream",
          "name": "stdout",
          "text": [
            "1/1 [==============================] - 0s 36ms/step\n"
          ]
        },
        {
          "output_type": "stream",
          "name": "stderr",
          "text": [
            "\r 28%|██▊       | 110/393 [00:24<01:07,  4.19it/s]"
          ]
        },
        {
          "output_type": "stream",
          "name": "stdout",
          "text": [
            "1/1 [==============================] - 0s 24ms/step\n"
          ]
        },
        {
          "output_type": "stream",
          "name": "stderr",
          "text": [
            "\r 28%|██▊       | 111/393 [00:25<01:11,  3.94it/s]"
          ]
        },
        {
          "output_type": "stream",
          "name": "stdout",
          "text": [
            "1/1 [==============================] - 0s 23ms/step\n"
          ]
        },
        {
          "output_type": "stream",
          "name": "stderr",
          "text": [
            "\r 28%|██▊       | 112/393 [00:25<01:10,  3.97it/s]"
          ]
        },
        {
          "output_type": "stream",
          "name": "stdout",
          "text": [
            "1/1 [==============================] - 0s 26ms/step\n"
          ]
        },
        {
          "output_type": "stream",
          "name": "stderr",
          "text": [
            "\r 29%|██▉       | 113/393 [00:25<01:09,  4.03it/s]"
          ]
        },
        {
          "output_type": "stream",
          "name": "stdout",
          "text": [
            "1/1 [==============================] - 0s 28ms/step\n"
          ]
        },
        {
          "output_type": "stream",
          "name": "stderr",
          "text": [
            "\r 29%|██▉       | 114/393 [00:25<01:07,  4.13it/s]"
          ]
        },
        {
          "output_type": "stream",
          "name": "stdout",
          "text": [
            "1/1 [==============================] - 0s 26ms/step\n"
          ]
        },
        {
          "output_type": "stream",
          "name": "stderr",
          "text": [
            "\r 29%|██▉       | 115/393 [00:26<01:07,  4.11it/s]"
          ]
        },
        {
          "output_type": "stream",
          "name": "stdout",
          "text": [
            "1/1 [==============================] - 0s 28ms/step\n"
          ]
        },
        {
          "output_type": "stream",
          "name": "stderr",
          "text": [
            "\r 30%|██▉       | 116/393 [00:26<01:08,  4.02it/s]"
          ]
        },
        {
          "output_type": "stream",
          "name": "stdout",
          "text": [
            "1/1 [==============================] - 0s 25ms/step\n"
          ]
        },
        {
          "output_type": "stream",
          "name": "stderr",
          "text": [
            "\r 30%|██▉       | 117/393 [00:26<01:07,  4.06it/s]"
          ]
        },
        {
          "output_type": "stream",
          "name": "stdout",
          "text": [
            "1/1 [==============================] - 0s 26ms/step\n"
          ]
        },
        {
          "output_type": "stream",
          "name": "stderr",
          "text": [
            "\r 30%|███       | 118/393 [00:26<01:06,  4.14it/s]"
          ]
        },
        {
          "output_type": "stream",
          "name": "stdout",
          "text": [
            "1/1 [==============================] - 0s 25ms/step\n"
          ]
        },
        {
          "output_type": "stream",
          "name": "stderr",
          "text": [
            "\r 30%|███       | 119/393 [00:27<01:05,  4.21it/s]"
          ]
        },
        {
          "output_type": "stream",
          "name": "stdout",
          "text": [
            "1/1 [==============================] - 0s 23ms/step\n"
          ]
        },
        {
          "output_type": "stream",
          "name": "stderr",
          "text": [
            "\r 31%|███       | 120/393 [00:27<01:06,  4.13it/s]"
          ]
        },
        {
          "output_type": "stream",
          "name": "stdout",
          "text": [
            "1/1 [==============================] - 0s 26ms/step\n"
          ]
        },
        {
          "output_type": "stream",
          "name": "stderr",
          "text": [
            "\r 31%|███       | 121/393 [00:27<01:06,  4.11it/s]"
          ]
        },
        {
          "output_type": "stream",
          "name": "stdout",
          "text": [
            "1/1 [==============================] - 0s 25ms/step\n"
          ]
        },
        {
          "output_type": "stream",
          "name": "stderr",
          "text": [
            "\r 31%|███       | 122/393 [00:27<01:05,  4.13it/s]"
          ]
        },
        {
          "output_type": "stream",
          "name": "stdout",
          "text": [
            "1/1 [==============================] - 0s 28ms/step\n"
          ]
        },
        {
          "output_type": "stream",
          "name": "stderr",
          "text": [
            "\r 31%|███▏      | 123/393 [00:28<01:09,  3.91it/s]"
          ]
        },
        {
          "output_type": "stream",
          "name": "stdout",
          "text": [
            "1/1 [==============================] - 0s 29ms/step\n"
          ]
        },
        {
          "output_type": "stream",
          "name": "stderr",
          "text": [
            "\r 32%|███▏      | 124/393 [00:28<01:08,  3.94it/s]"
          ]
        },
        {
          "output_type": "stream",
          "name": "stdout",
          "text": [
            "1/1 [==============================] - 0s 26ms/step\n"
          ]
        },
        {
          "output_type": "stream",
          "name": "stderr",
          "text": [
            "\r 32%|███▏      | 125/393 [00:28<01:05,  4.07it/s]"
          ]
        },
        {
          "output_type": "stream",
          "name": "stdout",
          "text": [
            "1/1 [==============================] - 0s 26ms/step\n"
          ]
        },
        {
          "output_type": "stream",
          "name": "stderr",
          "text": [
            "\r 32%|███▏      | 126/393 [00:28<01:04,  4.17it/s]"
          ]
        },
        {
          "output_type": "stream",
          "name": "stdout",
          "text": [
            "1/1 [==============================] - 0s 25ms/step\n"
          ]
        },
        {
          "output_type": "stream",
          "name": "stderr",
          "text": [
            "\r 32%|███▏      | 127/393 [00:29<01:03,  4.21it/s]"
          ]
        },
        {
          "output_type": "stream",
          "name": "stdout",
          "text": [
            "1/1 [==============================] - 0s 25ms/step\n"
          ]
        },
        {
          "output_type": "stream",
          "name": "stderr",
          "text": [
            "\r 33%|███▎      | 128/393 [00:29<01:05,  4.02it/s]"
          ]
        },
        {
          "output_type": "stream",
          "name": "stdout",
          "text": [
            "1/1 [==============================] - 0s 25ms/step\n"
          ]
        },
        {
          "output_type": "stream",
          "name": "stderr",
          "text": [
            "\r 33%|███▎      | 129/393 [00:29<01:05,  4.03it/s]"
          ]
        },
        {
          "output_type": "stream",
          "name": "stdout",
          "text": [
            "1/1 [==============================] - 0s 26ms/step\n"
          ]
        },
        {
          "output_type": "stream",
          "name": "stderr",
          "text": [
            "\r 33%|███▎      | 130/393 [00:29<01:03,  4.17it/s]"
          ]
        },
        {
          "output_type": "stream",
          "name": "stdout",
          "text": [
            "1/1 [==============================] - 0s 37ms/step\n"
          ]
        },
        {
          "output_type": "stream",
          "name": "stderr",
          "text": [
            "\r 33%|███▎      | 131/393 [00:30<01:05,  3.98it/s]"
          ]
        },
        {
          "output_type": "stream",
          "name": "stdout",
          "text": [
            "1/1 [==============================] - 0s 24ms/step\n"
          ]
        },
        {
          "output_type": "stream",
          "name": "stderr",
          "text": [
            "\r 34%|███▎      | 132/393 [00:30<01:05,  4.01it/s]"
          ]
        },
        {
          "output_type": "stream",
          "name": "stdout",
          "text": [
            "1/1 [==============================] - 0s 24ms/step\n"
          ]
        },
        {
          "output_type": "stream",
          "name": "stderr",
          "text": [
            "\r 34%|███▍      | 133/393 [00:30<01:05,  4.00it/s]"
          ]
        },
        {
          "output_type": "stream",
          "name": "stdout",
          "text": [
            "1/1 [==============================] - 0s 17ms/step\n"
          ]
        },
        {
          "output_type": "stream",
          "name": "stderr",
          "text": [
            "\r 34%|███▍      | 134/393 [00:31<01:17,  3.35it/s]"
          ]
        },
        {
          "output_type": "stream",
          "name": "stdout",
          "text": [
            "1/1 [==============================] - 0s 31ms/step\n"
          ]
        },
        {
          "output_type": "stream",
          "name": "stderr",
          "text": [
            "\r 34%|███▍      | 135/393 [00:31<01:13,  3.51it/s]"
          ]
        },
        {
          "output_type": "stream",
          "name": "stdout",
          "text": [
            "1/1 [==============================] - 0s 30ms/step\n"
          ]
        },
        {
          "output_type": "stream",
          "name": "stderr",
          "text": [
            "\r 35%|███▍      | 136/393 [00:31<01:10,  3.64it/s]"
          ]
        },
        {
          "output_type": "stream",
          "name": "stdout",
          "text": [
            "1/1 [==============================] - 0s 30ms/step\n"
          ]
        },
        {
          "output_type": "stream",
          "name": "stderr",
          "text": [
            "\r 35%|███▍      | 137/393 [00:31<01:09,  3.68it/s]"
          ]
        },
        {
          "output_type": "stream",
          "name": "stdout",
          "text": [
            "1/1 [==============================] - 0s 25ms/step\n"
          ]
        },
        {
          "output_type": "stream",
          "name": "stderr",
          "text": [
            "\r 35%|███▌      | 138/393 [00:32<01:05,  3.91it/s]"
          ]
        },
        {
          "output_type": "stream",
          "name": "stdout",
          "text": [
            "1/1 [==============================] - 0s 27ms/step\n"
          ]
        },
        {
          "output_type": "stream",
          "name": "stderr",
          "text": [
            "\r 35%|███▌      | 139/393 [00:32<01:05,  3.86it/s]"
          ]
        },
        {
          "output_type": "stream",
          "name": "stdout",
          "text": [
            "1/1 [==============================] - 0s 27ms/step\n"
          ]
        },
        {
          "output_type": "stream",
          "name": "stderr",
          "text": [
            "\r 36%|███▌      | 140/393 [00:32<01:04,  3.92it/s]"
          ]
        },
        {
          "output_type": "stream",
          "name": "stdout",
          "text": [
            "1/1 [==============================] - 0s 26ms/step\n"
          ]
        },
        {
          "output_type": "stream",
          "name": "stderr",
          "text": [
            "\r 36%|███▌      | 141/393 [00:32<01:02,  4.06it/s]"
          ]
        },
        {
          "output_type": "stream",
          "name": "stdout",
          "text": [
            "1/1 [==============================] - 0s 30ms/step\n"
          ]
        },
        {
          "output_type": "stream",
          "name": "stderr",
          "text": [
            "\r 36%|███▌      | 142/393 [00:33<01:01,  4.07it/s]"
          ]
        },
        {
          "output_type": "stream",
          "name": "stdout",
          "text": [
            "1/1 [==============================] - 0s 37ms/step\n"
          ]
        },
        {
          "output_type": "stream",
          "name": "stderr",
          "text": [
            "\r 36%|███▋      | 143/393 [00:33<01:02,  4.01it/s]"
          ]
        },
        {
          "output_type": "stream",
          "name": "stdout",
          "text": [
            "1/1 [==============================] - 0s 31ms/step\n"
          ]
        },
        {
          "output_type": "stream",
          "name": "stderr",
          "text": [
            "\r 37%|███▋      | 144/393 [00:33<01:04,  3.88it/s]"
          ]
        },
        {
          "output_type": "stream",
          "name": "stdout",
          "text": [
            "1/1 [==============================] - 0s 31ms/step\n"
          ]
        },
        {
          "output_type": "stream",
          "name": "stderr",
          "text": [
            "\r 37%|███▋      | 145/393 [00:33<01:02,  3.95it/s]"
          ]
        },
        {
          "output_type": "stream",
          "name": "stdout",
          "text": [
            "1/1 [==============================] - 0s 25ms/step\n"
          ]
        },
        {
          "output_type": "stream",
          "name": "stderr",
          "text": [
            "\r 37%|███▋      | 146/393 [00:34<01:02,  3.95it/s]"
          ]
        },
        {
          "output_type": "stream",
          "name": "stdout",
          "text": [
            "1/1 [==============================] - 0s 25ms/step\n"
          ]
        },
        {
          "output_type": "stream",
          "name": "stderr",
          "text": [
            "\r 37%|███▋      | 147/393 [00:34<01:03,  3.86it/s]"
          ]
        },
        {
          "output_type": "stream",
          "name": "stdout",
          "text": [
            "1/1 [==============================] - 0s 27ms/step\n"
          ]
        },
        {
          "output_type": "stream",
          "name": "stderr",
          "text": [
            "\r 38%|███▊      | 148/393 [00:34<01:01,  3.97it/s]"
          ]
        },
        {
          "output_type": "stream",
          "name": "stdout",
          "text": [
            "1/1 [==============================] - 0s 34ms/step\n"
          ]
        },
        {
          "output_type": "stream",
          "name": "stderr",
          "text": [
            "\r 38%|███▊      | 149/393 [00:34<01:00,  4.02it/s]"
          ]
        },
        {
          "output_type": "stream",
          "name": "stdout",
          "text": [
            "1/1 [==============================] - 0s 26ms/step\n"
          ]
        },
        {
          "output_type": "stream",
          "name": "stderr",
          "text": [
            "\r 38%|███▊      | 150/393 [00:35<01:00,  3.99it/s]"
          ]
        },
        {
          "output_type": "stream",
          "name": "stdout",
          "text": [
            "1/1 [==============================] - 0s 29ms/step\n"
          ]
        },
        {
          "output_type": "stream",
          "name": "stderr",
          "text": [
            "\r 38%|███▊      | 151/393 [00:35<00:59,  4.05it/s]"
          ]
        },
        {
          "output_type": "stream",
          "name": "stdout",
          "text": [
            "1/1 [==============================] - 0s 25ms/step\n"
          ]
        },
        {
          "output_type": "stream",
          "name": "stderr",
          "text": [
            "\r 39%|███▊      | 152/393 [00:35<00:57,  4.18it/s]"
          ]
        },
        {
          "output_type": "stream",
          "name": "stdout",
          "text": [
            "1/1 [==============================] - 0s 29ms/step\n"
          ]
        },
        {
          "output_type": "stream",
          "name": "stderr",
          "text": [
            "\r 39%|███▉      | 153/393 [00:35<00:59,  4.01it/s]"
          ]
        },
        {
          "output_type": "stream",
          "name": "stdout",
          "text": [
            "1/1 [==============================] - 0s 30ms/step\n"
          ]
        },
        {
          "output_type": "stream",
          "name": "stderr",
          "text": [
            "\r 39%|███▉      | 154/393 [00:36<00:59,  4.01it/s]"
          ]
        },
        {
          "output_type": "stream",
          "name": "stdout",
          "text": [
            "1/1 [==============================] - 0s 25ms/step\n"
          ]
        },
        {
          "output_type": "stream",
          "name": "stderr",
          "text": [
            "\r 39%|███▉      | 155/393 [00:36<00:59,  3.97it/s]"
          ]
        },
        {
          "output_type": "stream",
          "name": "stdout",
          "text": [
            "1/1 [==============================] - 0s 28ms/step\n"
          ]
        },
        {
          "output_type": "stream",
          "name": "stderr",
          "text": [
            "\r 40%|███▉      | 156/393 [00:36<00:59,  3.97it/s]"
          ]
        },
        {
          "output_type": "stream",
          "name": "stdout",
          "text": [
            "1/1 [==============================] - 0s 31ms/step\n"
          ]
        },
        {
          "output_type": "stream",
          "name": "stderr",
          "text": [
            "\r 40%|███▉      | 157/393 [00:36<00:59,  3.96it/s]"
          ]
        },
        {
          "output_type": "stream",
          "name": "stdout",
          "text": [
            "1/1 [==============================] - 0s 25ms/step\n"
          ]
        },
        {
          "output_type": "stream",
          "name": "stderr",
          "text": [
            "\r 40%|████      | 158/393 [00:37<00:57,  4.06it/s]"
          ]
        },
        {
          "output_type": "stream",
          "name": "stdout",
          "text": [
            "1/1 [==============================] - 0s 33ms/step\n"
          ]
        },
        {
          "output_type": "stream",
          "name": "stderr",
          "text": [
            "\r 40%|████      | 159/393 [00:37<00:57,  4.10it/s]"
          ]
        },
        {
          "output_type": "stream",
          "name": "stdout",
          "text": [
            "1/1 [==============================] - 0s 27ms/step\n"
          ]
        },
        {
          "output_type": "stream",
          "name": "stderr",
          "text": [
            "\r 41%|████      | 160/393 [00:37<00:57,  4.07it/s]"
          ]
        },
        {
          "output_type": "stream",
          "name": "stdout",
          "text": [
            "1/1 [==============================] - 0s 41ms/step\n"
          ]
        },
        {
          "output_type": "stream",
          "name": "stderr",
          "text": [
            "\r 41%|████      | 161/393 [00:37<00:58,  3.95it/s]"
          ]
        },
        {
          "output_type": "stream",
          "name": "stdout",
          "text": [
            "1/1 [==============================] - 0s 28ms/step\n"
          ]
        },
        {
          "output_type": "stream",
          "name": "stderr",
          "text": [
            "\r 41%|████      | 162/393 [00:38<00:58,  3.98it/s]"
          ]
        },
        {
          "output_type": "stream",
          "name": "stdout",
          "text": [
            "1/1 [==============================] - 0s 27ms/step\n"
          ]
        },
        {
          "output_type": "stream",
          "name": "stderr",
          "text": [
            "\r 41%|████▏     | 163/393 [00:38<00:59,  3.84it/s]"
          ]
        },
        {
          "output_type": "stream",
          "name": "stdout",
          "text": [
            "1/1 [==============================] - 0s 28ms/step\n"
          ]
        },
        {
          "output_type": "stream",
          "name": "stderr",
          "text": [
            "\r 42%|████▏     | 164/393 [00:38<00:56,  4.03it/s]"
          ]
        },
        {
          "output_type": "stream",
          "name": "stdout",
          "text": [
            "1/1 [==============================] - 0s 28ms/step\n"
          ]
        },
        {
          "output_type": "stream",
          "name": "stderr",
          "text": [
            "\r 42%|████▏     | 165/393 [00:38<00:55,  4.07it/s]"
          ]
        },
        {
          "output_type": "stream",
          "name": "stdout",
          "text": [
            "1/1 [==============================] - 0s 34ms/step\n"
          ]
        },
        {
          "output_type": "stream",
          "name": "stderr",
          "text": [
            "\r 42%|████▏     | 166/393 [00:39<00:54,  4.13it/s]"
          ]
        },
        {
          "output_type": "stream",
          "name": "stdout",
          "text": [
            "1/1 [==============================] - 0s 31ms/step\n"
          ]
        },
        {
          "output_type": "stream",
          "name": "stderr",
          "text": [
            "\r 42%|████▏     | 167/393 [00:39<00:56,  3.97it/s]"
          ]
        },
        {
          "output_type": "stream",
          "name": "stdout",
          "text": [
            "1/1 [==============================] - 0s 28ms/step\n"
          ]
        },
        {
          "output_type": "stream",
          "name": "stderr",
          "text": [
            "\r 43%|████▎     | 168/393 [00:39<00:54,  4.11it/s]"
          ]
        },
        {
          "output_type": "stream",
          "name": "stdout",
          "text": [
            "1/1 [==============================] - 0s 42ms/step\n"
          ]
        },
        {
          "output_type": "stream",
          "name": "stderr",
          "text": [
            "\r 43%|████▎     | 169/393 [00:39<00:57,  3.90it/s]"
          ]
        },
        {
          "output_type": "stream",
          "name": "stdout",
          "text": [
            "1/1 [==============================] - 0s 31ms/step\n"
          ]
        },
        {
          "output_type": "stream",
          "name": "stderr",
          "text": [
            "\r 43%|████▎     | 170/393 [00:40<00:55,  4.01it/s]"
          ]
        },
        {
          "output_type": "stream",
          "name": "stdout",
          "text": [
            "1/1 [==============================] - 0s 23ms/step\n"
          ]
        },
        {
          "output_type": "stream",
          "name": "stderr",
          "text": [
            "\r 44%|████▎     | 171/393 [00:40<00:53,  4.15it/s]"
          ]
        },
        {
          "output_type": "stream",
          "name": "stdout",
          "text": [
            "1/1 [==============================] - 0s 34ms/step\n"
          ]
        },
        {
          "output_type": "stream",
          "name": "stderr",
          "text": [
            "\r 44%|████▍     | 172/393 [00:40<00:53,  4.16it/s]"
          ]
        },
        {
          "output_type": "stream",
          "name": "stdout",
          "text": [
            "1/1 [==============================] - 0s 30ms/step\n"
          ]
        },
        {
          "output_type": "stream",
          "name": "stderr",
          "text": [
            "\r 44%|████▍     | 173/393 [00:40<00:56,  3.88it/s]"
          ]
        },
        {
          "output_type": "stream",
          "name": "stdout",
          "text": [
            "1/1 [==============================] - 0s 29ms/step\n"
          ]
        },
        {
          "output_type": "stream",
          "name": "stderr",
          "text": [
            "\r 44%|████▍     | 174/393 [00:41<00:55,  3.96it/s]"
          ]
        },
        {
          "output_type": "stream",
          "name": "stdout",
          "text": [
            "1/1 [==============================] - 0s 28ms/step\n"
          ]
        },
        {
          "output_type": "stream",
          "name": "stderr",
          "text": [
            "\r 45%|████▍     | 175/393 [00:41<00:54,  4.02it/s]"
          ]
        },
        {
          "output_type": "stream",
          "name": "stdout",
          "text": [
            "1/1 [==============================] - 0s 32ms/step\n"
          ]
        },
        {
          "output_type": "stream",
          "name": "stderr",
          "text": [
            "\r 45%|████▍     | 176/393 [00:41<00:53,  4.08it/s]"
          ]
        },
        {
          "output_type": "stream",
          "name": "stdout",
          "text": [
            "1/1 [==============================] - 0s 31ms/step\n"
          ]
        },
        {
          "output_type": "stream",
          "name": "stderr",
          "text": [
            "\r 45%|████▌     | 177/393 [00:41<00:56,  3.84it/s]"
          ]
        },
        {
          "output_type": "stream",
          "name": "stdout",
          "text": [
            "1/1 [==============================] - 0s 25ms/step\n"
          ]
        },
        {
          "output_type": "stream",
          "name": "stderr",
          "text": [
            "\r 45%|████▌     | 178/393 [00:42<00:54,  3.94it/s]"
          ]
        },
        {
          "output_type": "stream",
          "name": "stdout",
          "text": [
            "1/1 [==============================] - 0s 32ms/step\n"
          ]
        },
        {
          "output_type": "stream",
          "name": "stderr",
          "text": [
            "\r 46%|████▌     | 179/393 [00:42<00:51,  4.14it/s]"
          ]
        },
        {
          "output_type": "stream",
          "name": "stdout",
          "text": [
            "1/1 [==============================] - 0s 32ms/step\n"
          ]
        },
        {
          "output_type": "stream",
          "name": "stderr",
          "text": [
            "\r 46%|████▌     | 180/393 [00:42<00:51,  4.16it/s]"
          ]
        },
        {
          "output_type": "stream",
          "name": "stdout",
          "text": [
            "1/1 [==============================] - 0s 32ms/step\n"
          ]
        },
        {
          "output_type": "stream",
          "name": "stderr",
          "text": [
            "\r 46%|████▌     | 181/393 [00:42<00:51,  4.15it/s]"
          ]
        },
        {
          "output_type": "stream",
          "name": "stdout",
          "text": [
            "1/1 [==============================] - 0s 31ms/step\n"
          ]
        },
        {
          "output_type": "stream",
          "name": "stderr",
          "text": [
            "\r 46%|████▋     | 182/393 [00:43<00:50,  4.14it/s]"
          ]
        },
        {
          "output_type": "stream",
          "name": "stdout",
          "text": [
            "1/1 [==============================] - 0s 31ms/step\n"
          ]
        },
        {
          "output_type": "stream",
          "name": "stderr",
          "text": [
            "\r 47%|████▋     | 183/393 [00:43<00:52,  4.03it/s]"
          ]
        },
        {
          "output_type": "stream",
          "name": "stdout",
          "text": [
            "1/1 [==============================] - 0s 35ms/step\n"
          ]
        },
        {
          "output_type": "stream",
          "name": "stderr",
          "text": [
            "\r 47%|████▋     | 184/393 [00:43<00:52,  4.01it/s]"
          ]
        },
        {
          "output_type": "stream",
          "name": "stdout",
          "text": [
            "1/1 [==============================] - 0s 30ms/step\n"
          ]
        },
        {
          "output_type": "stream",
          "name": "stderr",
          "text": [
            "\r 47%|████▋     | 185/393 [00:43<00:54,  3.80it/s]"
          ]
        },
        {
          "output_type": "stream",
          "name": "stdout",
          "text": [
            "1/1 [==============================] - 0s 29ms/step\n"
          ]
        },
        {
          "output_type": "stream",
          "name": "stderr",
          "text": [
            "\r 47%|████▋     | 186/393 [00:44<00:57,  3.59it/s]"
          ]
        },
        {
          "output_type": "stream",
          "name": "stdout",
          "text": [
            "1/1 [==============================] - 0s 43ms/step\n"
          ]
        },
        {
          "output_type": "stream",
          "name": "stderr",
          "text": [
            "\r 48%|████▊     | 187/393 [00:44<01:01,  3.35it/s]"
          ]
        },
        {
          "output_type": "stream",
          "name": "stdout",
          "text": [
            "1/1 [==============================] - 0s 46ms/step\n"
          ]
        },
        {
          "output_type": "stream",
          "name": "stderr",
          "text": [
            "\r 48%|████▊     | 188/393 [00:44<01:03,  3.23it/s]"
          ]
        },
        {
          "output_type": "stream",
          "name": "stdout",
          "text": [
            "1/1 [==============================] - 0s 38ms/step\n"
          ]
        },
        {
          "output_type": "stream",
          "name": "stderr",
          "text": [
            "\r 48%|████▊     | 189/393 [00:45<01:10,  2.88it/s]"
          ]
        },
        {
          "output_type": "stream",
          "name": "stdout",
          "text": [
            "1/1 [==============================] - 0s 50ms/step\n"
          ]
        },
        {
          "output_type": "stream",
          "name": "stderr",
          "text": [
            "\r 48%|████▊     | 190/393 [00:45<01:10,  2.89it/s]"
          ]
        },
        {
          "output_type": "stream",
          "name": "stdout",
          "text": [
            "1/1 [==============================] - 0s 55ms/step\n"
          ]
        },
        {
          "output_type": "stream",
          "name": "stderr",
          "text": [
            "\r 49%|████▊     | 191/393 [00:45<01:09,  2.89it/s]"
          ]
        },
        {
          "output_type": "stream",
          "name": "stdout",
          "text": [
            "1/1 [==============================] - 0s 43ms/step\n"
          ]
        },
        {
          "output_type": "stream",
          "name": "stderr",
          "text": [
            "\r 49%|████▉     | 192/393 [00:46<01:10,  2.85it/s]"
          ]
        },
        {
          "output_type": "stream",
          "name": "stdout",
          "text": [
            "1/1 [==============================] - 0s 41ms/step\n"
          ]
        },
        {
          "output_type": "stream",
          "name": "stderr",
          "text": [
            "\r 49%|████▉     | 193/393 [00:46<01:20,  2.49it/s]"
          ]
        },
        {
          "output_type": "stream",
          "name": "stdout",
          "text": [
            "1/1 [==============================] - 0s 42ms/step\n"
          ]
        },
        {
          "output_type": "stream",
          "name": "stderr",
          "text": [
            "\r 49%|████▉     | 194/393 [00:47<01:16,  2.59it/s]"
          ]
        },
        {
          "output_type": "stream",
          "name": "stdout",
          "text": [
            "1/1 [==============================] - 0s 44ms/step\n"
          ]
        },
        {
          "output_type": "stream",
          "name": "stderr",
          "text": [
            "\r 50%|████▉     | 195/393 [00:47<01:12,  2.73it/s]"
          ]
        },
        {
          "output_type": "stream",
          "name": "stdout",
          "text": [
            "1/1 [==============================] - 0s 45ms/step\n"
          ]
        },
        {
          "output_type": "stream",
          "name": "stderr",
          "text": [
            "\r 50%|████▉     | 196/393 [00:47<01:12,  2.72it/s]"
          ]
        },
        {
          "output_type": "stream",
          "name": "stdout",
          "text": [
            "1/1 [==============================] - 0s 52ms/step\n"
          ]
        },
        {
          "output_type": "stream",
          "name": "stderr",
          "text": [
            "\r 50%|█████     | 197/393 [00:48<01:21,  2.41it/s]"
          ]
        },
        {
          "output_type": "stream",
          "name": "stdout",
          "text": [
            "1/1 [==============================] - 0s 36ms/step\n"
          ]
        },
        {
          "output_type": "stream",
          "name": "stderr",
          "text": [
            "\r 50%|█████     | 198/393 [00:48<01:16,  2.54it/s]"
          ]
        },
        {
          "output_type": "stream",
          "name": "stdout",
          "text": [
            "1/1 [==============================] - 0s 38ms/step\n"
          ]
        },
        {
          "output_type": "stream",
          "name": "stderr",
          "text": [
            "\r 51%|█████     | 199/393 [00:49<01:15,  2.57it/s]"
          ]
        },
        {
          "output_type": "stream",
          "name": "stdout",
          "text": [
            "1/1 [==============================] - 0s 35ms/step\n"
          ]
        },
        {
          "output_type": "stream",
          "name": "stderr",
          "text": [
            "\r 51%|█████     | 200/393 [00:49<01:13,  2.62it/s]"
          ]
        },
        {
          "output_type": "stream",
          "name": "stdout",
          "text": [
            "1/1 [==============================] - 0s 45ms/step\n"
          ]
        },
        {
          "output_type": "stream",
          "name": "stderr",
          "text": [
            "\r 51%|█████     | 201/393 [00:49<01:14,  2.57it/s]"
          ]
        },
        {
          "output_type": "stream",
          "name": "stdout",
          "text": [
            "1/1 [==============================] - 0s 42ms/step\n"
          ]
        },
        {
          "output_type": "stream",
          "name": "stderr",
          "text": [
            "\r 51%|█████▏    | 202/393 [00:50<01:07,  2.83it/s]"
          ]
        },
        {
          "output_type": "stream",
          "name": "stdout",
          "text": [
            "1/1 [==============================] - 0s 23ms/step\n"
          ]
        },
        {
          "output_type": "stream",
          "name": "stderr",
          "text": [
            "\r 52%|█████▏    | 203/393 [00:50<01:00,  3.15it/s]"
          ]
        },
        {
          "output_type": "stream",
          "name": "stdout",
          "text": [
            "1/1 [==============================] - 0s 32ms/step\n"
          ]
        },
        {
          "output_type": "stream",
          "name": "stderr",
          "text": [
            "\r 52%|█████▏    | 204/393 [00:50<00:55,  3.42it/s]"
          ]
        },
        {
          "output_type": "stream",
          "name": "stdout",
          "text": [
            "1/1 [==============================] - 0s 31ms/step\n"
          ]
        },
        {
          "output_type": "stream",
          "name": "stderr",
          "text": [
            "\r 52%|█████▏    | 205/393 [00:50<00:51,  3.63it/s]"
          ]
        },
        {
          "output_type": "stream",
          "name": "stdout",
          "text": [
            "1/1 [==============================] - 0s 32ms/step\n"
          ]
        },
        {
          "output_type": "stream",
          "name": "stderr",
          "text": [
            "\r 52%|█████▏    | 206/393 [00:51<00:50,  3.70it/s]"
          ]
        },
        {
          "output_type": "stream",
          "name": "stdout",
          "text": [
            "1/1 [==============================] - 0s 31ms/step\n"
          ]
        },
        {
          "output_type": "stream",
          "name": "stderr",
          "text": [
            "\r 53%|█████▎    | 207/393 [00:51<00:49,  3.77it/s]"
          ]
        },
        {
          "output_type": "stream",
          "name": "stdout",
          "text": [
            "1/1 [==============================] - 0s 25ms/step\n"
          ]
        },
        {
          "output_type": "stream",
          "name": "stderr",
          "text": [
            "\r 53%|█████▎    | 208/393 [00:51<00:48,  3.78it/s]"
          ]
        },
        {
          "output_type": "stream",
          "name": "stdout",
          "text": [
            "1/1 [==============================] - 0s 25ms/step\n"
          ]
        },
        {
          "output_type": "stream",
          "name": "stderr",
          "text": [
            "\r 53%|█████▎    | 209/393 [00:51<00:47,  3.88it/s]"
          ]
        },
        {
          "output_type": "stream",
          "name": "stdout",
          "text": [
            "1/1 [==============================] - 0s 25ms/step\n"
          ]
        },
        {
          "output_type": "stream",
          "name": "stderr",
          "text": [
            "\r 53%|█████▎    | 210/393 [00:52<00:46,  3.92it/s]"
          ]
        },
        {
          "output_type": "stream",
          "name": "stdout",
          "text": [
            "1/1 [==============================] - 0s 48ms/step\n"
          ]
        },
        {
          "output_type": "stream",
          "name": "stderr",
          "text": [
            "\r 54%|█████▎    | 211/393 [00:52<00:45,  3.99it/s]"
          ]
        },
        {
          "output_type": "stream",
          "name": "stdout",
          "text": [
            "1/1 [==============================] - 0s 31ms/step\n"
          ]
        },
        {
          "output_type": "stream",
          "name": "stderr",
          "text": [
            "\r 54%|█████▍    | 212/393 [00:52<00:44,  4.03it/s]"
          ]
        },
        {
          "output_type": "stream",
          "name": "stdout",
          "text": [
            "1/1 [==============================] - 0s 32ms/step\n"
          ]
        },
        {
          "output_type": "stream",
          "name": "stderr",
          "text": [
            "\r 54%|█████▍    | 213/393 [00:52<00:47,  3.78it/s]"
          ]
        },
        {
          "output_type": "stream",
          "name": "stdout",
          "text": [
            "1/1 [==============================] - 0s 41ms/step\n"
          ]
        },
        {
          "output_type": "stream",
          "name": "stderr",
          "text": [
            "\r 54%|█████▍    | 214/393 [00:53<00:47,  3.73it/s]"
          ]
        },
        {
          "output_type": "stream",
          "name": "stdout",
          "text": [
            "1/1 [==============================] - 0s 28ms/step\n"
          ]
        },
        {
          "output_type": "stream",
          "name": "stderr",
          "text": [
            "\r 55%|█████▍    | 215/393 [00:53<00:48,  3.63it/s]"
          ]
        },
        {
          "output_type": "stream",
          "name": "stdout",
          "text": [
            "1/1 [==============================] - 0s 30ms/step\n"
          ]
        },
        {
          "output_type": "stream",
          "name": "stderr",
          "text": [
            "\r 55%|█████▍    | 216/393 [00:53<00:48,  3.68it/s]"
          ]
        },
        {
          "output_type": "stream",
          "name": "stdout",
          "text": [
            "1/1 [==============================] - 0s 26ms/step\n"
          ]
        },
        {
          "output_type": "stream",
          "name": "stderr",
          "text": [
            "\r 55%|█████▌    | 217/393 [00:53<00:45,  3.83it/s]"
          ]
        },
        {
          "output_type": "stream",
          "name": "stdout",
          "text": [
            "1/1 [==============================] - 0s 34ms/step\n"
          ]
        },
        {
          "output_type": "stream",
          "name": "stderr",
          "text": [
            "\r 55%|█████▌    | 218/393 [00:54<00:44,  3.93it/s]"
          ]
        },
        {
          "output_type": "stream",
          "name": "stdout",
          "text": [
            "1/1 [==============================] - 0s 36ms/step\n"
          ]
        },
        {
          "output_type": "stream",
          "name": "stderr",
          "text": [
            "\r 56%|█████▌    | 219/393 [00:54<00:45,  3.81it/s]"
          ]
        },
        {
          "output_type": "stream",
          "name": "stdout",
          "text": [
            "1/1 [==============================] - 0s 25ms/step\n"
          ]
        },
        {
          "output_type": "stream",
          "name": "stderr",
          "text": [
            "\r 56%|█████▌    | 220/393 [00:54<00:44,  3.90it/s]"
          ]
        },
        {
          "output_type": "stream",
          "name": "stdout",
          "text": [
            "1/1 [==============================] - 0s 41ms/step\n"
          ]
        },
        {
          "output_type": "stream",
          "name": "stderr",
          "text": [
            "\r 56%|█████▌    | 221/393 [00:54<00:42,  4.00it/s]"
          ]
        },
        {
          "output_type": "stream",
          "name": "stdout",
          "text": [
            "1/1 [==============================] - 0s 34ms/step\n"
          ]
        },
        {
          "output_type": "stream",
          "name": "stderr",
          "text": [
            "\r 56%|█████▋    | 222/393 [00:55<00:41,  4.12it/s]"
          ]
        },
        {
          "output_type": "stream",
          "name": "stdout",
          "text": [
            "1/1 [==============================] - 0s 48ms/step\n"
          ]
        },
        {
          "output_type": "stream",
          "name": "stderr",
          "text": [
            "\r 57%|█████▋    | 223/393 [00:55<00:41,  4.09it/s]"
          ]
        },
        {
          "output_type": "stream",
          "name": "stdout",
          "text": [
            "1/1 [==============================] - 0s 33ms/step\n"
          ]
        },
        {
          "output_type": "stream",
          "name": "stderr",
          "text": [
            "\r 57%|█████▋    | 224/393 [00:55<00:42,  3.98it/s]"
          ]
        },
        {
          "output_type": "stream",
          "name": "stdout",
          "text": [
            "1/1 [==============================] - 0s 41ms/step\n"
          ]
        },
        {
          "output_type": "stream",
          "name": "stderr",
          "text": [
            "\r 57%|█████▋    | 225/393 [00:55<00:43,  3.84it/s]"
          ]
        },
        {
          "output_type": "stream",
          "name": "stdout",
          "text": [
            "1/1 [==============================] - 0s 31ms/step\n"
          ]
        },
        {
          "output_type": "stream",
          "name": "stderr",
          "text": [
            "\r 58%|█████▊    | 226/393 [00:56<00:42,  3.91it/s]"
          ]
        },
        {
          "output_type": "stream",
          "name": "stdout",
          "text": [
            "1/1 [==============================] - 0s 36ms/step\n"
          ]
        },
        {
          "output_type": "stream",
          "name": "stderr",
          "text": [
            "\r 58%|█████▊    | 227/393 [00:56<00:43,  3.86it/s]"
          ]
        },
        {
          "output_type": "stream",
          "name": "stdout",
          "text": [
            "1/1 [==============================] - 0s 24ms/step\n"
          ]
        },
        {
          "output_type": "stream",
          "name": "stderr",
          "text": [
            "\r 58%|█████▊    | 228/393 [00:56<00:43,  3.77it/s]"
          ]
        },
        {
          "output_type": "stream",
          "name": "stdout",
          "text": [
            "1/1 [==============================] - 0s 28ms/step\n"
          ]
        },
        {
          "output_type": "stream",
          "name": "stderr",
          "text": [
            "\r 58%|█████▊    | 229/393 [00:57<00:43,  3.80it/s]"
          ]
        },
        {
          "output_type": "stream",
          "name": "stdout",
          "text": [
            "1/1 [==============================] - 0s 29ms/step\n"
          ]
        },
        {
          "output_type": "stream",
          "name": "stderr",
          "text": [
            "\r 59%|█████▊    | 230/393 [00:57<00:42,  3.82it/s]"
          ]
        },
        {
          "output_type": "stream",
          "name": "stdout",
          "text": [
            "1/1 [==============================] - 0s 26ms/step\n"
          ]
        },
        {
          "output_type": "stream",
          "name": "stderr",
          "text": [
            "\r 59%|█████▉    | 231/393 [00:57<00:42,  3.84it/s]"
          ]
        },
        {
          "output_type": "stream",
          "name": "stdout",
          "text": [
            "1/1 [==============================] - 0s 27ms/step\n"
          ]
        },
        {
          "output_type": "stream",
          "name": "stderr",
          "text": [
            "\r 59%|█████▉    | 232/393 [00:57<00:43,  3.71it/s]"
          ]
        },
        {
          "output_type": "stream",
          "name": "stdout",
          "text": [
            "1/1 [==============================] - 0s 28ms/step\n"
          ]
        },
        {
          "output_type": "stream",
          "name": "stderr",
          "text": [
            "\r 59%|█████▉    | 233/393 [00:58<00:41,  3.85it/s]"
          ]
        },
        {
          "output_type": "stream",
          "name": "stdout",
          "text": [
            "1/1 [==============================] - 0s 28ms/step\n"
          ]
        },
        {
          "output_type": "stream",
          "name": "stderr",
          "text": [
            "\r 60%|█████▉    | 234/393 [00:58<00:40,  3.92it/s]"
          ]
        },
        {
          "output_type": "stream",
          "name": "stdout",
          "text": [
            "1/1 [==============================] - 0s 38ms/step\n"
          ]
        },
        {
          "output_type": "stream",
          "name": "stderr",
          "text": [
            "\r 60%|█████▉    | 235/393 [00:58<00:40,  3.88it/s]"
          ]
        },
        {
          "output_type": "stream",
          "name": "stdout",
          "text": [
            "1/1 [==============================] - 0s 30ms/step\n"
          ]
        },
        {
          "output_type": "stream",
          "name": "stderr",
          "text": [
            "\r 60%|██████    | 236/393 [00:58<00:41,  3.76it/s]"
          ]
        },
        {
          "output_type": "stream",
          "name": "stdout",
          "text": [
            "1/1 [==============================] - 0s 27ms/step\n"
          ]
        },
        {
          "output_type": "stream",
          "name": "stderr",
          "text": [
            "\r 60%|██████    | 237/393 [00:59<00:40,  3.88it/s]"
          ]
        },
        {
          "output_type": "stream",
          "name": "stdout",
          "text": [
            "1/1 [==============================] - 0s 25ms/step\n"
          ]
        },
        {
          "output_type": "stream",
          "name": "stderr",
          "text": [
            "\r 61%|██████    | 238/393 [00:59<00:38,  4.01it/s]"
          ]
        },
        {
          "output_type": "stream",
          "name": "stdout",
          "text": [
            "1/1 [==============================] - 0s 25ms/step\n"
          ]
        },
        {
          "output_type": "stream",
          "name": "stderr",
          "text": [
            "\r 61%|██████    | 239/393 [00:59<00:38,  3.98it/s]"
          ]
        },
        {
          "output_type": "stream",
          "name": "stdout",
          "text": [
            "1/1 [==============================] - 0s 30ms/step\n"
          ]
        },
        {
          "output_type": "stream",
          "name": "stderr",
          "text": [
            "\r 61%|██████    | 240/393 [00:59<00:38,  3.98it/s]"
          ]
        },
        {
          "output_type": "stream",
          "name": "stdout",
          "text": [
            "1/1 [==============================] - 0s 24ms/step\n"
          ]
        },
        {
          "output_type": "stream",
          "name": "stderr",
          "text": [
            "\r 61%|██████▏   | 241/393 [01:00<00:38,  3.98it/s]"
          ]
        },
        {
          "output_type": "stream",
          "name": "stdout",
          "text": [
            "1/1 [==============================] - 0s 23ms/step\n"
          ]
        },
        {
          "output_type": "stream",
          "name": "stderr",
          "text": [
            "\r 62%|██████▏   | 242/393 [01:00<00:37,  4.06it/s]"
          ]
        },
        {
          "output_type": "stream",
          "name": "stdout",
          "text": [
            "1/1 [==============================] - 0s 37ms/step\n"
          ]
        },
        {
          "output_type": "stream",
          "name": "stderr",
          "text": [
            "\r 62%|██████▏   | 243/393 [01:00<00:37,  3.96it/s]"
          ]
        },
        {
          "output_type": "stream",
          "name": "stdout",
          "text": [
            "1/1 [==============================] - 0s 33ms/step\n"
          ]
        },
        {
          "output_type": "stream",
          "name": "stderr",
          "text": [
            "\r 62%|██████▏   | 244/393 [01:00<00:39,  3.76it/s]"
          ]
        },
        {
          "output_type": "stream",
          "name": "stdout",
          "text": [
            "1/1 [==============================] - 0s 36ms/step\n"
          ]
        },
        {
          "output_type": "stream",
          "name": "stderr",
          "text": [
            "\r 62%|██████▏   | 245/393 [01:01<00:38,  3.85it/s]"
          ]
        },
        {
          "output_type": "stream",
          "name": "stdout",
          "text": [
            "1/1 [==============================] - 0s 25ms/step\n"
          ]
        },
        {
          "output_type": "stream",
          "name": "stderr",
          "text": [
            "\r 63%|██████▎   | 246/393 [01:01<00:38,  3.80it/s]"
          ]
        },
        {
          "output_type": "stream",
          "name": "stdout",
          "text": [
            "1/1 [==============================] - 0s 26ms/step\n"
          ]
        },
        {
          "output_type": "stream",
          "name": "stderr",
          "text": [
            "\r 63%|██████▎   | 247/393 [01:01<00:38,  3.77it/s]"
          ]
        },
        {
          "output_type": "stream",
          "name": "stdout",
          "text": [
            "1/1 [==============================] - 0s 26ms/step\n"
          ]
        },
        {
          "output_type": "stream",
          "name": "stderr",
          "text": [
            "\r 63%|██████▎   | 248/393 [01:01<00:37,  3.86it/s]"
          ]
        },
        {
          "output_type": "stream",
          "name": "stdout",
          "text": [
            "1/1 [==============================] - 0s 24ms/step\n"
          ]
        },
        {
          "output_type": "stream",
          "name": "stderr",
          "text": [
            "\r 63%|██████▎   | 249/393 [01:02<00:36,  3.98it/s]"
          ]
        },
        {
          "output_type": "stream",
          "name": "stdout",
          "text": [
            "1/1 [==============================] - 0s 25ms/step\n"
          ]
        },
        {
          "output_type": "stream",
          "name": "stderr",
          "text": [
            "\r 64%|██████▎   | 250/393 [01:02<00:35,  4.00it/s]"
          ]
        },
        {
          "output_type": "stream",
          "name": "stdout",
          "text": [
            "1/1 [==============================] - 0s 39ms/step\n"
          ]
        },
        {
          "output_type": "stream",
          "name": "stderr",
          "text": [
            "\r 64%|██████▍   | 251/393 [01:02<00:37,  3.83it/s]"
          ]
        },
        {
          "output_type": "stream",
          "name": "stdout",
          "text": [
            "1/1 [==============================] - 0s 25ms/step\n"
          ]
        },
        {
          "output_type": "stream",
          "name": "stderr",
          "text": [
            "\r 64%|██████▍   | 252/393 [01:02<00:36,  3.91it/s]"
          ]
        },
        {
          "output_type": "stream",
          "name": "stdout",
          "text": [
            "1/1 [==============================] - 0s 41ms/step\n"
          ]
        },
        {
          "output_type": "stream",
          "name": "stderr",
          "text": [
            "\r 64%|██████▍   | 253/393 [01:03<00:35,  3.90it/s]"
          ]
        },
        {
          "output_type": "stream",
          "name": "stdout",
          "text": [
            "1/1 [==============================] - 0s 26ms/step\n"
          ]
        },
        {
          "output_type": "stream",
          "name": "stderr",
          "text": [
            "\r 65%|██████▍   | 254/393 [01:03<00:35,  3.89it/s]"
          ]
        },
        {
          "output_type": "stream",
          "name": "stdout",
          "text": [
            "1/1 [==============================] - 0s 39ms/step\n"
          ]
        },
        {
          "output_type": "stream",
          "name": "stderr",
          "text": [
            "\r 65%|██████▍   | 255/393 [01:03<00:35,  3.85it/s]"
          ]
        },
        {
          "output_type": "stream",
          "name": "stdout",
          "text": [
            "1/1 [==============================] - 0s 24ms/step\n"
          ]
        },
        {
          "output_type": "stream",
          "name": "stderr",
          "text": [
            "\r 65%|██████▌   | 256/393 [01:03<00:35,  3.91it/s]"
          ]
        },
        {
          "output_type": "stream",
          "name": "stdout",
          "text": [
            "1/1 [==============================] - 0s 36ms/step\n"
          ]
        },
        {
          "output_type": "stream",
          "name": "stderr",
          "text": [
            "\r 65%|██████▌   | 257/393 [01:04<00:35,  3.87it/s]"
          ]
        },
        {
          "output_type": "stream",
          "name": "stdout",
          "text": [
            "1/1 [==============================] - 0s 22ms/step\n"
          ]
        },
        {
          "output_type": "stream",
          "name": "stderr",
          "text": [
            "\r 66%|██████▌   | 258/393 [01:04<00:33,  4.05it/s]"
          ]
        },
        {
          "output_type": "stream",
          "name": "stdout",
          "text": [
            "1/1 [==============================] - 0s 29ms/step\n"
          ]
        },
        {
          "output_type": "stream",
          "name": "stderr",
          "text": [
            "\r 66%|██████▌   | 259/393 [01:04<00:32,  4.09it/s]"
          ]
        },
        {
          "output_type": "stream",
          "name": "stdout",
          "text": [
            "1/1 [==============================] - 0s 25ms/step\n"
          ]
        },
        {
          "output_type": "stream",
          "name": "stderr",
          "text": [
            "\r 66%|██████▌   | 260/393 [01:04<00:32,  4.06it/s]"
          ]
        },
        {
          "output_type": "stream",
          "name": "stdout",
          "text": [
            "1/1 [==============================] - 0s 30ms/step\n"
          ]
        },
        {
          "output_type": "stream",
          "name": "stderr",
          "text": [
            "\r 66%|██████▋   | 261/393 [01:05<00:32,  4.02it/s]"
          ]
        },
        {
          "output_type": "stream",
          "name": "stdout",
          "text": [
            "1/1 [==============================] - 0s 33ms/step\n"
          ]
        },
        {
          "output_type": "stream",
          "name": "stderr",
          "text": [
            "\r 67%|██████▋   | 262/393 [01:05<00:31,  4.11it/s]"
          ]
        },
        {
          "output_type": "stream",
          "name": "stdout",
          "text": [
            "1/1 [==============================] - 0s 30ms/step\n"
          ]
        },
        {
          "output_type": "stream",
          "name": "stderr",
          "text": [
            "\r 67%|██████▋   | 263/393 [01:05<00:30,  4.20it/s]"
          ]
        },
        {
          "output_type": "stream",
          "name": "stdout",
          "text": [
            "1/1 [==============================] - 0s 24ms/step\n"
          ]
        },
        {
          "output_type": "stream",
          "name": "stderr",
          "text": [
            "\r 67%|██████▋   | 264/393 [01:05<00:32,  4.00it/s]"
          ]
        },
        {
          "output_type": "stream",
          "name": "stdout",
          "text": [
            "1/1 [==============================] - 0s 34ms/step\n"
          ]
        },
        {
          "output_type": "stream",
          "name": "stderr",
          "text": [
            "\r 67%|██████▋   | 265/393 [01:06<00:31,  4.09it/s]"
          ]
        },
        {
          "output_type": "stream",
          "name": "stdout",
          "text": [
            "1/1 [==============================] - 0s 28ms/step\n"
          ]
        },
        {
          "output_type": "stream",
          "name": "stderr",
          "text": [
            "\r 68%|██████▊   | 266/393 [01:06<00:30,  4.22it/s]"
          ]
        },
        {
          "output_type": "stream",
          "name": "stdout",
          "text": [
            "1/1 [==============================] - 0s 20ms/step\n"
          ]
        },
        {
          "output_type": "stream",
          "name": "stderr",
          "text": [
            "\r 68%|██████▊   | 267/393 [01:06<00:29,  4.22it/s]"
          ]
        },
        {
          "output_type": "stream",
          "name": "stdout",
          "text": [
            "1/1 [==============================] - 0s 25ms/step\n"
          ]
        },
        {
          "output_type": "stream",
          "name": "stderr",
          "text": [
            "\r 68%|██████▊   | 268/393 [01:06<00:29,  4.25it/s]"
          ]
        },
        {
          "output_type": "stream",
          "name": "stdout",
          "text": [
            "1/1 [==============================] - 0s 29ms/step\n"
          ]
        },
        {
          "output_type": "stream",
          "name": "stderr",
          "text": [
            "\r 68%|██████▊   | 269/393 [01:07<00:29,  4.14it/s]"
          ]
        },
        {
          "output_type": "stream",
          "name": "stdout",
          "text": [
            "1/1 [==============================] - 0s 27ms/step\n"
          ]
        },
        {
          "output_type": "stream",
          "name": "stderr",
          "text": [
            "\r 69%|██████▊   | 270/393 [01:07<00:29,  4.23it/s]"
          ]
        },
        {
          "output_type": "stream",
          "name": "stdout",
          "text": [
            "1/1 [==============================] - 0s 25ms/step\n"
          ]
        },
        {
          "output_type": "stream",
          "name": "stderr",
          "text": [
            "\r 69%|██████▉   | 271/393 [01:07<00:28,  4.32it/s]"
          ]
        },
        {
          "output_type": "stream",
          "name": "stdout",
          "text": [
            "1/1 [==============================] - 0s 29ms/step\n"
          ]
        },
        {
          "output_type": "stream",
          "name": "stderr",
          "text": [
            "\r 69%|██████▉   | 272/393 [01:07<00:28,  4.24it/s]"
          ]
        },
        {
          "output_type": "stream",
          "name": "stdout",
          "text": [
            "1/1 [==============================] - 0s 29ms/step\n"
          ]
        },
        {
          "output_type": "stream",
          "name": "stderr",
          "text": [
            "\r 69%|██████▉   | 273/393 [01:08<00:28,  4.18it/s]"
          ]
        },
        {
          "output_type": "stream",
          "name": "stdout",
          "text": [
            "1/1 [==============================] - 0s 33ms/step\n"
          ]
        },
        {
          "output_type": "stream",
          "name": "stderr",
          "text": [
            "\r 70%|██████▉   | 274/393 [01:08<00:30,  3.90it/s]"
          ]
        },
        {
          "output_type": "stream",
          "name": "stdout",
          "text": [
            "1/1 [==============================] - 0s 40ms/step\n"
          ]
        },
        {
          "output_type": "stream",
          "name": "stderr",
          "text": [
            "\r 70%|██████▉   | 275/393 [01:08<00:30,  3.93it/s]"
          ]
        },
        {
          "output_type": "stream",
          "name": "stdout",
          "text": [
            "1/1 [==============================] - 0s 29ms/step\n"
          ]
        },
        {
          "output_type": "stream",
          "name": "stderr",
          "text": [
            "\r 70%|███████   | 276/393 [01:08<00:32,  3.60it/s]"
          ]
        },
        {
          "output_type": "stream",
          "name": "stdout",
          "text": [
            "1/1 [==============================] - 0s 29ms/step\n"
          ]
        },
        {
          "output_type": "stream",
          "name": "stderr",
          "text": [
            "\r 70%|███████   | 277/393 [01:09<00:31,  3.73it/s]"
          ]
        },
        {
          "output_type": "stream",
          "name": "stdout",
          "text": [
            "1/1 [==============================] - 0s 30ms/step\n"
          ]
        },
        {
          "output_type": "stream",
          "name": "stderr",
          "text": [
            "\r 71%|███████   | 278/393 [01:09<00:30,  3.83it/s]"
          ]
        },
        {
          "output_type": "stream",
          "name": "stdout",
          "text": [
            "1/1 [==============================] - 0s 30ms/step\n"
          ]
        },
        {
          "output_type": "stream",
          "name": "stderr",
          "text": [
            "\r 71%|███████   | 279/393 [01:09<00:28,  3.97it/s]"
          ]
        },
        {
          "output_type": "stream",
          "name": "stdout",
          "text": [
            "1/1 [==============================] - 0s 26ms/step\n"
          ]
        },
        {
          "output_type": "stream",
          "name": "stderr",
          "text": [
            "\r 71%|███████   | 280/393 [01:09<00:29,  3.78it/s]"
          ]
        },
        {
          "output_type": "stream",
          "name": "stdout",
          "text": [
            "1/1 [==============================] - 0s 24ms/step\n"
          ]
        },
        {
          "output_type": "stream",
          "name": "stderr",
          "text": [
            "\r 72%|███████▏  | 281/393 [01:10<00:28,  3.87it/s]"
          ]
        },
        {
          "output_type": "stream",
          "name": "stdout",
          "text": [
            "1/1 [==============================] - 0s 31ms/step\n"
          ]
        },
        {
          "output_type": "stream",
          "name": "stderr",
          "text": [
            "\r 72%|███████▏  | 282/393 [01:10<00:28,  3.89it/s]"
          ]
        },
        {
          "output_type": "stream",
          "name": "stdout",
          "text": [
            "1/1 [==============================] - 0s 24ms/step\n"
          ]
        },
        {
          "output_type": "stream",
          "name": "stderr",
          "text": [
            "\r 72%|███████▏  | 283/393 [01:10<00:28,  3.83it/s]"
          ]
        },
        {
          "output_type": "stream",
          "name": "stdout",
          "text": [
            "1/1 [==============================] - 0s 24ms/step\n"
          ]
        },
        {
          "output_type": "stream",
          "name": "stderr",
          "text": [
            "\r 72%|███████▏  | 284/393 [01:10<00:28,  3.88it/s]"
          ]
        },
        {
          "output_type": "stream",
          "name": "stdout",
          "text": [
            "1/1 [==============================] - 0s 25ms/step\n"
          ]
        },
        {
          "output_type": "stream",
          "name": "stderr",
          "text": [
            "\r 73%|███████▎  | 285/393 [01:11<00:27,  3.89it/s]"
          ]
        },
        {
          "output_type": "stream",
          "name": "stdout",
          "text": [
            "1/1 [==============================] - 0s 27ms/step\n"
          ]
        },
        {
          "output_type": "stream",
          "name": "stderr",
          "text": [
            "\r 73%|███████▎  | 286/393 [01:11<00:27,  3.87it/s]"
          ]
        },
        {
          "output_type": "stream",
          "name": "stdout",
          "text": [
            "1/1 [==============================] - 0s 25ms/step\n"
          ]
        },
        {
          "output_type": "stream",
          "name": "stderr",
          "text": [
            "\r 73%|███████▎  | 287/393 [01:11<00:28,  3.74it/s]"
          ]
        },
        {
          "output_type": "stream",
          "name": "stdout",
          "text": [
            "1/1 [==============================] - 0s 42ms/step\n"
          ]
        },
        {
          "output_type": "stream",
          "name": "stderr",
          "text": [
            "\r 73%|███████▎  | 288/393 [01:12<00:28,  3.72it/s]"
          ]
        },
        {
          "output_type": "stream",
          "name": "stdout",
          "text": [
            "1/1 [==============================] - 0s 39ms/step\n"
          ]
        },
        {
          "output_type": "stream",
          "name": "stderr",
          "text": [
            "\r 74%|███████▎  | 289/393 [01:12<00:27,  3.74it/s]"
          ]
        },
        {
          "output_type": "stream",
          "name": "stdout",
          "text": [
            "1/1 [==============================] - 0s 38ms/step\n"
          ]
        },
        {
          "output_type": "stream",
          "name": "stderr",
          "text": [
            "\r 74%|███████▍  | 290/393 [01:12<00:27,  3.72it/s]"
          ]
        },
        {
          "output_type": "stream",
          "name": "stdout",
          "text": [
            "1/1 [==============================] - 0s 24ms/step\n"
          ]
        },
        {
          "output_type": "stream",
          "name": "stderr",
          "text": [
            "\r 74%|███████▍  | 291/393 [01:12<00:27,  3.76it/s]"
          ]
        },
        {
          "output_type": "stream",
          "name": "stdout",
          "text": [
            "1/1 [==============================] - 0s 24ms/step\n"
          ]
        },
        {
          "output_type": "stream",
          "name": "stderr",
          "text": [
            "\r 74%|███████▍  | 292/393 [01:13<00:26,  3.78it/s]"
          ]
        },
        {
          "output_type": "stream",
          "name": "stdout",
          "text": [
            "1/1 [==============================] - 0s 32ms/step\n"
          ]
        },
        {
          "output_type": "stream",
          "name": "stderr",
          "text": [
            "\r 75%|███████▍  | 293/393 [01:13<00:25,  3.91it/s]"
          ]
        },
        {
          "output_type": "stream",
          "name": "stdout",
          "text": [
            "1/1 [==============================] - 0s 40ms/step\n"
          ]
        },
        {
          "output_type": "stream",
          "name": "stderr",
          "text": [
            "\r 75%|███████▍  | 294/393 [01:13<00:26,  3.71it/s]"
          ]
        },
        {
          "output_type": "stream",
          "name": "stdout",
          "text": [
            "1/1 [==============================] - 0s 37ms/step\n"
          ]
        },
        {
          "output_type": "stream",
          "name": "stderr",
          "text": [
            "\r 75%|███████▌  | 295/393 [01:13<00:26,  3.67it/s]"
          ]
        },
        {
          "output_type": "stream",
          "name": "stdout",
          "text": [
            "1/1 [==============================] - 0s 39ms/step\n"
          ]
        },
        {
          "output_type": "stream",
          "name": "stderr",
          "text": [
            "\r 75%|███████▌  | 296/393 [01:14<00:25,  3.76it/s]"
          ]
        },
        {
          "output_type": "stream",
          "name": "stdout",
          "text": [
            "1/1 [==============================] - 0s 35ms/step\n"
          ]
        },
        {
          "output_type": "stream",
          "name": "stderr",
          "text": [
            "\r 76%|███████▌  | 297/393 [01:14<00:25,  3.76it/s]"
          ]
        },
        {
          "output_type": "stream",
          "name": "stdout",
          "text": [
            "1/1 [==============================] - 0s 32ms/step\n"
          ]
        },
        {
          "output_type": "stream",
          "name": "stderr",
          "text": [
            "\r 76%|███████▌  | 298/393 [01:14<00:24,  3.85it/s]"
          ]
        },
        {
          "output_type": "stream",
          "name": "stdout",
          "text": [
            "1/1 [==============================] - 0s 25ms/step\n"
          ]
        },
        {
          "output_type": "stream",
          "name": "stderr",
          "text": [
            "\r 76%|███████▌  | 299/393 [01:14<00:24,  3.90it/s]"
          ]
        },
        {
          "output_type": "stream",
          "name": "stdout",
          "text": [
            "1/1 [==============================] - 0s 23ms/step\n"
          ]
        },
        {
          "output_type": "stream",
          "name": "stderr",
          "text": [
            "\r 76%|███████▋  | 300/393 [01:15<00:23,  3.97it/s]"
          ]
        },
        {
          "output_type": "stream",
          "name": "stdout",
          "text": [
            "1/1 [==============================] - 0s 31ms/step\n"
          ]
        },
        {
          "output_type": "stream",
          "name": "stderr",
          "text": [
            "\r 77%|███████▋  | 301/393 [01:15<00:22,  4.07it/s]"
          ]
        },
        {
          "output_type": "stream",
          "name": "stdout",
          "text": [
            "1/1 [==============================] - 0s 31ms/step\n"
          ]
        },
        {
          "output_type": "stream",
          "name": "stderr",
          "text": [
            "\r 77%|███████▋  | 302/393 [01:15<00:22,  4.04it/s]"
          ]
        },
        {
          "output_type": "stream",
          "name": "stdout",
          "text": [
            "1/1 [==============================] - 0s 29ms/step\n"
          ]
        },
        {
          "output_type": "stream",
          "name": "stderr",
          "text": [
            "\r 77%|███████▋  | 303/393 [01:15<00:23,  3.84it/s]"
          ]
        },
        {
          "output_type": "stream",
          "name": "stdout",
          "text": [
            "1/1 [==============================] - 0s 32ms/step\n"
          ]
        },
        {
          "output_type": "stream",
          "name": "stderr",
          "text": [
            "\r 77%|███████▋  | 304/393 [01:16<00:23,  3.84it/s]"
          ]
        },
        {
          "output_type": "stream",
          "name": "stdout",
          "text": [
            "1/1 [==============================] - 0s 28ms/step\n"
          ]
        },
        {
          "output_type": "stream",
          "name": "stderr",
          "text": [
            "\r 78%|███████▊  | 305/393 [01:16<00:22,  3.89it/s]"
          ]
        },
        {
          "output_type": "stream",
          "name": "stdout",
          "text": [
            "1/1 [==============================] - 0s 31ms/step\n"
          ]
        },
        {
          "output_type": "stream",
          "name": "stderr",
          "text": [
            "\r 78%|███████▊  | 306/393 [01:16<00:22,  3.90it/s]"
          ]
        },
        {
          "output_type": "stream",
          "name": "stdout",
          "text": [
            "1/1 [==============================] - 0s 30ms/step\n"
          ]
        },
        {
          "output_type": "stream",
          "name": "stderr",
          "text": [
            "\r 78%|███████▊  | 307/393 [01:16<00:22,  3.90it/s]"
          ]
        },
        {
          "output_type": "stream",
          "name": "stdout",
          "text": [
            "1/1 [==============================] - 0s 30ms/step\n"
          ]
        },
        {
          "output_type": "stream",
          "name": "stderr",
          "text": [
            "\r 78%|███████▊  | 308/393 [01:17<00:21,  3.94it/s]"
          ]
        },
        {
          "output_type": "stream",
          "name": "stdout",
          "text": [
            "1/1 [==============================] - 0s 37ms/step\n"
          ]
        },
        {
          "output_type": "stream",
          "name": "stderr",
          "text": [
            "\r 79%|███████▊  | 309/393 [01:17<00:21,  3.86it/s]"
          ]
        },
        {
          "output_type": "stream",
          "name": "stdout",
          "text": [
            "1/1 [==============================] - 0s 29ms/step\n"
          ]
        },
        {
          "output_type": "stream",
          "name": "stderr",
          "text": [
            "\r 79%|███████▉  | 310/393 [01:17<00:21,  3.93it/s]"
          ]
        },
        {
          "output_type": "stream",
          "name": "stdout",
          "text": [
            "1/1 [==============================] - 0s 30ms/step\n"
          ]
        },
        {
          "output_type": "stream",
          "name": "stderr",
          "text": [
            "\r 79%|███████▉  | 311/393 [01:18<00:22,  3.65it/s]"
          ]
        },
        {
          "output_type": "stream",
          "name": "stdout",
          "text": [
            "1/1 [==============================] - 0s 31ms/step\n"
          ]
        },
        {
          "output_type": "stream",
          "name": "stderr",
          "text": [
            "\r 79%|███████▉  | 312/393 [01:18<00:22,  3.64it/s]"
          ]
        },
        {
          "output_type": "stream",
          "name": "stdout",
          "text": [
            "1/1 [==============================] - 0s 25ms/step\n"
          ]
        },
        {
          "output_type": "stream",
          "name": "stderr",
          "text": [
            "\r 80%|███████▉  | 313/393 [01:18<00:22,  3.58it/s]"
          ]
        },
        {
          "output_type": "stream",
          "name": "stdout",
          "text": [
            "1/1 [==============================] - 0s 31ms/step\n"
          ]
        },
        {
          "output_type": "stream",
          "name": "stderr",
          "text": [
            "\r 80%|███████▉  | 314/393 [01:18<00:21,  3.67it/s]"
          ]
        },
        {
          "output_type": "stream",
          "name": "stdout",
          "text": [
            "1/1 [==============================] - 0s 29ms/step\n"
          ]
        },
        {
          "output_type": "stream",
          "name": "stderr",
          "text": [
            "\r 80%|████████  | 315/393 [01:19<00:21,  3.61it/s]"
          ]
        },
        {
          "output_type": "stream",
          "name": "stdout",
          "text": [
            "1/1 [==============================] - 0s 27ms/step\n"
          ]
        },
        {
          "output_type": "stream",
          "name": "stderr",
          "text": [
            "\r 80%|████████  | 316/393 [01:19<00:21,  3.61it/s]"
          ]
        },
        {
          "output_type": "stream",
          "name": "stdout",
          "text": [
            "1/1 [==============================] - 0s 34ms/step\n"
          ]
        },
        {
          "output_type": "stream",
          "name": "stderr",
          "text": [
            "\r 81%|████████  | 317/393 [01:19<00:20,  3.64it/s]"
          ]
        },
        {
          "output_type": "stream",
          "name": "stdout",
          "text": [
            "1/1 [==============================] - 0s 37ms/step\n"
          ]
        },
        {
          "output_type": "stream",
          "name": "stderr",
          "text": [
            "\r 81%|████████  | 318/393 [01:19<00:20,  3.67it/s]"
          ]
        },
        {
          "output_type": "stream",
          "name": "stdout",
          "text": [
            "1/1 [==============================] - 0s 26ms/step\n"
          ]
        },
        {
          "output_type": "stream",
          "name": "stderr",
          "text": [
            "\r 81%|████████  | 319/393 [01:20<00:19,  3.75it/s]"
          ]
        },
        {
          "output_type": "stream",
          "name": "stdout",
          "text": [
            "1/1 [==============================] - 0s 24ms/step\n"
          ]
        },
        {
          "output_type": "stream",
          "name": "stderr",
          "text": [
            "\r 81%|████████▏ | 320/393 [01:20<00:19,  3.81it/s]"
          ]
        },
        {
          "output_type": "stream",
          "name": "stdout",
          "text": [
            "1/1 [==============================] - 0s 31ms/step\n"
          ]
        },
        {
          "output_type": "stream",
          "name": "stderr",
          "text": [
            "\r 82%|████████▏ | 321/393 [01:20<00:19,  3.71it/s]"
          ]
        },
        {
          "output_type": "stream",
          "name": "stdout",
          "text": [
            "1/1 [==============================] - 0s 28ms/step\n"
          ]
        },
        {
          "output_type": "stream",
          "name": "stderr",
          "text": [
            "\r 82%|████████▏ | 322/393 [01:21<00:19,  3.63it/s]"
          ]
        },
        {
          "output_type": "stream",
          "name": "stdout",
          "text": [
            "1/1 [==============================] - 0s 24ms/step\n"
          ]
        },
        {
          "output_type": "stream",
          "name": "stderr",
          "text": [
            "\r 82%|████████▏ | 323/393 [01:21<00:18,  3.76it/s]"
          ]
        },
        {
          "output_type": "stream",
          "name": "stdout",
          "text": [
            "1/1 [==============================] - 0s 35ms/step\n"
          ]
        },
        {
          "output_type": "stream",
          "name": "stderr",
          "text": [
            "\r 82%|████████▏ | 324/393 [01:21<00:18,  3.71it/s]"
          ]
        },
        {
          "output_type": "stream",
          "name": "stdout",
          "text": [
            "1/1 [==============================] - 0s 40ms/step\n"
          ]
        },
        {
          "output_type": "stream",
          "name": "stderr",
          "text": [
            "\r 83%|████████▎ | 325/393 [01:21<00:18,  3.76it/s]"
          ]
        },
        {
          "output_type": "stream",
          "name": "stdout",
          "text": [
            "1/1 [==============================] - 0s 25ms/step\n"
          ]
        },
        {
          "output_type": "stream",
          "name": "stderr",
          "text": [
            "\r 83%|████████▎ | 326/393 [01:22<00:17,  3.73it/s]"
          ]
        },
        {
          "output_type": "stream",
          "name": "stdout",
          "text": [
            "1/1 [==============================] - 0s 35ms/step\n"
          ]
        },
        {
          "output_type": "stream",
          "name": "stderr",
          "text": [
            "\r 83%|████████▎ | 327/393 [01:22<00:17,  3.84it/s]"
          ]
        },
        {
          "output_type": "stream",
          "name": "stdout",
          "text": [
            "1/1 [==============================] - 0s 32ms/step\n"
          ]
        },
        {
          "output_type": "stream",
          "name": "stderr",
          "text": [
            "\r 83%|████████▎ | 328/393 [01:22<00:16,  3.96it/s]"
          ]
        },
        {
          "output_type": "stream",
          "name": "stdout",
          "text": [
            "1/1 [==============================] - 0s 31ms/step\n"
          ]
        },
        {
          "output_type": "stream",
          "name": "stderr",
          "text": [
            "\r 84%|████████▎ | 329/393 [01:22<00:16,  3.86it/s]"
          ]
        },
        {
          "output_type": "stream",
          "name": "stdout",
          "text": [
            "1/1 [==============================] - 0s 29ms/step\n"
          ]
        },
        {
          "output_type": "stream",
          "name": "stderr",
          "text": [
            "\r 84%|████████▍ | 330/393 [01:23<00:16,  3.77it/s]"
          ]
        },
        {
          "output_type": "stream",
          "name": "stdout",
          "text": [
            "1/1 [==============================] - 0s 32ms/step\n"
          ]
        },
        {
          "output_type": "stream",
          "name": "stderr",
          "text": [
            "\r 84%|████████▍ | 331/393 [01:23<00:17,  3.64it/s]"
          ]
        },
        {
          "output_type": "stream",
          "name": "stdout",
          "text": [
            "1/1 [==============================] - 0s 24ms/step\n"
          ]
        },
        {
          "output_type": "stream",
          "name": "stderr",
          "text": [
            "\r 84%|████████▍ | 332/393 [01:23<00:16,  3.78it/s]"
          ]
        },
        {
          "output_type": "stream",
          "name": "stdout",
          "text": [
            "1/1 [==============================] - 0s 22ms/step\n"
          ]
        },
        {
          "output_type": "stream",
          "name": "stderr",
          "text": [
            "\r 85%|████████▍ | 333/393 [01:23<00:15,  3.77it/s]"
          ]
        },
        {
          "output_type": "stream",
          "name": "stdout",
          "text": [
            "1/1 [==============================] - 0s 26ms/step\n"
          ]
        },
        {
          "output_type": "stream",
          "name": "stderr",
          "text": [
            "\r 85%|████████▍ | 334/393 [01:24<00:15,  3.74it/s]"
          ]
        },
        {
          "output_type": "stream",
          "name": "stdout",
          "text": [
            "1/1 [==============================] - 0s 30ms/step\n"
          ]
        },
        {
          "output_type": "stream",
          "name": "stderr",
          "text": [
            "\r 85%|████████▌ | 335/393 [01:24<00:15,  3.83it/s]"
          ]
        },
        {
          "output_type": "stream",
          "name": "stdout",
          "text": [
            "1/1 [==============================] - 0s 30ms/step\n"
          ]
        },
        {
          "output_type": "stream",
          "name": "stderr",
          "text": [
            "\r 85%|████████▌ | 336/393 [01:24<00:15,  3.79it/s]"
          ]
        },
        {
          "output_type": "stream",
          "name": "stdout",
          "text": [
            "1/1 [==============================] - 0s 26ms/step\n"
          ]
        },
        {
          "output_type": "stream",
          "name": "stderr",
          "text": [
            "\r 86%|████████▌ | 337/393 [01:24<00:14,  3.87it/s]"
          ]
        },
        {
          "output_type": "stream",
          "name": "stdout",
          "text": [
            "1/1 [==============================] - 0s 28ms/step\n"
          ]
        },
        {
          "output_type": "stream",
          "name": "stderr",
          "text": [
            "\r 86%|████████▌ | 338/393 [01:25<00:14,  3.90it/s]"
          ]
        },
        {
          "output_type": "stream",
          "name": "stdout",
          "text": [
            "1/1 [==============================] - 0s 26ms/step\n"
          ]
        },
        {
          "output_type": "stream",
          "name": "stderr",
          "text": [
            "\r 86%|████████▋ | 339/393 [01:25<00:13,  3.96it/s]"
          ]
        },
        {
          "output_type": "stream",
          "name": "stdout",
          "text": [
            "1/1 [==============================] - 0s 31ms/step\n"
          ]
        },
        {
          "output_type": "stream",
          "name": "stderr",
          "text": [
            "\r 87%|████████▋ | 340/393 [01:25<00:13,  3.83it/s]"
          ]
        },
        {
          "output_type": "stream",
          "name": "stdout",
          "text": [
            "1/1 [==============================] - 0s 24ms/step\n"
          ]
        },
        {
          "output_type": "stream",
          "name": "stderr",
          "text": [
            "\r 87%|████████▋ | 341/393 [01:25<00:13,  3.98it/s]"
          ]
        },
        {
          "output_type": "stream",
          "name": "stdout",
          "text": [
            "1/1 [==============================] - 0s 26ms/step\n"
          ]
        },
        {
          "output_type": "stream",
          "name": "stderr",
          "text": [
            "\r 87%|████████▋ | 342/393 [01:26<00:12,  3.99it/s]"
          ]
        },
        {
          "output_type": "stream",
          "name": "stdout",
          "text": [
            "1/1 [==============================] - 0s 26ms/step\n"
          ]
        },
        {
          "output_type": "stream",
          "name": "stderr",
          "text": [
            "\r 87%|████████▋ | 343/393 [01:26<00:12,  4.02it/s]"
          ]
        },
        {
          "output_type": "stream",
          "name": "stdout",
          "text": [
            "1/1 [==============================] - 0s 30ms/step\n"
          ]
        },
        {
          "output_type": "stream",
          "name": "stderr",
          "text": [
            "\r 88%|████████▊ | 344/393 [01:26<00:12,  3.88it/s]"
          ]
        },
        {
          "output_type": "stream",
          "name": "stdout",
          "text": [
            "1/1 [==============================] - 0s 32ms/step\n"
          ]
        },
        {
          "output_type": "stream",
          "name": "stderr",
          "text": [
            "\r 88%|████████▊ | 345/393 [01:26<00:12,  3.97it/s]"
          ]
        },
        {
          "output_type": "stream",
          "name": "stdout",
          "text": [
            "1/1 [==============================] - 0s 34ms/step\n"
          ]
        },
        {
          "output_type": "stream",
          "name": "stderr",
          "text": [
            "\r 88%|████████▊ | 346/393 [01:27<00:12,  3.89it/s]"
          ]
        },
        {
          "output_type": "stream",
          "name": "stdout",
          "text": [
            "1/1 [==============================] - 0s 33ms/step\n"
          ]
        },
        {
          "output_type": "stream",
          "name": "stderr",
          "text": [
            "\r 88%|████████▊ | 347/393 [01:27<00:11,  3.89it/s]"
          ]
        },
        {
          "output_type": "stream",
          "name": "stdout",
          "text": [
            "1/1 [==============================] - 0s 31ms/step\n"
          ]
        },
        {
          "output_type": "stream",
          "name": "stderr",
          "text": [
            "\r 89%|████████▊ | 348/393 [01:27<00:11,  3.92it/s]"
          ]
        },
        {
          "output_type": "stream",
          "name": "stdout",
          "text": [
            "1/1 [==============================] - 0s 27ms/step\n"
          ]
        },
        {
          "output_type": "stream",
          "name": "stderr",
          "text": [
            "\r 89%|████████▉ | 349/393 [01:27<00:10,  4.05it/s]"
          ]
        },
        {
          "output_type": "stream",
          "name": "stdout",
          "text": [
            "1/1 [==============================] - 0s 30ms/step\n"
          ]
        },
        {
          "output_type": "stream",
          "name": "stderr",
          "text": [
            "\r 89%|████████▉ | 350/393 [01:28<00:10,  3.99it/s]"
          ]
        },
        {
          "output_type": "stream",
          "name": "stdout",
          "text": [
            "1/1 [==============================] - 0s 29ms/step\n"
          ]
        },
        {
          "output_type": "stream",
          "name": "stderr",
          "text": [
            "\r 89%|████████▉ | 351/393 [01:28<00:10,  3.96it/s]"
          ]
        },
        {
          "output_type": "stream",
          "name": "stdout",
          "text": [
            "1/1 [==============================] - 0s 29ms/step\n"
          ]
        },
        {
          "output_type": "stream",
          "name": "stderr",
          "text": [
            "\r 90%|████████▉ | 352/393 [01:28<00:10,  3.99it/s]"
          ]
        },
        {
          "output_type": "stream",
          "name": "stdout",
          "text": [
            "1/1 [==============================] - 0s 30ms/step\n"
          ]
        },
        {
          "output_type": "stream",
          "name": "stderr",
          "text": [
            "\r 90%|████████▉ | 353/393 [01:29<00:10,  3.87it/s]"
          ]
        },
        {
          "output_type": "stream",
          "name": "stdout",
          "text": [
            "1/1 [==============================] - 0s 23ms/step\n"
          ]
        },
        {
          "output_type": "stream",
          "name": "stderr",
          "text": [
            "\r 90%|█████████ | 354/393 [01:29<00:10,  3.84it/s]"
          ]
        },
        {
          "output_type": "stream",
          "name": "stdout",
          "text": [
            "1/1 [==============================] - 0s 26ms/step\n"
          ]
        },
        {
          "output_type": "stream",
          "name": "stderr",
          "text": [
            "\r 90%|█████████ | 355/393 [01:29<00:09,  3.81it/s]"
          ]
        },
        {
          "output_type": "stream",
          "name": "stdout",
          "text": [
            "1/1 [==============================] - 0s 26ms/step\n"
          ]
        },
        {
          "output_type": "stream",
          "name": "stderr",
          "text": [
            "\r 91%|█████████ | 356/393 [01:29<00:09,  3.89it/s]"
          ]
        },
        {
          "output_type": "stream",
          "name": "stdout",
          "text": [
            "1/1 [==============================] - 0s 23ms/step\n"
          ]
        },
        {
          "output_type": "stream",
          "name": "stderr",
          "text": [
            "\r 91%|█████████ | 357/393 [01:30<00:09,  3.94it/s]"
          ]
        },
        {
          "output_type": "stream",
          "name": "stdout",
          "text": [
            "1/1 [==============================] - 0s 24ms/step\n"
          ]
        },
        {
          "output_type": "stream",
          "name": "stderr",
          "text": [
            "\r 91%|█████████ | 358/393 [01:30<00:08,  3.96it/s]"
          ]
        },
        {
          "output_type": "stream",
          "name": "stdout",
          "text": [
            "1/1 [==============================] - 0s 25ms/step\n"
          ]
        },
        {
          "output_type": "stream",
          "name": "stderr",
          "text": [
            "\r 91%|█████████▏| 359/393 [01:30<00:08,  3.90it/s]"
          ]
        },
        {
          "output_type": "stream",
          "name": "stdout",
          "text": [
            "1/1 [==============================] - 0s 31ms/step\n"
          ]
        },
        {
          "output_type": "stream",
          "name": "stderr",
          "text": [
            "\r 92%|█████████▏| 360/393 [01:30<00:08,  3.93it/s]"
          ]
        },
        {
          "output_type": "stream",
          "name": "stdout",
          "text": [
            "1/1 [==============================] - 0s 33ms/step\n"
          ]
        },
        {
          "output_type": "stream",
          "name": "stderr",
          "text": [
            "\r 92%|█████████▏| 361/393 [01:31<00:08,  3.96it/s]"
          ]
        },
        {
          "output_type": "stream",
          "name": "stdout",
          "text": [
            "1/1 [==============================] - 0s 33ms/step\n"
          ]
        },
        {
          "output_type": "stream",
          "name": "stderr",
          "text": [
            "\r 92%|█████████▏| 362/393 [01:31<00:07,  3.91it/s]"
          ]
        },
        {
          "output_type": "stream",
          "name": "stdout",
          "text": [
            "1/1 [==============================] - 0s 24ms/step\n"
          ]
        },
        {
          "output_type": "stream",
          "name": "stderr",
          "text": [
            "\r 92%|█████████▏| 363/393 [01:31<00:07,  3.91it/s]"
          ]
        },
        {
          "output_type": "stream",
          "name": "stdout",
          "text": [
            "1/1 [==============================] - 0s 31ms/step\n"
          ]
        },
        {
          "output_type": "stream",
          "name": "stderr",
          "text": [
            "\r 93%|█████████▎| 364/393 [01:31<00:07,  4.02it/s]"
          ]
        },
        {
          "output_type": "stream",
          "name": "stdout",
          "text": [
            "1/1 [==============================] - 0s 34ms/step\n"
          ]
        },
        {
          "output_type": "stream",
          "name": "stderr",
          "text": [
            "\r 93%|█████████▎| 365/393 [01:32<00:07,  3.87it/s]"
          ]
        },
        {
          "output_type": "stream",
          "name": "stdout",
          "text": [
            "1/1 [==============================] - 0s 26ms/step\n"
          ]
        },
        {
          "output_type": "stream",
          "name": "stderr",
          "text": [
            "\r 93%|█████████▎| 366/393 [01:32<00:06,  3.88it/s]"
          ]
        },
        {
          "output_type": "stream",
          "name": "stdout",
          "text": [
            "1/1 [==============================] - 0s 30ms/step\n"
          ]
        },
        {
          "output_type": "stream",
          "name": "stderr",
          "text": [
            "\r 93%|█████████▎| 367/393 [01:32<00:07,  3.70it/s]"
          ]
        },
        {
          "output_type": "stream",
          "name": "stdout",
          "text": [
            "1/1 [==============================] - 0s 32ms/step\n"
          ]
        },
        {
          "output_type": "stream",
          "name": "stderr",
          "text": [
            "\r 94%|█████████▎| 368/393 [01:32<00:06,  3.86it/s]"
          ]
        },
        {
          "output_type": "stream",
          "name": "stdout",
          "text": [
            "1/1 [==============================] - 0s 31ms/step\n"
          ]
        },
        {
          "output_type": "stream",
          "name": "stderr",
          "text": [
            "\r 94%|█████████▍| 369/393 [01:33<00:06,  3.92it/s]"
          ]
        },
        {
          "output_type": "stream",
          "name": "stdout",
          "text": [
            "1/1 [==============================] - 0s 23ms/step\n"
          ]
        },
        {
          "output_type": "stream",
          "name": "stderr",
          "text": [
            "\r 94%|█████████▍| 370/393 [01:33<00:05,  3.86it/s]"
          ]
        },
        {
          "output_type": "stream",
          "name": "stdout",
          "text": [
            "1/1 [==============================] - 0s 24ms/step\n"
          ]
        },
        {
          "output_type": "stream",
          "name": "stderr",
          "text": [
            "\r 94%|█████████▍| 371/393 [01:33<00:05,  3.85it/s]"
          ]
        },
        {
          "output_type": "stream",
          "name": "stdout",
          "text": [
            "1/1 [==============================] - 0s 26ms/step\n"
          ]
        },
        {
          "output_type": "stream",
          "name": "stderr",
          "text": [
            "\r 95%|█████████▍| 372/393 [01:33<00:05,  3.91it/s]"
          ]
        },
        {
          "output_type": "stream",
          "name": "stdout",
          "text": [
            "1/1 [==============================] - 0s 28ms/step\n"
          ]
        },
        {
          "output_type": "stream",
          "name": "stderr",
          "text": [
            "\r 95%|█████████▍| 373/393 [01:34<00:05,  3.95it/s]"
          ]
        },
        {
          "output_type": "stream",
          "name": "stdout",
          "text": [
            "1/1 [==============================] - 0s 35ms/step\n"
          ]
        },
        {
          "output_type": "stream",
          "name": "stderr",
          "text": [
            "\r 95%|█████████▌| 374/393 [01:34<00:04,  3.93it/s]"
          ]
        },
        {
          "output_type": "stream",
          "name": "stdout",
          "text": [
            "1/1 [==============================] - 0s 39ms/step\n"
          ]
        },
        {
          "output_type": "stream",
          "name": "stderr",
          "text": [
            "\r 95%|█████████▌| 375/393 [01:34<00:04,  3.91it/s]"
          ]
        },
        {
          "output_type": "stream",
          "name": "stdout",
          "text": [
            "1/1 [==============================] - 0s 26ms/step\n"
          ]
        },
        {
          "output_type": "stream",
          "name": "stderr",
          "text": [
            "\r 96%|█████████▌| 376/393 [01:34<00:04,  3.98it/s]"
          ]
        },
        {
          "output_type": "stream",
          "name": "stdout",
          "text": [
            "1/1 [==============================] - 0s 29ms/step\n"
          ]
        },
        {
          "output_type": "stream",
          "name": "stderr",
          "text": [
            "\r 96%|█████████▌| 377/393 [01:35<00:04,  3.79it/s]"
          ]
        },
        {
          "output_type": "stream",
          "name": "stdout",
          "text": [
            "1/1 [==============================] - 0s 25ms/step\n"
          ]
        },
        {
          "output_type": "stream",
          "name": "stderr",
          "text": [
            "\r 96%|█████████▌| 378/393 [01:35<00:03,  3.79it/s]"
          ]
        },
        {
          "output_type": "stream",
          "name": "stdout",
          "text": [
            "1/1 [==============================] - 0s 27ms/step\n"
          ]
        },
        {
          "output_type": "stream",
          "name": "stderr",
          "text": [
            "\r 96%|█████████▋| 379/393 [01:35<00:03,  3.80it/s]"
          ]
        },
        {
          "output_type": "stream",
          "name": "stdout",
          "text": [
            "1/1 [==============================] - 0s 24ms/step\n"
          ]
        },
        {
          "output_type": "stream",
          "name": "stderr",
          "text": [
            "\r 97%|█████████▋| 380/393 [01:36<00:03,  3.78it/s]"
          ]
        },
        {
          "output_type": "stream",
          "name": "stdout",
          "text": [
            "1/1 [==============================] - 0s 26ms/step\n"
          ]
        },
        {
          "output_type": "stream",
          "name": "stderr",
          "text": [
            "\r 97%|█████████▋| 381/393 [01:36<00:03,  3.96it/s]"
          ]
        },
        {
          "output_type": "stream",
          "name": "stdout",
          "text": [
            "1/1 [==============================] - 0s 26ms/step\n"
          ]
        },
        {
          "output_type": "stream",
          "name": "stderr",
          "text": [
            "\r 97%|█████████▋| 382/393 [01:36<00:02,  3.97it/s]"
          ]
        },
        {
          "output_type": "stream",
          "name": "stdout",
          "text": [
            "1/1 [==============================] - 0s 24ms/step\n"
          ]
        },
        {
          "output_type": "stream",
          "name": "stderr",
          "text": [
            "\r 97%|█████████▋| 383/393 [01:36<00:02,  4.06it/s]"
          ]
        },
        {
          "output_type": "stream",
          "name": "stdout",
          "text": [
            "1/1 [==============================] - 0s 24ms/step\n"
          ]
        },
        {
          "output_type": "stream",
          "name": "stderr",
          "text": [
            "\r 98%|█████████▊| 384/393 [01:36<00:02,  4.06it/s]"
          ]
        },
        {
          "output_type": "stream",
          "name": "stdout",
          "text": [
            "1/1 [==============================] - 0s 24ms/step\n"
          ]
        },
        {
          "output_type": "stream",
          "name": "stderr",
          "text": [
            "\r 98%|█████████▊| 385/393 [01:37<00:01,  4.00it/s]"
          ]
        },
        {
          "output_type": "stream",
          "name": "stdout",
          "text": [
            "1/1 [==============================] - 0s 25ms/step\n"
          ]
        },
        {
          "output_type": "stream",
          "name": "stderr",
          "text": [
            "\r 98%|█████████▊| 386/393 [01:37<00:01,  4.01it/s]"
          ]
        },
        {
          "output_type": "stream",
          "name": "stdout",
          "text": [
            "1/1 [==============================] - 0s 24ms/step\n"
          ]
        },
        {
          "output_type": "stream",
          "name": "stderr",
          "text": [
            "\r 98%|█████████▊| 387/393 [01:37<00:01,  3.98it/s]"
          ]
        },
        {
          "output_type": "stream",
          "name": "stdout",
          "text": [
            "1/1 [==============================] - 0s 25ms/step\n"
          ]
        },
        {
          "output_type": "stream",
          "name": "stderr",
          "text": [
            "\r 99%|█████████▊| 388/393 [01:37<00:01,  4.02it/s]"
          ]
        },
        {
          "output_type": "stream",
          "name": "stdout",
          "text": [
            "1/1 [==============================] - 0s 33ms/step\n"
          ]
        },
        {
          "output_type": "stream",
          "name": "stderr",
          "text": [
            "\r 99%|█████████▉| 389/393 [01:38<00:00,  4.00it/s]"
          ]
        },
        {
          "output_type": "stream",
          "name": "stdout",
          "text": [
            "1/1 [==============================] - 0s 33ms/step\n"
          ]
        },
        {
          "output_type": "stream",
          "name": "stderr",
          "text": [
            "\r 99%|█████████▉| 390/393 [01:38<00:00,  3.97it/s]"
          ]
        },
        {
          "output_type": "stream",
          "name": "stdout",
          "text": [
            "1/1 [==============================] - 0s 27ms/step\n"
          ]
        },
        {
          "output_type": "stream",
          "name": "stderr",
          "text": [
            "\r 99%|█████████▉| 391/393 [01:38<00:00,  3.95it/s]"
          ]
        },
        {
          "output_type": "stream",
          "name": "stdout",
          "text": [
            "1/1 [==============================] - 0s 29ms/step\n"
          ]
        },
        {
          "output_type": "stream",
          "name": "stderr",
          "text": [
            "\r100%|█████████▉| 392/393 [01:39<00:00,  3.78it/s]"
          ]
        },
        {
          "output_type": "stream",
          "name": "stdout",
          "text": [
            "1/1 [==============================] - 0s 24ms/step\n"
          ]
        },
        {
          "output_type": "stream",
          "name": "stderr",
          "text": [
            "100%|██████████| 393/393 [01:39<00:00,  3.96it/s]\n"
          ]
        },
        {
          "output_type": "stream",
          "name": "stdout",
          "text": [
            "[MoviePy] Done.\n",
            "[MoviePy] >>>> Video ready: /content/drive/MyDrive/ds3project/static/video/stock1.mp4 \n",
            "\n"
          ]
        },
        {
          "output_type": "stream",
          "name": "stderr",
          "text": [
            "INFO:werkzeug:127.0.0.1 - - [05/Dec/2022 07:28:56] \"\u001b[37mPOST /submit HTTP/1.1\u001b[0m\" 200 -\n"
          ]
        }
      ]
    },
    {
      "cell_type": "markdown",
      "source": [],
      "metadata": {
        "id": "wwwMxcqVP2ZW"
      }
    }
  ]
}